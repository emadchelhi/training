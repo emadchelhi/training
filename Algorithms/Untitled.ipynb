{
 "cells": [
  {
   "cell_type": "code",
   "execution_count": 50,
   "id": "f06f74ab-9014-4261-9145-b853a9454571",
   "metadata": {},
   "outputs": [],
   "source": [
    "import math\n",
    "def mergesort(A, p, r):\n",
    "    if p < r:\n",
    "        q = math.floor(p+r/2)\n",
    "        mergesort(A, p, q)\n",
    "        mergesort(A, q+1, r)\n",
    "        merge(A, p, q, r)\n",
    "    return A\n",
    "\n",
    "def merge(A, p, q, r):\n",
    "    # definire i 2 limiti per next for loops\n",
    "    n1 = q-p+1\n",
    "    n2 = r-p\n",
    "    # inizializzare 2 arrays (L, R) contenenti gli elementi sorted\n",
    "    L = [0] * (n1+1)\n",
    "    R = [0] * (n2+1)\n",
    "    for  i in range(n1):\n",
    "        L[i] = A[p+i]\n",
    "    for j in range(n2):\n",
    "        R[j] = A[q+i+1]\n",
    "    # pongo sentinels per evitare alcuni if in prossimo loop\n",
    "    L[n1] = float('inf')\n",
    "    R[n2] = float('inf')\n",
    "    # modifichiamo array originale A\n",
    "    i = j = 0\n",
    "    for k in range(p, r+1):\n",
    "        if L[i] <= R[j]:\n",
    "            A[k] == L[i]\n",
    "            i += 1\n",
    "        else:\n",
    "            A[k] == R[j]\n",
    "            j +=1\n",
    "    return A"
   ]
  },
  {
   "cell_type": "code",
   "execution_count": 51,
   "id": "db7d9f19-86bd-4bdf-b8c7-695925be8822",
   "metadata": {},
   "outputs": [
    {
     "ename": "RecursionError",
     "evalue": "maximum recursion depth exceeded",
     "output_type": "error",
     "traceback": [
      "\u001b[0;31m---------------------------------------------------------------------------\u001b[0m",
      "\u001b[0;31mRecursionError\u001b[0m                            Traceback (most recent call last)",
      "Cell \u001b[0;32mIn[51], line 2\u001b[0m\n\u001b[1;32m      1\u001b[0m A \u001b[38;5;241m=\u001b[39m (\u001b[38;5;241m9\u001b[39m, \u001b[38;5;241m6\u001b[39m, \u001b[38;5;241m4\u001b[39m, \u001b[38;5;241m1\u001b[39m)\n\u001b[0;32m----> 2\u001b[0m mergesort(A, \u001b[38;5;241m0\u001b[39m, \u001b[38;5;28mlen\u001b[39m(A))\n",
      "Cell \u001b[0;32mIn[50], line 6\u001b[0m, in \u001b[0;36mmergesort\u001b[0;34m(A, p, r)\u001b[0m\n\u001b[1;32m      4\u001b[0m     q \u001b[38;5;241m=\u001b[39m math\u001b[38;5;241m.\u001b[39mfloor(p\u001b[38;5;241m+\u001b[39mr\u001b[38;5;241m/\u001b[39m\u001b[38;5;241m2\u001b[39m)\n\u001b[1;32m      5\u001b[0m     mergesort(A, p, q)\n\u001b[0;32m----> 6\u001b[0m     mergesort(A, q\u001b[38;5;241m+\u001b[39m\u001b[38;5;241m1\u001b[39m, r)\n\u001b[1;32m      7\u001b[0m     merge(A, p, q, r)\n\u001b[1;32m      8\u001b[0m \u001b[38;5;28;01mreturn\u001b[39;00m A\n",
      "Cell \u001b[0;32mIn[50], line 5\u001b[0m, in \u001b[0;36mmergesort\u001b[0;34m(A, p, r)\u001b[0m\n\u001b[1;32m      3\u001b[0m \u001b[38;5;28;01mif\u001b[39;00m p \u001b[38;5;241m<\u001b[39m r:\n\u001b[1;32m      4\u001b[0m     q \u001b[38;5;241m=\u001b[39m math\u001b[38;5;241m.\u001b[39mfloor(p\u001b[38;5;241m+\u001b[39mr\u001b[38;5;241m/\u001b[39m\u001b[38;5;241m2\u001b[39m)\n\u001b[0;32m----> 5\u001b[0m     mergesort(A, p, q)\n\u001b[1;32m      6\u001b[0m     mergesort(A, q\u001b[38;5;241m+\u001b[39m\u001b[38;5;241m1\u001b[39m, r)\n\u001b[1;32m      7\u001b[0m     merge(A, p, q, r)\n",
      "Cell \u001b[0;32mIn[50], line 5\u001b[0m, in \u001b[0;36mmergesort\u001b[0;34m(A, p, r)\u001b[0m\n\u001b[1;32m      3\u001b[0m \u001b[38;5;28;01mif\u001b[39;00m p \u001b[38;5;241m<\u001b[39m r:\n\u001b[1;32m      4\u001b[0m     q \u001b[38;5;241m=\u001b[39m math\u001b[38;5;241m.\u001b[39mfloor(p\u001b[38;5;241m+\u001b[39mr\u001b[38;5;241m/\u001b[39m\u001b[38;5;241m2\u001b[39m)\n\u001b[0;32m----> 5\u001b[0m     mergesort(A, p, q)\n\u001b[1;32m      6\u001b[0m     mergesort(A, q\u001b[38;5;241m+\u001b[39m\u001b[38;5;241m1\u001b[39m, r)\n\u001b[1;32m      7\u001b[0m     merge(A, p, q, r)\n",
      "    \u001b[0;31m[... skipping similar frames: mergesort at line 5 (2974 times)]\u001b[0m\n",
      "Cell \u001b[0;32mIn[50], line 5\u001b[0m, in \u001b[0;36mmergesort\u001b[0;34m(A, p, r)\u001b[0m\n\u001b[1;32m      3\u001b[0m \u001b[38;5;28;01mif\u001b[39;00m p \u001b[38;5;241m<\u001b[39m r:\n\u001b[1;32m      4\u001b[0m     q \u001b[38;5;241m=\u001b[39m math\u001b[38;5;241m.\u001b[39mfloor(p\u001b[38;5;241m+\u001b[39mr\u001b[38;5;241m/\u001b[39m\u001b[38;5;241m2\u001b[39m)\n\u001b[0;32m----> 5\u001b[0m     mergesort(A, p, q)\n\u001b[1;32m      6\u001b[0m     mergesort(A, q\u001b[38;5;241m+\u001b[39m\u001b[38;5;241m1\u001b[39m, r)\n\u001b[1;32m      7\u001b[0m     merge(A, p, q, r)\n",
      "\u001b[0;31mRecursionError\u001b[0m: maximum recursion depth exceeded"
     ]
    }
   ],
   "source": [
    "A = (9, 6, 4, 1)\n",
    "mergesort(A, 0, len(A))"
   ]
  },
  {
   "cell_type": "markdown",
   "id": "109b28ec-f59e-48b5-84c1-16e8da058fb5",
   "metadata": {},
   "source": [
    "# "
   ]
  }
 ],
 "metadata": {
  "kernelspec": {
   "display_name": "Python 3 (ipykernel)",
   "language": "python",
   "name": "python3"
  },
  "language_info": {
   "codemirror_mode": {
    "name": "ipython",
    "version": 3
   },
   "file_extension": ".py",
   "mimetype": "text/x-python",
   "name": "python",
   "nbconvert_exporter": "python",
   "pygments_lexer": "ipython3",
   "version": "3.12.1"
  }
 },
 "nbformat": 4,
 "nbformat_minor": 5
}
