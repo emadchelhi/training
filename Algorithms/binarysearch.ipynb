{
 "cells": [
  {
   "cell_type": "code",
   "execution_count": 3,
   "id": "af9937f3-6882-4614-a9d4-7292e4363ae5",
   "metadata": {},
   "outputs": [],
   "source": [
    "def binarysearch(A,p,r,key):\n",
    "    if p>r:\n",
    "        return False\n",
    "    else:\n",
    "        q=(p+r)//2\n",
    "        if A[q] == key:\n",
    "            return True\n",
    "        elif A[q] > key:\n",
    "            return binarysearch(A,p,q-1,key)\n",
    "        else:\n",
    "            return binarysearch(A,q+1,r,key)"
   ]
  },
  {
   "cell_type": "code",
   "execution_count": 26,
   "id": "647245ee-1139-4976-b379-204387d8b589",
   "metadata": {},
   "outputs": [
    {
     "data": {
      "text/plain": [
       "True"
      ]
     },
     "execution_count": 26,
     "metadata": {},
     "output_type": "execute_result"
    }
   ],
   "source": [
    "A = [1,2,3,4,5,50]\n",
    "binarysearch(A,0, len(A)-1, 50)"
   ]
  },
  {
   "cell_type": "code",
   "execution_count": null,
   "id": "74c7e699-d5c0-48cb-b030-de51a62a2b3b",
   "metadata": {},
   "outputs": [],
   "source": []
  },
  {
   "cell_type": "code",
   "execution_count": null,
   "id": "372f7b0b-89cb-4218-970c-7c98a897b705",
   "metadata": {},
   "outputs": [],
   "source": []
  }
 ],
 "metadata": {
  "kernelspec": {
   "display_name": "Python 3 (ipykernel)",
   "language": "python",
   "name": "python3"
  },
  "language_info": {
   "codemirror_mode": {
    "name": "ipython",
    "version": 3
   },
   "file_extension": ".py",
   "mimetype": "text/x-python",
   "name": "python",
   "nbconvert_exporter": "python",
   "pygments_lexer": "ipython3",
   "version": "3.12.1"
  }
 },
 "nbformat": 4,
 "nbformat_minor": 5
}
