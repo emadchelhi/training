{
 "cells": [
  {
   "cell_type": "code",
   "execution_count": 10,
   "id": "551e4510-36c9-4de1-8713-70aecc538108",
   "metadata": {},
   "outputs": [
    {
     "data": {
      "text/plain": [
       "[1, 2, 3, 4, 5, 6]"
      ]
     },
     "execution_count": 10,
     "metadata": {},
     "output_type": "execute_result"
    }
   ],
   "source": [
    "def selection_sort(A):\n",
    "    for i in range(0, len(A)):\n",
    "        min_pos = i\n",
    "        for j in range(i+1, len(A)):\n",
    "            if A[j] < A[min_pos]:\n",
    "                min_pos = j\n",
    "        A[i], A[min_pos] = A[min_pos], A[i]\n",
    "    return(A)\n",
    "    \n",
    "A=[5,2,4,1,6,3]\n",
    "selection_sort(A)"
   ]
  }
 ],
 "metadata": {
  "kernelspec": {
   "display_name": "Python 3 (ipykernel)",
   "language": "python",
   "name": "python3"
  },
  "language_info": {
   "codemirror_mode": {
    "name": "ipython",
    "version": 3
   },
   "file_extension": ".py",
   "mimetype": "text/x-python",
   "name": "python",
   "nbconvert_exporter": "python",
   "pygments_lexer": "ipython3",
   "version": "3.12.2"
  }
 },
 "nbformat": 4,
 "nbformat_minor": 5
}
