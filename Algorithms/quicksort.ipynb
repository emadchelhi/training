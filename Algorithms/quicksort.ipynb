{
 "cells": [
  {
   "cell_type": "code",
   "execution_count": 7,
   "id": "ba182cc1-d3eb-4d3a-b719-19db024b3e15",
   "metadata": {},
   "outputs": [],
   "source": [
    "def quicksort(A,p,r):\n",
    "    if p < r:\n",
    "        q = partition(A,p,r)\n",
    "        quicksort(A,p,q-1)\n",
    "        quicksort(A,q+1,r)\n",
    "    return A\n",
    "\n",
    "def partition(A,p,r):\n",
    "    x = A[r]\n",
    "    i = p - 1\n",
    "    for j in range(p, r):\n",
    "        if A[j] <= x:\n",
    "            i += 1\n",
    "            A[i], A[j] = A[j], A[i]\n",
    "    A[i+1], A[r] = A[r], A[i+1]\n",
    "    return i + 1"
   ]
  },
  {
   "cell_type": "code",
   "execution_count": 8,
   "id": "a99356bb-774a-4eed-985f-3c83e6beae39",
   "metadata": {},
   "outputs": [
    {
     "name": "stdout",
     "output_type": "stream",
     "text": [
      "[2, 3, 6, 7, 9]\n"
     ]
    }
   ],
   "source": [
    "A = [2, 6, 9, 3, 7]\n",
    "quicksort(A, 0, len(A)-1)\n",
    "print(A)"
   ]
  }
 ],
 "metadata": {
  "kernelspec": {
   "display_name": "Python 3 (ipykernel)",
   "language": "python",
   "name": "python3"
  },
  "language_info": {
   "codemirror_mode": {
    "name": "ipython",
    "version": 3
   },
   "file_extension": ".py",
   "mimetype": "text/x-python",
   "name": "python",
   "nbconvert_exporter": "python",
   "pygments_lexer": "ipython3",
   "version": "3.12.1"
  }
 },
 "nbformat": 4,
 "nbformat_minor": 5
}
