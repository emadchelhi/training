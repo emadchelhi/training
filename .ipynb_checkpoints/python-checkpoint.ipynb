{
 "cells": [
  {
   "cell_type": "code",
   "execution_count": 1,
   "metadata": {
    "colab": {
     "base_uri": "https://localhost:8080/"
    },
    "id": "8l8aNK953-Dj",
    "outputId": "12a7a9fc-e347-4932-d23c-745add20d748"
   },
   "outputs": [
    {
     "name": "stdout",
     "output_type": "stream",
     "text": [
      "1\n"
     ]
    }
   ],
   "source": [
    "a=1\n",
    "b=3\n",
    "\n",
    "c=a**b\n",
    "print(c)"
   ]
  },
  {
   "cell_type": "code",
   "execution_count": 2,
   "metadata": {
    "colab": {
     "base_uri": "https://localhost:8080/"
    },
    "id": "RtJtgvV64Ig1",
    "outputId": "759b9ec8-4be7-4b39-ae20-46173b98ab65"
   },
   "outputs": [
    {
     "name": "stdout",
     "output_type": "stream",
     "text": [
      "hello hello world world world \n"
     ]
    }
   ],
   "source": [
    "print(2*\"hello \" + 3*\"world \")"
   ]
  },
  {
   "cell_type": "code",
   "execution_count": 3,
   "metadata": {
    "colab": {
     "base_uri": "https://localhost:8080/"
    },
    "id": "Bk6xC0bi7r7l",
    "outputId": "2fabe9d4-9e5c-4025-b426-d94465f905d5"
   },
   "outputs": [
    {
     "name": "stdout",
     "output_type": "stream",
     "text": [
      "3\n"
     ]
    }
   ],
   "source": [
    "print(int(3.4))"
   ]
  },
  {
   "cell_type": "code",
   "execution_count": 11,
   "metadata": {
    "colab": {
     "base_uri": "https://localhost:8080/"
    },
    "id": "0KuLJG4i8cfr",
    "outputId": "43349996-7be7-43ec-9553-56c102b7e744"
   },
   "outputs": [
    {
     "name": "stdout",
     "output_type": "stream",
     "text": [
      "3.45\n"
     ]
    }
   ],
   "source": [
    "print(float(3.45))"
   ]
  },
  {
   "cell_type": "code",
   "execution_count": 12,
   "metadata": {
    "colab": {
     "base_uri": "https://localhost:8080/"
    },
    "id": "g6nf_GEM8fWR",
    "outputId": "82a54ae2-e2a4-4409-b4ff-731d774b4080"
   },
   "outputs": [
    {
     "name": "stdout",
     "output_type": "stream",
     "text": [
      "3.4\n"
     ]
    }
   ],
   "source": [
    "print(str(3.4))"
   ]
  },
  {
   "cell_type": "code",
   "execution_count": 13,
   "metadata": {
    "colab": {
     "base_uri": "https://localhost:8080/"
    },
    "id": "ndRIfXEW8h35",
    "outputId": "373fdaf5-874c-48cc-f981-1d250bd5c728"
   },
   "outputs": [
    {
     "name": "stdout",
     "output_type": "stream",
     "text": [
      "604800\n"
     ]
    }
   ],
   "source": [
    "weeklyseconds= 60*60*24*7\n",
    "print(weeklyseconds)"
   ]
  },
  {
   "cell_type": "code",
   "execution_count": 14,
   "metadata": {
    "colab": {
     "base_uri": "https://localhost:8080/",
     "height": 214
    },
    "id": "x4IHNp8RAupz",
    "outputId": "59ccc99b-c19e-4aaf-aa1a-b7478f091d44"
   },
   "outputs": [
    {
     "ename": "ZeroDivisionError",
     "evalue": "division by zero",
     "output_type": "error",
     "traceback": [
      "\u001b[0;31m---------------------------------------------------------------------------\u001b[0m",
      "\u001b[0;31mZeroDivisionError\u001b[0m                         Traceback (most recent call last)",
      "Cell \u001b[0;32mIn[14], line 3\u001b[0m\n\u001b[1;32m      1\u001b[0m z\u001b[38;5;241m=\u001b[39m\u001b[38;5;241m0\u001b[39m\n\u001b[1;32m      2\u001b[0m d\u001b[38;5;241m=\u001b[39m\u001b[38;5;241m0\u001b[39m\n\u001b[0;32m----> 3\u001b[0m c\u001b[38;5;241m=\u001b[39m\u001b[43mz\u001b[49m\u001b[38;5;241;43m/\u001b[39;49m\u001b[43md\u001b[49m\n",
      "\u001b[0;31mZeroDivisionError\u001b[0m: division by zero"
     ]
    }
   ],
   "source": [
    "z=0\n",
    "d=0\n",
    "c=z/d"
   ]
  },
  {
   "cell_type": "code",
   "execution_count": null,
   "metadata": {
    "colab": {
     "base_uri": "https://localhost:8080/"
    },
    "id": "MToicyXglvWv",
    "outputId": "bfd70bf6-a72c-4369-a42b-59e987fe87f2"
   },
   "outputs": [
    {
     "data": {
      "text/plain": [
       "8"
      ]
     },
     "execution_count": 1,
     "metadata": {},
     "output_type": "execute_result"
    }
   ],
   "source": [
    "round(7.5)\n",
    "# funzione round() arrotonta i numeri pari per difetto mentre i dispari per eccesso"
   ]
  },
  {
   "cell_type": "markdown",
   "metadata": {
    "id": "aM0DkF_xKjSM"
   },
   "source": [
    "## VARIABLES"
   ]
  },
  {
   "cell_type": "code",
   "execution_count": null,
   "metadata": {
    "colab": {
     "base_uri": "https://localhost:8080/"
    },
    "id": "dmyvgEPllvQf",
    "outputId": "d6515f49-b03e-4aff-a595-acfd12781915"
   },
   "outputs": [
    {
     "name": "stdout",
     "output_type": "stream",
     "text": [
      "select the n° of hours for the sound of the clock: 565\n",
      "3\n"
     ]
    }
   ],
   "source": [
    "a=int(input(\"select the n° of hours for the sound of the clock: \"))\n",
    "\n",
    "b = (14+a)%24\n",
    "print(b)"
   ]
  },
  {
   "cell_type": "code",
   "execution_count": null,
   "metadata": {
    "id": "OUTurPI6LSdg"
   },
   "outputs": [],
   "source": [
    "#esercizio nome variabili\n",
    "#classification = 1 va bene\n",
    "#Classification = 1 va bene MA solo lettere minuscole\n",
    "#cl@ssification = 1 ILLEGALE, solo lettere, underscores e cifre\n",
    "#class1f1cat10n = 1 va bene\n",
    "#1classification = 1 ILLEGALE, si inizia solo con lettere e underscores\n",
    "#_classification = 1 va bene MA meglio iniziare con lettere\n",
    "#class = 1 ILLEGALE, class è il nome di una funzione!\n",
    "#Class = 1 va bene MA lettera maiuscola no!\n"
   ]
  },
  {
   "cell_type": "code",
   "execution_count": null,
   "metadata": {
    "colab": {
     "base_uri": "https://localhost:8080/"
    },
    "id": "dtsNtQr6LSan",
    "outputId": "fa3462cd-4ded-4896-967a-326d296a5d6a"
   },
   "outputs": [
    {
     "name": "stdout",
     "output_type": "stream",
     "text": [
      "5.0\n",
      "2.5\n",
      "1.6666666666666667\n",
      "8 4 5\n",
      "0\n"
     ]
    }
   ],
   "source": [
    "#esercizio errore debugging\n",
    "nr1 = 5\n",
    "nr2 = 4\n",
    "nr3 = 5\n",
    "print( nr3 / (nr1 % nr2) )\n",
    "nr1 = nr1 + 1\n",
    "print( nr3 / (nr1 % nr2) )\n",
    "nr1 = nr1 + 1\n",
    "print( nr3 / (nr1 % nr2) )\n",
    "nr1 = nr1 + 1\n",
    "print(nr1, nr2, nr3)\n",
    "print(nr1 % nr2)\n",
    "#print( nr3 / (nr1 % nr2) ) qui errore perché il denominatore è = 0"
   ]
  },
  {
   "cell_type": "code",
   "execution_count": null,
   "metadata": {
    "colab": {
     "base_uri": "https://localhost:8080/"
    },
    "id": "yT91OgAGR0yd",
    "outputId": "24b88073-9ef7-4ecc-b134-467d55a07336"
   },
   "outputs": [
    {
     "data": {
      "text/plain": [
       "str"
      ]
     },
     "execution_count": 18,
     "metadata": {},
     "output_type": "execute_result"
    }
   ],
   "source": [
    "type(\"1.6\")\n"
   ]
  },
  {
   "cell_type": "code",
   "execution_count": null,
   "metadata": {
    "colab": {
     "base_uri": "https://localhost:8080/",
     "height": 214
    },
    "id": "mzBUYfmSR0vm",
    "outputId": "e14e8b94-3a8a-4335-8a8d-fb8613b556fd"
   },
   "outputs": [
    {
     "ename": "TypeError",
     "evalue": "ignored",
     "output_type": "error",
     "traceback": [
      "\u001b[0;31m---------------------------------------------------------------------------\u001b[0m",
      "\u001b[0;31mTypeError\u001b[0m                                 Traceback (most recent call last)",
      "\u001b[0;32m<ipython-input-22-6f213d732979>\u001b[0m in \u001b[0;36m<cell line: 5>\u001b[0;34m()\u001b[0m\n\u001b[1;32m      3\u001b[0m \u001b[0mc\u001b[0m \u001b[0;34m=\u001b[0m \u001b[0;34m\"1\"\u001b[0m\u001b[0;34m\u001b[0m\u001b[0;34m\u001b[0m\u001b[0m\n\u001b[1;32m      4\u001b[0m \u001b[0md\u001b[0m \u001b[0;34m=\u001b[0m \u001b[0;34m\"4\"\u001b[0m\u001b[0;34m\u001b[0m\u001b[0;34m\u001b[0m\u001b[0m\n\u001b[0;32m----> 5\u001b[0;31m \u001b[0mprint\u001b[0m\u001b[0;34m(\u001b[0m \u001b[0ma\u001b[0m \u001b[0;34m+\u001b[0m \u001b[0mc\u001b[0m \u001b[0;34m)\u001b[0m\u001b[0;34m\u001b[0m\u001b[0;34m\u001b[0m\u001b[0m\n\u001b[0m",
      "\u001b[0;31mTypeError\u001b[0m: unsupported operand type(s) for +: 'int' and 'str'"
     ]
    }
   ],
   "source": [
    "a=1\n",
    "b=4\n",
    "c = \"1\"\n",
    "d = \"4\"\n",
    "print( a + c ) #non posso concatenare una str e un numero int o float che sia\n"
   ]
  },
  {
   "cell_type": "code",
   "execution_count": null,
   "metadata": {
    "colab": {
     "base_uri": "https://localhost:8080/"
    },
    "id": "HSNebbIHS3Ka",
    "outputId": "727404b1-76bb-4d45-a8d7-0575040d73c7"
   },
   "outputs": [
    {
     "name": "stdout",
     "output_type": "stream",
     "text": [
      "<class 'str'> <class 'int'>\n"
     ]
    }
   ],
   "source": [
    "a: int = \"1\"\n",
    "b: str = 4\n",
    "print( type(a), type(b) ) #c'è la possibilità di annotare il tipo ma per l'interprete sono solo annotazione, no hard typing come in C"
   ]
  },
  {
   "cell_type": "code",
   "execution_count": null,
   "metadata": {
    "colab": {
     "base_uri": "https://localhost:8080/"
    },
    "id": "zgbQ7Gj1S3G4",
    "outputId": "499b0b66-3a06-40c9-b568-ce5c40d54cf2"
   },
   "outputs": [
    {
     "name": "stdout",
     "output_type": "stream",
     "text": [
      "1.0\n"
     ]
    }
   ],
   "source": [
    "number_of_bananas = 100\n",
    "number_of_bananas += 12\n",
    "number_of_bananas -= 13\n",
    "number_of_bananas *= 19\n",
    "number_of_bananas /= number_of_bananas\n",
    "print( number_of_bananas )"
   ]
  },
  {
   "cell_type": "markdown",
   "metadata": {
    "id": "xjXOTr3GUvn_"
   },
   "source": [
    "Exercise 4.2 Write code that can compute the surface of circle,\n",
    "using the variables radius and pi = 3.14159. The formula,\n",
    "in case you do not know, is radius times radius times pi.\n",
    "Print the outcome of your program as follows: “The surface area of a circle with radius ... is ...\""
   ]
  },
  {
   "cell_type": "code",
   "execution_count": null,
   "metadata": {
    "colab": {
     "base_uri": "https://localhost:8080/"
    },
    "id": "fUkmWQaITSLR",
    "outputId": "7e61f65b-8d62-43eb-b032-084c694fcf51"
   },
   "outputs": [
    {
     "name": "stdout",
     "output_type": "stream",
     "text": [
      "The surface area of a circle with radius 5  is  78.53975\n"
     ]
    }
   ],
   "source": [
    "radius = 5\n",
    "pi = 3.14159\n",
    "surface_circle = radius * radius * pi\n",
    "print(\"The surface area of a circle with radius\", radius,\" is \",surface_circle)"
   ]
  },
  {
   "cell_type": "markdown",
   "metadata": {
    "id": "qZQAs2bJVfIi"
   },
   "source": [
    "Exercise 4.3 Write code that classifies a given amount of money (which you store in a variable named amount), specified in cents, as greater monetary units. Your code lists the monetary equivalent in dollars (100 ct), quarters (25 ct), dimes (10 ct), nickels (5 ct), and pennies (1 ct). Your program should report the maximum number of dollars that fit in the amount, then the maximum number of quarters that fit in the remainder after you subtract the dollars, then the maximum number of dimes that fit in the remainder after you subtract the dollars and quarters, and so on for nickels and pennies. The result is that you express the amount as the minimum number of coins needed."
   ]
  },
  {
   "cell_type": "code",
   "execution_count": null,
   "metadata": {
    "colab": {
     "base_uri": "https://localhost:8080/"
    },
    "id": "M0SVaNZJTSIV",
    "outputId": "d497724b-c29c-4a24-eb88-43e70158a779"
   },
   "outputs": [
    {
     "name": "stdout",
     "output_type": "stream",
     "text": [
      "dollars:  2 quarters:  1 dimes:  2 nickels:  0 pennies:  0\n"
     ]
    }
   ],
   "source": [
    "money_in_cents = 245\n",
    "dollars = money_in_cents//100\n",
    "rest_dollars = money_in_cents%100\n",
    "quarters = rest_dollars//25\n",
    "rest_quarters = rest_dollars%25\n",
    "dimes = rest_quarters//10\n",
    "rest_dimes = rest_quarters%10\n",
    "nickels = rest_dimes//5\n",
    "rest_nickels = rest_dimes%5\n",
    "pennies = rest_nickels\n",
    "\n",
    "print('dollars: ',dollars,'quarters: ',quarters,'dimes: ',dimes,'nickels: ',nickels,'pennies: ',pennies)"
   ]
  },
  {
   "cell_type": "markdown",
   "metadata": {
    "id": "p_9qKcrMo-NF"
   },
   "source": [
    "## SIMPLE FUNCTIONS\n"
   ]
  },
  {
   "cell_type": "code",
   "execution_count": null,
   "metadata": {
    "colab": {
     "base_uri": "https://localhost:8080/"
    },
    "id": "J9XUfy9Hc-82",
    "outputId": "05771a0b-7f06-49ad-a344-a59dc7822bcf"
   },
   "outputs": [
    {
     "name": "stdout",
     "output_type": "stream",
     "text": [
      "1000\n"
     ]
    }
   ],
   "source": [
    "print(10 * int(100.000000))\n"
   ]
  },
  {
   "cell_type": "code",
   "execution_count": null,
   "metadata": {
    "colab": {
     "base_uri": "https://localhost:8080/"
    },
    "id": "MO29WI4Bpu2b",
    "outputId": "71ba6745-2e0f-4b3a-ae53-8009c3babb6c"
   },
   "outputs": [
    {
     "data": {
      "text/plain": [
       "6"
      ]
     },
     "execution_count": 31,
     "metadata": {},
     "output_type": "execute_result"
    }
   ],
   "source": [
    "pow(2,4,10)"
   ]
  },
  {
   "cell_type": "markdown",
   "metadata": {
    "id": "Rfn6KQ28rWaE"
   },
   "source": [
    "the third parameter returns the modulo: il resto after la divisione con il parametro scelto.\n",
    "Se il paramentro è maggiore, il modulo è il dividendo stesso\n",
    "se è minore, modulo è il resto della divisione."
   ]
  },
  {
   "cell_type": "code",
   "execution_count": null,
   "metadata": {
    "colab": {
     "base_uri": "https://localhost:8080/"
    },
    "id": "-fnAnHt0rZhG",
    "outputId": "04407d00-4cbb-4ae3-9a8b-d6dc79420159"
   },
   "outputs": [
    {
     "name": "stdout",
     "output_type": "stream",
     "text": [
      "2\n",
      "3\n",
      "-2\n",
      "-8\n",
      "1.3\n"
     ]
    }
   ],
   "source": [
    "x = -2\n",
    "y=3\n",
    "z = 1.27\n",
    "print( abs( x ) )\n",
    "print( max( x, y, z ) )\n",
    "print( min( x, y, z ) )\n",
    "print( pow( x, y ) )\n",
    "print( round( z, 1 ) )"
   ]
  },
  {
   "cell_type": "code",
   "execution_count": null,
   "metadata": {
    "colab": {
     "base_uri": "https://localhost:8080/"
    },
    "id": "sZseXgUKr3Qb",
    "outputId": "3a06c0ba-9fd7-4945-a7cc-cf1268072702"
   },
   "outputs": [
    {
     "name": "stdout",
     "output_type": "stream",
     "text": [
      "3\n",
      "6\n",
      "0\n"
     ]
    }
   ],
   "source": [
    "print( len( 'can' ) )\n",
    "print( len('cannot'))\n",
    "print( len( \"\" ) ) # \"\" is an empty string\n"
   ]
  },
  {
   "cell_type": "code",
   "execution_count": null,
   "metadata": {
    "colab": {
     "base_uri": "https://localhost:8080/"
    },
    "id": "laZ3p6A9r9Rf",
    "outputId": "207d5d01-1a00-41ba-f6e2-02f4f23ba382"
   },
   "outputs": [
    {
     "name": "stdout",
     "output_type": "stream",
     "text": [
      "5\n"
     ]
    }
   ],
   "source": [
    "print( len( 'can\\'t' ) )"
   ]
  },
  {
   "cell_type": "markdown",
   "metadata": {
    "id": "vG1r0PQ0r_2-"
   },
   "source": [
    "\\ si può usare come escamotage per le virgolette!"
   ]
  },
  {
   "cell_type": "markdown",
   "metadata": {
    "id": "br1LU6bus8BU"
   },
   "source": [
    "\n",
    "**Exercise** Write some code that asks the user for two numbers, then shows the result when you add them, and when you multiply them."
   ]
  },
  {
   "cell_type": "code",
   "execution_count": null,
   "metadata": {
    "colab": {
     "base_uri": "https://localhost:8080/"
    },
    "id": "o63PqoIKsJAP",
    "outputId": "5e00f013-4424-4517-9896-4220744807de"
   },
   "outputs": [
    {
     "name": "stdout",
     "output_type": "stream",
     "text": [
      "type the 1° number: 2\n",
      "type the 2° number: 5\n",
      "7\n",
      "10\n"
     ]
    }
   ],
   "source": [
    "number1= int(input(\"type the 1° number: \"))\n",
    "number2= int(input(\"type the 2° number: \"))\n",
    "print(number1+number2)\n",
    "print(number1*number2)"
   ]
  },
  {
   "cell_type": "code",
   "execution_count": null,
   "metadata": {
    "colab": {
     "base_uri": "https://localhost:8080/"
    },
    "id": "1ftQwTUHtVqj",
    "outputId": "1e2ed1f6-f022-4727-ccff-6d48ee8e70d9"
   },
   "outputs": [
    {
     "name": "stdout",
     "output_type": "stream",
     "text": [
      "XxXxX\n",
      "XYZ\n"
     ]
    }
   ],
   "source": [
    "print( \"X\", \"X\", \"X\", sep=\"x\" )\n",
    "print( \"X\", end=\"\" )\n",
    "print( \"Y\", end=\"\" )\n",
    "print( \"Z\" )"
   ]
  },
  {
   "cell_type": "markdown",
   "metadata": {
    "id": "Pbj5v8q4t-T2"
   },
   "source": [
    "sep e end sono parametri utili!"
   ]
  },
  {
   "cell_type": "code",
   "execution_count": null,
   "metadata": {
    "colab": {
     "base_uri": "https://localhost:8080/"
    },
    "id": "Y65wDvZAt993",
    "outputId": "8e07dc57-759e-4141-8b5a-949f5b26368f"
   },
   "outputs": [
    {
     "name": "stdout",
     "output_type": "stream",
     "text": [
      "The first 3 numbers are one, two and three.\n"
     ]
    }
   ],
   "source": [
    "print( \"The first 3 numbers are {}, {} and {}.\".format( \"one\", \"two\", \"three\" ) )\n"
   ]
  },
  {
   "cell_type": "code",
   "execution_count": null,
   "metadata": {
    "colab": {
     "base_uri": "https://localhost:8080/"
    },
    "id": "Jg6IELZkvHGI",
    "outputId": "e8803c04-de1f-4a1f-8ae0-734a6ecf7b92"
   },
   "outputs": [
    {
     "name": "stdout",
     "output_type": "stream",
     "text": [
      "The first 3 numbers are     one,   two   and three  .\n"
     ]
    }
   ],
   "source": [
    "print( \"The first 3 numbers are {:>7}, {:^7} and {:<7}.\".format( \"one\", \"two\", \"three\" ) )"
   ]
  },
  {
   "cell_type": "code",
   "execution_count": null,
   "metadata": {
    "colab": {
     "base_uri": "https://localhost:8080/"
    },
    "id": "3qAFn6WVvshq",
    "outputId": "fc43387e-c06a-4d21-af43-f885d8b03853"
   },
   "outputs": [
    {
     "name": "stdout",
     "output_type": "stream",
     "text": [
      "The first 3 numbers are one, two  and three.\n"
     ]
    }
   ],
   "source": [
    "print( \"The first 3 numbers are {:2}, {:4} and {:4}.\".format( \"one\", \"two\", \"three\" ) )"
   ]
  },
  {
   "cell_type": "code",
   "execution_count": null,
   "metadata": {
    "colab": {
     "base_uri": "https://localhost:8080/"
    },
    "id": "NQttI04bvsem",
    "outputId": "91666552-bcc5-4f1f-c112-1e9cc4cfe0a5"
   },
   "outputs": [
    {
     "name": "stdout",
     "output_type": "stream",
     "text": [
      "The value of e is approximately 2.718281828459045\n",
      "e squared is 7.38905609893065\n",
      "which means that log( 7.38905609893065 ) is 2.0\n"
     ]
    }
   ],
   "source": [
    "from math import exp , log\n",
    "print( \"The value of e is approximately\", exp( 1 ) )\n",
    "e_sqr = exp( 2 )\n",
    "print( \"e squared is\", e_sqr )\n",
    "print( \"which means that log(\", e_sqr, \") is\", log( e_sqr ) )"
   ]
  },
  {
   "cell_type": "code",
   "execution_count": null,
   "metadata": {
    "colab": {
     "base_uri": "https://localhost:8080/"
    },
    "id": "MpIn27Bhvsau",
    "outputId": "e02da2e3-6db2-45d3-8a2b-3d9d61fb73f6"
   },
   "outputs": [
    {
     "name": "stdout",
     "output_type": "stream",
     "text": [
      "A random number between 1 and 10 is 3\n",
      "Another is 6\n",
      "3 random numbers are: 0.8444218515250481 0.7579544029403025 0.420571580830845\n",
      "The same 3 numbers are: 0.8444218515250481 0.7579544029403025 0.420571580830845\n"
     ]
    }
   ],
   "source": [
    "from random import random , randint , seed\n",
    "seed( )\n",
    "print( \"A random number between 1 and 10 is\", randint( 1, 10 ) )\n",
    "print( \"Another is\", randint( 1, 10 ) )\n",
    "seed( 0 )\n",
    "print( \"3 random numbers are:\", random(), random(), random() )\n",
    "seed(0)\n",
    "print( \"The same 3 numbers are:\", random(), random(), random() )\n"
   ]
  },
  {
   "cell_type": "markdown",
   "metadata": {
    "id": "hcJZc8y13kD3"
   },
   "source": [
    "**Exercise** Ask the user to supply a string. Then use that string as a prompt to ask for a float."
   ]
  },
  {
   "cell_type": "code",
   "execution_count": null,
   "metadata": {
    "colab": {
     "base_uri": "https://localhost:8080/"
    },
    "id": "vSPvRKaU3ADx",
    "outputId": "973d646b-cd83-4cc4-f3e0-5294006829d9"
   },
   "outputs": [
    {
     "name": "stdout",
     "output_type": "stream",
     "text": [
      "enter a string that asks for a float: enter a float\n",
      "enter a float5.6\n"
     ]
    },
    {
     "data": {
      "text/plain": [
       "5.6"
      ]
     },
     "execution_count": 52,
     "metadata": {},
     "output_type": "execute_result"
    }
   ],
   "source": [
    "prompt=str(input(\"enter a string that asks for a float: \"))\n",
    "float(input( prompt ))\n"
   ]
  },
  {
   "cell_type": "markdown",
   "metadata": {
    "id": "aqplnH6l4Sn0"
   },
   "source": [
    "**Exercise 5.2** The Pythagorean theorem states that of a right triangle, the square of the length of the diagonal side is equal to the sum of the squares of the lengths of the other two sides (or a2 + b2 = c2). Write a program that asks the user for the lengths of the two sides that meet at a right angle, then calculate the length of the third side (in other words: take the square root of the sum of the squares of the two sides that you asked for), and display it in a nicely formatted way. You may ignore the fact that the user can enter negative or zero lengths for the sides."
   ]
  },
  {
   "cell_type": "code",
   "execution_count": null,
   "metadata": {
    "colab": {
     "base_uri": "https://localhost:8080/"
    },
    "id": "DVzW5-gF3ABZ",
    "outputId": "bc6301e1-f7af-4545-fc45-3966d4467bea"
   },
   "outputs": [
    {
     "name": "stdout",
     "output_type": "stream",
     "text": [
      "enter cateto_maggiore lenth: 4\n",
      "enter cateto_minore lenth: 3\n",
      "the lenth of the ipotenusa is:  5.0\n"
     ]
    }
   ],
   "source": [
    "import math\n",
    "cateto_maggiore=float(input(\"enter cateto_maggiore lenth: \"))\n",
    "cateto_minore=float(input(\"enter cateto_minore lenth: \"))\n",
    "print(\"the lenth of the ipotenusa is: \", math.sqrt((cateto_maggiore**2)+(cateto_minore**2)))"
   ]
  },
  {
   "cell_type": "markdown",
   "metadata": {
    "id": "_iFVOnFR5p_P"
   },
   "source": [
    "**Exercise 5.3** Ask the user to enter three numbers. Then print the largest, the smallest, and their average, rounded to 2 decimals."
   ]
  },
  {
   "cell_type": "code",
   "execution_count": null,
   "metadata": {
    "colab": {
     "base_uri": "https://localhost:8080/"
    },
    "id": "ujL5sq3d5iRL",
    "outputId": "676e83ea-f258-43d9-b429-b47e1b05a7c2"
   },
   "outputs": [
    {
     "name": "stdout",
     "output_type": "stream",
     "text": [
      "enter the 1°number: 2\n",
      "enter the 2°number: 3\n",
      "enter the 3°number: 4\n",
      "the max is:  4.0\n",
      "the min is:  2.0\n",
      "the average is:  3.0\n"
     ]
    }
   ],
   "source": [
    "number_1=float(input(\"enter the 1°number: \"))\n",
    "number_2=float(input(\"enter the 2°number: \"))\n",
    "number_3=float(input(\"enter the 3°number: \"))\n",
    "print(\"the max is: \",max(number_1,number_2,number_3))\n",
    "print(\"the min is: \",min(number_1,number_2,number_3))\n",
    "print(\"the average is: \",(number_1+number_2+number_3)/3)"
   ]
  },
  {
   "cell_type": "markdown",
   "metadata": {
    "id": "2cQiKDZJ7t5v"
   },
   "source": [
    "**Exercise 5.4** Calculate the value of e to the power of -1, 0, 1, 2, and 3, and *display* the results, with 5 decimals, in a nicely formatted manner."
   ]
  },
  {
   "cell_type": "code",
   "execution_count": null,
   "metadata": {
    "colab": {
     "base_uri": "https://localhost:8080/"
    },
    "id": "h761UxcB7fJh",
    "outputId": "b62cfbaf-ccbe-4cd6-d874-292c810f311a"
   },
   "outputs": [
    {
     "name": "stdout",
     "output_type": "stream",
     "text": [
      "e to the power of -1.00000 is 0.36788\n",
      "e to the power of 0.00000 is 1.00000\n",
      "e to the power of 1.00000 is 2.71828\n",
      "e to the power of 2.00000 is 7.38906\n",
      "e to the power of 3.00000 is 20.08554\n"
     ]
    }
   ],
   "source": [
    "import math\n",
    "a= \"e to the power of {:.5f} is {:.5f}\"\n",
    "print(a.format(-1, math.exp(-1)))\n",
    "print(a.format(0, math.exp(0)))\n",
    "print(a.format(1, math.exp(1)))\n",
    "print(a.format(2, math.exp(2)))\n",
    "print(a.format(3, math.exp(3)))"
   ]
  },
  {
   "cell_type": "code",
   "execution_count": null,
   "metadata": {
    "colab": {
     "base_uri": "https://localhost:8080/"
    },
    "id": "b0fraMpn7fF-",
    "outputId": "13f4a3d5-2cf8-40aa-bd8c-7e46d5d76b90"
   },
   "outputs": [
    {
     "data": {
      "text/plain": [
       "2.718281828459045"
      ]
     },
     "execution_count": 65,
     "metadata": {},
     "output_type": "execute_result"
    }
   ],
   "source": [
    "import math\n",
    "math.e"
   ]
  },
  {
   "cell_type": "markdown",
   "metadata": {
    "id": "4BGddhhr-nlT"
   },
   "source": [
    "\n",
    "**Exercise 5.5** Suppose you want to generate a random integer between 1 and 10 (1 and 10 both included), but from the random module you only have the random() function available (you can use functions from other modules, though). How do you do that?"
   ]
  },
  {
   "cell_type": "code",
   "execution_count": null,
   "metadata": {
    "colab": {
     "base_uri": "https://localhost:8080/"
    },
    "id": "JHF-OZcv-Vlk",
    "outputId": "92770722-b413-4bfc-a113-02e2e1985a76"
   },
   "outputs": [
    {
     "name": "stdout",
     "output_type": "stream",
     "text": [
      "7.837985890347726\n"
     ]
    }
   ],
   "source": [
    "from random import random\n",
    "print(random()*10)"
   ]
  },
  {
   "cell_type": "markdown",
   "metadata": {},
   "source": [
    "## CONDITIONS"
   ]
  },
  {
   "cell_type": "code",
   "execution_count": null,
   "metadata": {
    "colab": {
     "base_uri": "https://localhost:8080/"
    },
    "id": "tO8tE3zWWm9X",
    "outputId": "bd2c7e64-27a5-40fc-9438-41e4400be336"
   },
   "outputs": [
    {
     "name": "stdout",
     "output_type": "stream",
     "text": [
      "1. True\n",
      "2. True\n",
      "3. False\n",
      "4. True\n",
      "5. True\n",
      "10. True\n",
      "11. True\n",
      "12. True\n",
      "13. False\n"
     ]
    }
   ],
   "source": [
    "print( \"1.\", 2 < 5 )\n",
    "print( \"2.\", 2 <= 5 )\n",
    "print( \"3.\", 3 > 3 )\n",
    "print( \"4.\", 3 >= 3 )\n",
    "print( \"5.\", 3 == 3.0)\n",
    "print( \"10.\", \"Python\" != \"rubbish\" )\n",
    "print( \"11.\", \"Python\" > \"Perl\" )\n",
    "print( \"12.\", \"banana\" < \"orange\" )\n",
    "print( \"13.\", \"banana\" < \"Orange\" )"
   ]
  },
  {
   "cell_type": "code",
   "execution_count": null,
   "metadata": {
    "colab": {
     "base_uri": "https://localhost:8080/"
    },
    "id": "lf71IHMW-Vi5",
    "outputId": "f5d09664-177e-4c20-8a15-36cdd4872d99"
   },
   "outputs": [
    {
     "name": "stdout",
     "output_type": "stream",
     "text": [
      "True\n",
      "False\n",
      "<class 'bool'>\n"
     ]
    }
   ],
   "source": [
    "greater = 5 > 2\n",
    "print( greater )\n",
    "greater = 5 < 2\n",
    "print( greater )\n",
    "print( type( greater ) )\n"
   ]
  },
  {
   "cell_type": "markdown",
   "metadata": {
    "id": "Vg1pYZ8gIgG9"
   },
   "source": [
    "**Exercise** Write some code that allows you to test if 1/2 is greater than, equal to, or less than 0.5. Do the same for 1/3 and 0.33. Then do the same for (1/3) ∗ 3 and 1."
   ]
  },
  {
   "cell_type": "code",
   "execution_count": null,
   "metadata": {
    "colab": {
     "base_uri": "https://localhost:8080/"
    },
    "id": "siPoetIpI90h",
    "outputId": "8e4c3f98-94e5-41f2-f1ff-2ceaf248dbc6"
   },
   "outputs": [
    {
     "name": "stdout",
     "output_type": "stream",
     "text": [
      "True\n"
     ]
    }
   ],
   "source": [
    "a= 1/2==0.5\n",
    "print(a)"
   ]
  },
  {
   "cell_type": "code",
   "execution_count": null,
   "metadata": {
    "colab": {
     "base_uri": "https://localhost:8080/"
    },
    "id": "87BFzn0jKEId",
    "outputId": "4dda6d1c-a495-40fa-cb9e-3d34480bb7ec"
   },
   "outputs": [
    {
     "name": "stdout",
     "output_type": "stream",
     "text": [
      "True\n",
      "False\n",
      "False\n",
      "True\n",
      "False\n",
      "False\n"
     ]
    }
   ],
   "source": [
    "print( \"y\" in \"Python\" )\n",
    "print( \"x\" in \"Python\" )\n",
    "print( \"p\" in \"Python\" ) #python è sensitive to maiuscole e minuscole!\n",
    "print( \"th\" in \"Python\" )\n",
    "print( \"to\" in \"Python\" )\n",
    "print( \"y\" not in \"Python\" )\n"
   ]
  },
  {
   "cell_type": "markdown",
   "metadata": {
    "id": "juhPKQBhK05-"
   },
   "source": [
    "**Exercise** For the code below, give values True or False to each of the variables a, b, and c, so that the two expressions evaluate to different values."
   ]
  },
  {
   "cell_type": "code",
   "execution_count": null,
   "metadata": {
    "colab": {
     "base_uri": "https://localhost:8080/"
    },
    "id": "Q-QFiu0FK2so",
    "outputId": "38743c5c-26bb-4fcd-9be0-ecd7b1fa493b"
   },
   "outputs": [
    {
     "name": "stdout",
     "output_type": "stream",
     "text": [
      "True\n",
      "False\n"
     ]
    }
   ],
   "source": [
    "a =  False\n",
    "b =  False\n",
    "c =  True\n",
    "print( (a and b) or c )\n",
    "print( a and (b or c) )"
   ]
  },
  {
   "cell_type": "code",
   "execution_count": null,
   "metadata": {
    "id": "sT8W_kzMLqF9"
   },
   "outputs": [
    {
     "name": "stdout",
     "output_type": "stream",
     "text": [
      "This line is only executed if x < 10.\n",
      "And the same holds for this line.\n",
      "This line, however, is always executed.\n"
     ]
    }
   ],
   "source": [
    "x=9\n",
    "if x < 10:\n",
    "    print( \"This line is only executed if x < 10.\" )   \n",
    "    print( \"And the same holds for this line.\" )\n",
    "print( \"This line, however, is always executed.\" )"
   ]
  },
  {
   "cell_type": "markdown",
   "metadata": {},
   "source": [
    "**Exercise** The following code contains multiple indentation errors. Fix them all."
   ]
  },
  {
   "cell_type": "code",
   "execution_count": null,
   "metadata": {},
   "outputs": [
    {
     "name": "stdout",
     "output_type": "stream",
     "text": [
      "x is 3\n",
      "y is 4\n",
      "x > 2\n",
      "y < 5\n",
      "x < 4\n",
      "y > 3\n"
     ]
    }
   ],
   "source": [
    "\n",
    "# This code contains indentation errors!\n",
    "x=3\n",
    "y=4\n",
    "if x == 3 and y == 4:\n",
    "    print( \"x is 3\" ) \n",
    "    print( \"y is 4\" )\n",
    "if x > 2 and y < 5: \n",
    "    print( \"x > 2\" ) \n",
    "    print( \"y < 5\" )\n",
    "if x < 4 and y > 3:\n",
    "    print( \"x < 4\" ) \n",
    "    print( \"y > 3\" )"
   ]
  },
  {
   "cell_type": "markdown",
   "metadata": {},
   "source": [
    "\n",
    "**Exercise** You can test whether an integer is odd or even using the modulo operator. Specifically, when x%2 equals zero, then x is even, else it is odd. Write some code that asks for an integer and then reports whether it is even or odd (you can use the getInteger() function from pcinput to ask for an integer)."
   ]
  },
  {
   "cell_type": "code",
   "execution_count": null,
   "metadata": {},
   "outputs": [
    {
     "name": "stdout",
     "output_type": "stream",
     "text": [
      "the number 4 is even.\n"
     ]
    }
   ],
   "source": [
    "a=int(input(\"insert an integer of your interest: \"))\n",
    "if a%2 == 0:\n",
    "    print(\"the number\",a,\"is even.\")\n",
    "else:\n",
    "    print(\"the number\",a,\"is odd\")"
   ]
  },
  {
   "cell_type": "markdown",
   "metadata": {},
   "source": [
    "\n",
    "**Exercise** Write a program that defines a variable weight. If weight is greater than 20 (kilo’s), print: “There is a $25 surcharge for luggage that is too heavy.” If weight is smaller than 20, print: “Have a safe flight!” If weight is exactly 20, print: “Pfew! The weight is just right!” Make sure that you change the value of weight a couple of times to check whether your code works."
   ]
  },
  {
   "cell_type": "code",
   "execution_count": null,
   "metadata": {},
   "outputs": [
    {
     "name": "stdout",
     "output_type": "stream",
     "text": [
      "Pfew! The weight is just right!\n"
     ]
    }
   ],
   "source": [
    "w=int(input(\"insert the weight: \"))\n",
    "if w>20:\n",
    "    print(\"There is a $25 surcharge for luggage that is too heavy.\")\n",
    "elif w==20:\n",
    "    print(\"Pfew! The weight is just right!\")\n",
    "else:\n",
    "    print(\"Have a safe flight!\")"
   ]
  },
  {
   "cell_type": "markdown",
   "metadata": {},
   "source": [
    "\n",
    "**Exercise 6.1** Grades are values between zero and 10 (both zero and 10 included), and are always rounded to the nearest half point. To translate grades to the American style, 8.5 to 10 become an “A,” 7.5 and 8 become a “B,” 6.5 and 7 become a “C,” 5.5 and 6 become a “D,” and other grades become an “F.” Implement this translation, whereby you ask the user for a grade, and then give the American translation. If the user enters a grade lower than zero or higher than 10, just give an error message. You do not need to handle the user entering grades that do not end in .0 or .5, though you may do that if you like – in that case, if the user enters such an illegal grade, give an appropriate error message.\n"
   ]
  },
  {
   "cell_type": "code",
   "execution_count": null,
   "metadata": {},
   "outputs": [
    {
     "name": "stdout",
     "output_type": "stream",
     "text": [
      "your grade is B\n"
     ]
    }
   ],
   "source": [
    "g=float(input(\"enter the italian grade to convert: \"))\n",
    "match g:\n",
    "    case g if 10 >= g >= 8.5:\n",
    "        print(\"your grade is A\")\n",
    "    case g if g==7.5 or g==8:\n",
    "        print(\"your grade is B\")\n",
    "    case g if g==6.5 or g==7:\n",
    "        print(\"your grade is C\")\n",
    "    case g if g==5.5 or g==6:\n",
    "        print(\"your grade is D\")\n",
    "    case _:\n",
    "        print(\"your grade is F\")\n",
    "    "
   ]
  },
  {
   "cell_type": "markdown",
   "metadata": {},
   "source": [
    "**Exercise 6.3** Ask the user to supply a string. Print how many different vowels there are in the string. The capital version of a lower case vowel is considered to be the same vowel. y is not considered a vowel. Try to print nice output (e.g., printing “There are 1 different vowels in the string” is ugly). Example: When the user enters the string “It’s Owl Stretching Time,” the program should say that there are 3 different vowels in the string."
   ]
  },
  {
   "cell_type": "code",
   "execution_count": null,
   "metadata": {},
   "outputs": [
    {
     "name": "stdout",
     "output_type": "stream",
     "text": [
      "in the phrase:  ciao sono emad\n",
      "there are 2 - a\n",
      "there are 1 - e\n",
      "there are 1 - i\n",
      "there are 3 - o\n",
      "there are 0 - u\n"
     ]
    }
   ],
   "source": [
    "phrase=str(input(\"insert a phrase of 1 or more words: \"))\n",
    "if \"a\" or \"e\" or \"i\" or \"o\" or \"u\" in phrase:\n",
    "    print(\"in the phrase: \",phrase,)\n",
    "    print(\"there are\",phrase.count(\"a\"),\"- a\")\n",
    "    print(\"there are\",phrase.count(\"e\"),\"- e\")\n",
    "    print(\"there are\",phrase.count(\"i\"),\"- i\")\n",
    "    print(\"there are\",phrase.count(\"o\"),\"- o\")\n",
    "    print(\"there are\",phrase.count(\"u\"),\"- u\")\n",
    "\n",
    "        "
   ]
  },
  {
   "cell_type": "markdown",
   "metadata": {},
   "source": [
    "**Exercise 6.4** You can solve quadratic equations using the quadratic formula. Quadratic equations are of the form Ax2 + Bx + C = 0. Such equations have zero, one or two solutions. The first solution is (−B + sqrt(B2 − 4AC))/(2A). The second solution is (−B − sqrt(B2 − 4AC))/(2A). There are no solutions if the value under the square root is negative. There is one solution if the value under the square root is zero. Write a pro- gram that asks the user for the values of A, B, and C, then reports whether there are zero, one, or two solutions, then prints those solutions. Note: Make sure that you also take into account the case that A is zero (there is only one solution then, namely −C/B), and the case that both A and B are zero.\n",
    "Hint: To determine whether there are zero, one, or two solutions, first calculate B ∗ B − 4 ∗ A ∗ C. If that is less than zero, there are no solutions (as you cannot take the square root of a negative number). If it is zero, there is only one solution (namely −B/(2 ∗ A), as the part with the square root is zero). Otherwise, there are two solutions, as listed."
   ]
  },
  {
   "cell_type": "code",
   "execution_count": null,
   "metadata": {},
   "outputs": [],
   "source": []
  },
  {
   "cell_type": "markdown",
   "metadata": {},
   "source": [
    "## ITERATIONS"
   ]
  },
  {
   "cell_type": "markdown",
   "metadata": {},
   "source": [
    "\n",
    "**Exercise** Change the code above so that it prints the numbers 1, 3, 5, 7, and 9"
   ]
  },
  {
   "cell_type": "code",
   "execution_count": null,
   "metadata": {},
   "outputs": [
    {
     "name": "stdout",
     "output_type": "stream",
     "text": [
      "1\n",
      "3\n",
      "5\n",
      "7\n",
      "9\n",
      "done\n"
     ]
    }
   ],
   "source": [
    "'''num = 1\n",
    "while num <= 5:\n",
    "print( num )\n",
    "num += 1 print( \"Done\" )'''\n",
    "\n",
    "num = 1\n",
    "while num <= 10:\n",
    "    print( num )\n",
    "    num += 2\n",
    "print(\"done\")\n"
   ]
  },
  {
   "cell_type": "markdown",
   "metadata": {},
   "source": [
    "**Exercise** Change the code block above so that it not only prints the total, but also the\n",
    "average of the five numbers."
   ]
  },
  {
   "cell_type": "code",
   "execution_count": null,
   "metadata": {},
   "outputs": [
    {
     "name": "stdout",
     "output_type": "stream",
     "text": [
      "the total is:  15\n",
      "the average is:  3.0\n"
     ]
    }
   ],
   "source": [
    "'''total = 0\n",
    "count = 0\n",
    "while count < 5:\n",
    "    total += int(input( \"Please give a number: \" ))\n",
    "    count += 1\n",
    "print( \"Total is\", total )'''\n",
    "\n",
    "total=0\n",
    "count=0\n",
    "while count <5:\n",
    "    total+= int(input(\"please give a nu,ber: \"))\n",
    "    count+=1\n",
    "print(\"the total is: \", total)\n",
    "average=total/count\n",
    "print(\"the average is: \", average)"
   ]
  },
  {
   "cell_type": "markdown",
   "metadata": {},
   "source": [
    "**Exercise** Create a loop that lets the user enter some numbers until he enters zero, and then prints their total and their average. Make sure you test the loop with no numbers entered, and with several copies of the same number entered."
   ]
  },
  {
   "cell_type": "code",
   "execution_count": null,
   "metadata": {},
   "outputs": [
    {
     "name": "stdout",
     "output_type": "stream",
     "text": [
      "the tot is:  6\n",
      "the average is:  2.0\n"
     ]
    }
   ],
   "source": [
    "num=int(input(\"insert a num: \"))\n",
    "total=0\n",
    "count=0\n",
    "while num!=0:\n",
    "    total+=num\n",
    "    count+=1\n",
    "    num=int(input(\"insert a num: \"))\n",
    "print(\"the tot is: \", total)\n",
    "average = total/count\n",
    "print(\"the average is: \", average)"
   ]
  },
  {
   "cell_type": "markdown",
   "metadata": {},
   "source": [
    "**Exercise** Fix the code above so that it no longer is an endless loop"
   ]
  },
  {
   "cell_type": "code",
   "execution_count": null,
   "metadata": {},
   "outputs": [
    {
     "name": "stdout",
     "output_type": "stream",
     "text": [
      "Total is 10.0\n"
     ]
    }
   ],
   "source": [
    "number = 1\n",
    "total = 0\n",
    "while (number * number) % 10 != 0:\n",
    "    number+=4.5\n",
    "total = number\n",
    "print( \"Total is\", total )\n"
   ]
  },
  {
   "cell_type": "markdown",
   "metadata": {},
   "source": [
    "**Exercise** Write countdown code. It starts with a given number (e.g., 10), and counts down to zero, printing each number it encounters (10, 9, 8, ...). It does not print 0, instead it prints “Blast off!”"
   ]
  },
  {
   "cell_type": "code",
   "execution_count": null,
   "metadata": {},
   "outputs": [
    {
     "name": "stdout",
     "output_type": "stream",
     "text": [
      "10\n",
      "9\n",
      "8\n",
      "7\n",
      "6\n",
      "5\n",
      "4\n",
      "3\n",
      "2\n",
      "1\n",
      "BLAST OFF\n"
     ]
    }
   ],
   "source": [
    "countdown=10\n",
    "print(countdown)\n",
    "while countdown!=1:\n",
    "    countdown-=1\n",
    "    print(countdown)\n",
    "print(\"BLAST OFF\")"
   ]
  },
  {
   "cell_type": "markdown",
   "metadata": {},
   "source": [
    "**Exercise** Use the for loop and range() function to print multiples of 3, starting at 21, counting down to 3, in just two lines of code."
   ]
  },
  {
   "cell_type": "code",
   "execution_count": null,
   "metadata": {},
   "outputs": [
    {
     "name": "stdout",
     "output_type": "stream",
     "text": [
      "21\n",
      "18\n",
      "15\n",
      "12\n",
      "9\n",
      "6\n",
      "3\n"
     ]
    }
   ],
   "source": [
    "for x in range(21,2,-3):\n",
    "    print(x)"
   ]
  },
  {
   "cell_type": "code",
   "execution_count": null,
   "metadata": {},
   "outputs": [
    {
     "name": "stdout",
     "output_type": "stream",
     "text": [
      "apple\n",
      "pear\n",
      "orange\n",
      "banana\n",
      "mango\n",
      "cherry\n"
     ]
    }
   ],
   "source": [
    "for x in (\"apple\", \"pear\", \"orange\", \"banana\", \"mango\", \"cherry\"): \n",
    "    print( x )\n",
    "# no singola lettera "
   ]
  },
  {
   "cell_type": "markdown",
   "metadata": {},
   "source": [
    "**Exercise** You already created code with a while loop that asked the user for five numbers, and displayed their total. Create code for this task, but now use a for loop."
   ]
  },
  {
   "cell_type": "code",
   "execution_count": null,
   "metadata": {},
   "outputs": [
    {
     "name": "stdout",
     "output_type": "stream",
     "text": [
      "the tot is  11\n"
     ]
    }
   ],
   "source": [
    "total=0\n",
    "for x in range(5):\n",
    "    number=int(input(\"insert a n: \"))\n",
    "    total+=number\n",
    "print(\"the tot is \",total)"
   ]
  },
  {
   "cell_type": "markdown",
   "metadata": {},
   "source": [
    "**Exercise** Create a countdown function that starts at a certain count, and counts down to\n",
    "zero. Instead of zero, print “Blast off!” Use a for loop."
   ]
  },
  {
   "cell_type": "code",
   "execution_count": null,
   "metadata": {},
   "outputs": [
    {
     "name": "stdout",
     "output_type": "stream",
     "text": [
      "10\n",
      "9\n",
      "8\n",
      "7\n",
      "6\n",
      "5\n",
      "4\n",
      "3\n",
      "2\n",
      "1\n",
      "BLAST OFF\n"
     ]
    }
   ],
   "source": [
    "for x in range(10,0,-1):\n",
    "    print(x)\n",
    "print(\"BLAST OFF\")"
   ]
  },
  {
   "cell_type": "code",
   "execution_count": 6,
   "metadata": {},
   "outputs": [
    {
     "name": "stdout",
     "output_type": "stream",
     "text": [
      "the hallway is 11.25 sqm\n",
      "the kitchen is 18.0 sqm\n",
      "the living room is 20.0 sqm\n",
      "the bedroom is 10.75 sqm\n",
      "the bathroom is 9.5 sqm\n"
     ]
    }
   ],
   "source": [
    "# house list of lists\n",
    "house = [[\"hallway\", 11.25], \n",
    "         [\"kitchen\", 18.0], \n",
    "         [\"living room\", 20.0], \n",
    "         [\"bedroom\", 10.75], \n",
    "         [\"bathroom\", 9.50]]\n",
    "         \n",
    "# Build a for loop from scratch\n",
    "for n, d in house:\n",
    "    print('the', str(n), 'is', str(d),'sqm')"
   ]
  },
  {
   "cell_type": "markdown",
   "metadata": {},
   "source": [
    "**Exercise** Write a program that processes a collection of numbers using a for loop. The program should end immediately, printing only the word “Done,” when a zero is encoun- tered (use a break for this). Negative numbers should be ignored (use a continue for this; I know you can also do this with a condition, but I want you to practice with continue). If no zero is encountered, the program should display the sum of all numbers (do this in an else clause). Always display “Done” at the end of the program. Test your program with the collection ( 12, 4, 3, 33, -2, -5, 7, 0, 22, 4 ). With these numbers, the program should display only “Done.” If you remove the zero, it should display 85 (and “Done”)."
   ]
  },
  {
   "cell_type": "code",
   "execution_count": null,
   "metadata": {},
   "outputs": [
    {
     "name": "stdout",
     "output_type": "stream",
     "text": [
      "the tot is:  85\n",
      "done\n"
     ]
    }
   ],
   "source": [
    "numbers = (12, 4, 3, 33, -2, -5, 7, 22, 4)\n",
    "sumofnumbers = 0\n",
    "for x in numbers:\n",
    "    if x < 0:\n",
    "        continue \n",
    "    if x == 0:\n",
    "        print(\"done\")\n",
    "        break\n",
    "    \n",
    "    sumofnumbers += x\n",
    "    \n",
    "else:\n",
    "    print(\"the tot is: \",sumofnumbers)\n",
    "    \n",
    "print(\"done\")\n"
   ]
  },
  {
   "cell_type": "code",
   "execution_count": 1,
   "metadata": {},
   "outputs": [
    {
     "name": "stdout",
     "output_type": "stream",
     "text": [
      "the capital of spain is madrid\n",
      "the capital of france is paris\n",
      "the capital of germany is berlin\n",
      "the capital of norway is oslo\n",
      "the capital of italy is rome\n",
      "the capital of poland is warsaw\n",
      "the capital of austria is vienna\n"
     ]
    }
   ],
   "source": [
    "# Definition of dictionary\n",
    "europe = {'spain':'madrid', 'france':'paris', 'germany':'berlin',\n",
    "          'norway':'oslo', 'italy':'rome', 'poland':'warsaw', 'austria':'vienna' }\n",
    "          \n",
    "# Iterate over europe\n",
    "for x,y in europe.items():\n",
    "    print('the capital of', x, 'is', y)"
   ]
  },
  {
   "cell_type": "markdown",
   "metadata": {},
   "source": [
    "**Exercise** Write code that prints all pairs (i,j) where i and j can take on the values 0 to 3, but they cannot be equal."
   ]
  },
  {
   "cell_type": "code",
   "execution_count": null,
   "metadata": {},
   "outputs": [
    {
     "name": "stdout",
     "output_type": "stream",
     "text": [
      "(0,1)\n",
      "(0,2)\n",
      "(1,2)\n"
     ]
    }
   ],
   "source": [
    "for i in range(0,3):\n",
    "    for j in range(i+1,3):\n",
    "        print(\"({},{})\".format(i,j))"
   ]
  },
  {
   "cell_type": "markdown",
   "metadata": {},
   "source": [
    "**Exercise** The user must enter a positive integer. You use the getInteger() function from pcinput for that. This function also allows entering negative numbers. If the user enters a negative number, you want to print a message and ask him again, until he entered a positive number. Once a positive number is entered, you print that number and the program ends. Such a problem is typically solved using a loop-and-a-half, as you cannot predict how often the user will enter a negative number before he gets wise. Write such a loop-and-a-half (you will need exactly one break, and you need at most one continue). Print the final number that the user entered after you have exited the loop. The reason to do it afterwards is that the loop is just there to control the entering of the input, not the processing of the resulting variable."
   ]
  },
  {
   "cell_type": "code",
   "execution_count": null,
   "metadata": {},
   "outputs": [
    {
     "name": "stdout",
     "output_type": "stream",
     "text": [
      "enter a positive number: \n",
      "enter a positive number: \n",
      "enter a positive number: \n",
      "3\n"
     ]
    }
   ],
   "source": [
    "\n",
    "while True:\n",
    "    a=int(input(\"enter a number: \"))\n",
    "    if a < 0:\n",
    "        print(\"enter a positive number: \")\n",
    "        continue\n",
    "    if a >0:\n",
    "        print(a)\n",
    "        break"
   ]
  },
  {
   "cell_type": "markdown",
   "metadata": {},
   "source": [
    "**Exercise 7.1** Write a program that lets the user enter a number. Then the program dis- plays the multiplication table for that number from 1 to 10. E.g., when the user enters 12, the first line printed is “1 * 12 = 12” and the last line printed is “10 * 12 = 120”."
   ]
  },
  {
   "cell_type": "code",
   "execution_count": null,
   "metadata": {},
   "outputs": [
    {
     "name": "stdout",
     "output_type": "stream",
     "text": [
      "2 * 1 = 2\n",
      "2 * 2 = 4\n",
      "2 * 3 = 6\n",
      "2 * 4 = 8\n",
      "2 * 5 = 10\n",
      "2 * 6 = 12\n",
      "2 * 7 = 14\n",
      "2 * 8 = 16\n",
      "2 * 9 = 18\n",
      "2 * 10 = 20\n"
     ]
    }
   ],
   "source": [
    "prompt=int(input(\"enter a number: \"))\n",
    "for i in range(1,11):\n",
    "    print(prompt,\"*\",i,\"=\",prompt*i)"
   ]
  },
  {
   "cell_type": "markdown",
   "metadata": {},
   "source": [
    "**Exercise 7.3** Write a program that asks the user for ten numbers, and then prints the largest, the smallest, and how many are divisible by 3. Use the algorithm described earlier in this chapter."
   ]
  },
  {
   "cell_type": "code",
   "execution_count": null,
   "metadata": {},
   "outputs": [
    {
     "name": "stdout",
     "output_type": "stream",
     "text": [
      "max is  3.0 \n",
      "min is  0 \n",
      "sum div by 3 is  1\n"
     ]
    }
   ],
   "source": [
    "max=0\n",
    "min=0\n",
    "div_by_3=0\n",
    "\n",
    "for i in range(2):\n",
    "    a=float(input(\"enter number: \"))\n",
    "    if a > max:\n",
    "        max=a\n",
    "    if a < min:\n",
    "        min=a\n",
    "    if a%3 == 0:\n",
    "        div_by_3+=1\n",
    "    continue\n",
    "print(\"max is \",max,\"\\nmin is \",min,\"\\nsum div by 3 is \",div_by_3)"
   ]
  },
  {
   "cell_type": "markdown",
   "metadata": {},
   "source": [
    "**Exercise 7.5** The Fibonacci sequence is a sequence of numbers that starts with 1, followed by 1 again. Every next number is the sum of the two previous numbers. I.e., the sequence starts with 1, 1, 2, 3, 5, 8, 13, 21,... Write a program that calculates and prints the Fibonacci sequence until the numbers get higher than 1000."
   ]
  },
  {
   "cell_type": "code",
   "execution_count": null,
   "metadata": {},
   "outputs": [
    {
     "name": "stdout",
     "output_type": "stream",
     "text": [
      "1 1 2 3 5 8 13 21 34 55 89 144 233 377 610 987 "
     ]
    }
   ],
   "source": [
    "n1=0\n",
    "n2=1\n",
    "print(1, end=' ')\n",
    "while True:\n",
    "    n3=n1+n2\n",
    "    if n3 > 1000:\n",
    "        break\n",
    "    print(n3, end=' ')\n",
    "    n1=n2\n",
    "    n2=n3"
   ]
  },
  {
   "cell_type": "markdown",
   "metadata": {},
   "source": [
    "**Exercise 7.7** Write a program that approximates π by using random numbers, as follows. Consider a square measuring 1 by 1. If you throw a dart into that square in a random location, the probability that it will have a distance of 1 or less to the lower left corner is π/4. To see why that is, remember that the area of a circle with a radius of 1 is π, so the area of a quarter circle is π/4. Thus, if a dart lands in a random point in the square, the chance that it lands in the quarter circle with its centre at the lower left corner is π/4. Therefore, if you throw N darts into the square, and M of those land inside a distance of 1 to the lower left corner, then 4M/N approximates π if N is very large.\n",
    "The program holds a constant that determines how many darts it will simulate. It prints an approximation of π derived by simulating the throwing of that number of darts. Remem- ber that the distance of a point (x, y) to the lower-left corner is calculated as sqrt(x2 + y2). Use the random() function from the random module.\n"
   ]
  },
  {
   "cell_type": "code",
   "execution_count": null,
   "metadata": {},
   "outputs": [
    {
     "name": "stdout",
     "output_type": "stream",
     "text": [
      "3.001596\n"
     ]
    }
   ],
   "source": [
    "from random import random\n",
    "import math\n",
    "#pi = 3.14159\n",
    "M=0\n",
    "for i in range(1000000):\n",
    "    rand=random()\n",
    "    if rand < 3/4:\n",
    "        M+=1\n",
    "print(4*M/1000000)"
   ]
  },
  {
   "cell_type": "markdown",
   "metadata": {},
   "source": [
    "## FUNCTIONS"
   ]
  },
  {
   "cell_type": "code",
   "execution_count": null,
   "metadata": {},
   "outputs": [
    {
     "name": "stdout",
     "output_type": "stream",
     "text": [
      "5.0\n",
      "None\n"
     ]
    }
   ],
   "source": [
    "from math import sqrt\n",
    "def pythagoras( a, b ):\n",
    "    if a > 0 and b > 0:\n",
    "      return sqrt( a*a + b*b ) \n",
    "print( pythagoras( 3, 4 ) )\n",
    "print( pythagoras( -3, 4 ) )"
   ]
  },
  {
   "cell_type": "code",
   "execution_count": null,
   "metadata": {},
   "outputs": [
    {
     "name": "stdout",
     "output_type": "stream",
     "text": [
      "5.0\n",
      "None\n"
     ]
    }
   ],
   "source": [
    "from math import sqrt\n",
    "def pythagoras( a, b ): \n",
    "    if a <= 0 or b <= 0:\n",
    "        return\n",
    "    return sqrt( a*a + b*b )\n",
    "print( pythagoras( 3, 4 ) )\n",
    "print( pythagoras( -3, 4 ) )"
   ]
  },
  {
   "cell_type": "markdown",
   "metadata": {},
   "source": [
    "ANCHE SE NON SPECIFICATO, RETURN NONE!"
   ]
  },
  {
   "cell_type": "markdown",
   "metadata": {},
   "source": [
    "**Exercise** Write a function called printx() that just prints the letter “x.” Then write a function called multiplex() which takes as argument an integer and prints as many times the letter “x” as the integer indicates by calling the function printx() that many times."
   ]
  },
  {
   "cell_type": "code",
   "execution_count": null,
   "metadata": {},
   "outputs": [
    {
     "name": "stdout",
     "output_type": "stream",
     "text": [
      "45\n",
      "45\n",
      "45\n",
      "45\n",
      "45\n",
      "45\n",
      "45\n",
      "45\n",
      "45\n",
      "45\n",
      "45\n",
      "45\n",
      "45\n",
      "45\n",
      "45\n",
      "45\n",
      "45\n",
      "45\n",
      "45\n",
      "45\n",
      "45\n",
      "45\n",
      "45\n",
      "45\n",
      "45\n",
      "45\n",
      "45\n",
      "45\n",
      "45\n",
      "45\n",
      "45\n",
      "45\n",
      "45\n",
      "45\n",
      "45\n",
      "45\n",
      "45\n",
      "45\n",
      "45\n",
      "45\n",
      "45\n",
      "45\n",
      "45\n",
      "45\n",
      "45\n"
     ]
    }
   ],
   "source": [
    "def printx(x):\n",
    "    print(x)\n",
    "def multiplex(x):\n",
    "    for i in range(x):\n",
    "        printx(x)\n",
    "    \n",
    "multiplex(45)"
   ]
  },
  {
   "cell_type": "markdown",
   "metadata": {},
   "source": [
    "**Exercise** Write the function isEven()"
   ]
  },
  {
   "cell_type": "code",
   "execution_count": null,
   "metadata": {},
   "outputs": [
    {
     "name": "stdout",
     "output_type": "stream",
     "text": [
      "5 is odd\n"
     ]
    }
   ],
   "source": [
    "def isEven(x):\n",
    "    if x%2 == 0:\n",
    "        print(x,\"is even\")\n",
    "    else:\n",
    "        print(x,\"is odd\")\n",
    "        \n",
    "isEven(5)"
   ]
  },
  {
   "cell_type": "markdown",
   "metadata": {},
   "source": [
    "**Exercise** Write the function isOdd(), which determines whether a number is odd, by\n",
    "calling the function isEven() and inverting its result."
   ]
  },
  {
   "cell_type": "code",
   "execution_count": null,
   "metadata": {},
   "outputs": [
    {
     "name": "stdout",
     "output_type": "stream",
     "text": [
      "6 is even\n"
     ]
    }
   ],
   "source": [
    "def isOdd(x):\n",
    "    if isEven(x) == False:\n",
    "        print(x,\"is odd\")\n",
    "\n",
    "isOdd(6)"
   ]
  },
  {
   "cell_type": "markdown",
   "metadata": {},
   "source": [
    "**Exercise** Write the function getFraction()"
   ]
  },
  {
   "cell_type": "code",
   "execution_count": null,
   "metadata": {},
   "outputs": [
    {
     "name": "stdout",
     "output_type": "stream",
     "text": [
      "0.6\n"
     ]
    }
   ],
   "source": [
    "def getFraction(x):\n",
    "    if isinstance(x, float):\n",
    "        ris=(x-int(x))\n",
    "        ris_rounded=round(ris,1)\n",
    "        return ris_rounded\n",
    "    else:\n",
    "        print(\"0\")\n",
    "    \n",
    "print(getFraction(5.6))"
   ]
  },
  {
   "cell_type": "markdown",
   "metadata": {},
   "source": [
    "\n",
    "**Exercise 8.1** Create a function that gets a number as parameter, and then prints the multiplication table for that number from 1 to 10. E.g., when the parameter is 12, the first line printed is “1 * 12 = 12” and the last line printed is “10 * 12 = 120.”"
   ]
  },
  {
   "cell_type": "code",
   "execution_count": null,
   "metadata": {},
   "outputs": [
    {
     "name": "stdout",
     "output_type": "stream",
     "text": [
      "23 * 1 = 23\n",
      "23 * 2 = 46\n",
      "23 * 3 = 69\n",
      "23 * 4 = 92\n",
      "23 * 5 = 115\n",
      "23 * 6 = 138\n",
      "23 * 7 = 161\n",
      "23 * 8 = 184\n",
      "23 * 9 = 207\n",
      "23 * 10 = 230\n",
      "None\n"
     ]
    }
   ],
   "source": [
    "# function that show the moltiplication table fro 1 to 10 of the parameter x desired that has to be a float value\n",
    "def table_moltiplication(x: float):\n",
    "    for i in range(1,11):\n",
    "        print(x,\"*\",i,\"=\",x*i)\n",
    "        \n",
    "print(table_moltiplication(23))"
   ]
  },
  {
   "cell_type": "markdown",
   "metadata": {},
   "source": [
    "**Exercise 8.3** The Grerory-Leibnitz series approximates pi as 4 ∗ (1/1 − 1/3 + 1/5 − 1/7 + 1/9...). Write a function that returns the approximation of pi according to this series. The function gets one parameter, namely an integer that indicates how many of the terms between the parentheses must be calculated."
   ]
  },
  {
   "cell_type": "code",
   "execution_count": null,
   "metadata": {},
   "outputs": [
    {
     "name": "stdout",
     "output_type": "stream",
     "text": [
      "3.1415916535897743\n"
     ]
    }
   ],
   "source": [
    "#FALLIMENTO\n",
    "def gregoryLeibnitz( num ): \n",
    "    appr = 0\n",
    "    for i in range( num ): \n",
    "        if i%2 == 0:\n",
    "            appr += 1/(1 + i*2)\n",
    "        else:\n",
    "            appr -= 1/(1 + i*2)\n",
    "    return 4* appr\n",
    "    \n",
    "print(gregoryLeibnitz( 1000000))\n",
    "\n"
   ]
  },
  {
   "cell_type": "markdown",
   "metadata": {},
   "source": [
    "## RECURSION"
   ]
  },
  {
   "cell_type": "markdown",
   "metadata": {},
   "source": [
    "**exercise** build a funtion that returns the factorial of the parameter"
   ]
  },
  {
   "cell_type": "code",
   "execution_count": null,
   "metadata": {},
   "outputs": [
    {
     "name": "stdout",
     "output_type": "stream",
     "text": [
      "120\n"
     ]
    }
   ],
   "source": [
    "#2 ways:\n",
    "#iterative\n",
    "\n",
    "'''def factorial(n:int):\n",
    "    \n",
    "    factorial=1\n",
    "    \n",
    "    for i in range(n):\n",
    "        factorial*= i+1\n",
    "    \n",
    "    return factorial\n",
    "\n",
    "print(factorial(5))'''\n",
    "\n",
    "#recursion\n",
    "\n",
    "def factorial(n:int):\n",
    "    \n",
    "    if n<=1:\n",
    "        return 1\n",
    "    \n",
    "    return n*factorial(n-1)\n",
    "\n",
    "print(factorial(5))"
   ]
  },
  {
   "cell_type": "markdown",
   "metadata": {},
   "source": [
    "\n",
    "**Exercise 9.1** A recursive definition of the nth number of the Fibonacci sequence fib(n) states that fib(n) is equal to fib(n-1) + fib(n-2). Moreover, fib(1) and fib(2) are both 1. Write a recursive function that you can call with an integer argument n that returns the nth number of the Fibonacci sequence."
   ]
  },
  {
   "cell_type": "code",
   "execution_count": null,
   "metadata": {},
   "outputs": [
    {
     "name": "stdout",
     "output_type": "stream",
     "text": [
      "55\n"
     ]
    }
   ],
   "source": [
    "def fibonacci(n):\n",
    "    if n<=2:\n",
    "        return 1\n",
    "    \n",
    "    return fibonacci(n-1)+fibonacci(n-2)\n",
    "\n",
    "print(fibonacci(10))\n"
   ]
  },
  {
   "cell_type": "markdown",
   "metadata": {},
   "source": [
    "**Exercise 9.2** To get a bit more insight into how recursion works, add a depth parameter to your Fibonacci function from the previous exercise, that starts at zero and gets increased by 1 for every deeper call. On entry of the function, print with what number argument it was called, and when returning a value, print what you return. Use the depth parameter to indent the prints. Study your output."
   ]
  },
  {
   "cell_type": "code",
   "execution_count": null,
   "metadata": {},
   "outputs": [
    {
     "name": "stdout",
     "output_type": "stream",
     "text": [
      "fib(5)\n",
      "      fib(4)\n",
      "            fib(3)\n",
      "                  fib(2)\n",
      "                  return 1\n",
      "                  fib(1)\n",
      "                  return 1\n",
      "            return 2\n",
      "            fib(2)\n",
      "            return 1\n",
      "      return 3\n",
      "      fib(3)\n",
      "            fib(2)\n",
      "            return 1\n",
      "            fib(1)\n",
      "            return 1\n",
      "      return 2\n",
      "return 5\n",
      "5\n"
     ]
    }
   ],
   "source": [
    "def fib( n, depth ):\n",
    "        indent = 6 * depth * \" \"\n",
    "        print( \"{}fib({})\".format( indent, n ) ) \n",
    "        if n <= 2:\n",
    "            print( \"{}return {}\".format( indent, 1 ) )\n",
    "            return 1\n",
    "        value = fib( n-1, depth+1 ) + fib( n-2, depth+1 ) \n",
    "        print( \"{}return {}\".format( indent, value ) ) \n",
    "        return value\n",
    "\n",
    "print( fib( 5, 0 ) )"
   ]
  },
  {
   "cell_type": "markdown",
   "metadata": {},
   "source": [
    "## STRINGS"
   ]
  },
  {
   "cell_type": "markdown",
   "metadata": {},
   "source": [
    "**Exercise** Write code that for a string prints the indices of all of its vowels (a, e, i, o, and u). This can be done with a for loop or a while loop, though the while loop is more suitable.\n"
   ]
  },
  {
   "cell_type": "code",
   "execution_count": null,
   "metadata": {},
   "outputs": [
    {
     "name": "stdout",
     "output_type": "stream",
     "text": [
      "indice della vocale a è [0]\n",
      "indice della vocale e è [4]\n",
      "indice della vocale i è [5]\n",
      "indice della vocale o è [6]\n",
      "indice della vocale u è [7]\n"
     ]
    }
   ],
   "source": [
    "string=\"abcdeiou\"\n",
    "vocali=\"aeiou\"\n",
    "\n",
    "i=0\n",
    "while i < len(string):\n",
    "    if string[i] in vocali:\n",
    "        print(\"indice della vocale\",string[i],\"è\",[i])\n",
    "    i+=1\n",
    "    "
   ]
  },
  {
   "cell_type": "markdown",
   "metadata": {},
   "source": [
    "**Exercis** Write code that uses two strings. For each character in the first string that has exactly the same character at the same index in the second string, you print the character and the index. Watch out that you do not get an “index out of range” runtime error. Test it with the strings \"The Holy Grail\" and \"Life of Brian\"."
   ]
  },
  {
   "cell_type": "code",
   "execution_count": null,
   "metadata": {},
   "outputs": [
    {
     "name": "stdout",
     "output_type": "stream",
     "text": [
      "character is:  o - index is:  [5]\n",
      "character is:  a - index is:  [11]\n"
     ]
    }
   ],
   "source": [
    "string1=\"The Holy Grail\"\n",
    "string2=\"Life of Brian\"\n",
    "minstring=min(len(string1), len(string2))\n",
    "\n",
    "for i in range(minstring):\n",
    "    if string1[i] == string2[i]:\n",
    "        print(\"character is: \", string1[i], \"- index is: \", [i])"
   ]
  },
  {
   "cell_type": "code",
   "execution_count": null,
   "metadata": {},
   "outputs": [
    {
     "name": "stdout",
     "output_type": "stream",
     "text": [
      "bnn\n",
      "aaa\n",
      "ananab\n",
      "aaa\n"
     ]
    }
   ],
   "source": [
    "fruit = \"banana\" \n",
    "print( fruit[::2] ) \n",
    "print( fruit[1::2] ) \n",
    "print( fruit[::-1] ) \n",
    "print( fruit[::-2] )"
   ]
  },
  {
   "cell_type": "code",
   "execution_count": null,
   "metadata": {},
   "outputs": [
    {
     "name": "stdout",
     "output_type": "stream",
     "text": [
      "[ And now for something completely different \n",
      " ]\n",
      "[And now for something completely different]\n"
     ]
    }
   ],
   "source": [
    "s = \" And now for something completely different \\n \" \n",
    "print( \"[\"+s+\"]\")\n",
    "s = s.strip()\n",
    "print( \"[\"+s+\"]\" )"
   ]
  },
  {
   "cell_type": "code",
   "execution_count": null,
   "metadata": {},
   "outputs": [
    {
     "name": "stdout",
     "output_type": "stream",
     "text": [
      "14\n",
      "4\n",
      "16\n",
      "-1\n"
     ]
    }
   ],
   "source": [
    "s = \"Humpty Dumpty sat on the wall\" \n",
    "print( s.find( \"sat\" ) )\n",
    "print( s.find( \"t\" ) )\n",
    "print( s.find( \"t\", 12 ) )\n",
    "print( s.find( \"q\" ) )"
   ]
  },
  {
   "cell_type": "markdown",
   "metadata": {},
   "source": [
    "-1 quando non viene trovata la lettera"
   ]
  },
  {
   "cell_type": "code",
   "execution_count": null,
   "metadata": {},
   "outputs": [
    {
     "name": "stdout",
     "output_type": "stream",
     "text": [
      "Humpty\n",
      "Dumpty\n",
      "sat\n",
      "on\n",
      "the\n",
      "wall\n"
     ]
    }
   ],
   "source": [
    "s = ' Humpty Dumpty sat on the wall ' \n",
    "wordlist = s.split()\n",
    "for word in wordlist:\n",
    "    print( word )"
   ]
  },
  {
   "cell_type": "code",
   "execution_count": null,
   "metadata": {},
   "outputs": [
    {
     "name": "stdout",
     "output_type": "stream",
     "text": [
      "2016,September,28,Data Processing,Tilburg University\n"
     ]
    }
   ],
   "source": [
    "csv = \"2016,September,28,Data Processing,Tilburg University\" \n",
    "values = csv.split( ' , ' )\n",
    "for value in values:\n",
    "    print( value )"
   ]
  },
  {
   "cell_type": "code",
   "execution_count": null,
   "metadata": {},
   "outputs": [
    {
     "name": "stdout",
     "output_type": "stream",
     "text": [
      "Humpty;Dumpty;sat;on;the;wall\n"
     ]
    }
   ],
   "source": [
    "s = \"Humpty;Dumpty;sat;on;the;wall\" \n",
    "wordlist = s.split( ' ; ' )\n",
    "s = \" \".join( wordlist )\n",
    "print(s)"
   ]
  },
  {
   "cell_type": "markdown",
   "metadata": {},
   "source": [
    "## EXERCISES (EXAM SHEETS)"
   ]
  },
  {
   "cell_type": "markdown",
   "metadata": {},
   "source": [
    "**Exercise 1.** Consider a list L of triplets (e, s, v) where e is a string with the name of a university course, s is a student-id, and v is the grade of the student who passed the exam of the course. Write a Python function summary(L) that returns a dictionary mapping:\n",
    "● the pair (“avg”, e) to the average of grades for course e\n",
    "● the pair (“top”, e) to the list of students that passed exam e with top score.\n",
    "For example:\n",
    "summary([(‘pds’, 1, 28), (‘pds’, 2, 25), (‘pds’, 3, 28), (‘dm’, 1, 22), (‘dm’, 3, 30)]) = { (‘avg’, ‘pds’): 27, (‘avg’, ‘dm’):26, (‘top’,’pds’)=[1,3], (‘top’, ‘dm’)=[3]}"
   ]
  },
  {
   "cell_type": "code",
   "execution_count": 24,
   "metadata": {},
   "outputs": [
    {
     "name": "stdout",
     "output_type": "stream",
     "text": [
      "{('avg', 'pds'): 27.0, ('avg', 'dm'): 26.0, ('top', 'pds'): [1, 3], ('top', 'dm'): [3]}\n"
     ]
    }
   ],
   "source": [
    "\n",
    "#definizione funzione summary() e inizializzazione di 2 dizionari vuoti per contenere la media e il miglior studente\n",
    "def summary(L):\n",
    "    averages = {}\n",
    "    top_students = {}\n",
    "    \n",
    "    for course, student_id, grade in L:\n",
    "        #creazione di 2 chiavi che si aggiornano alla lettura di L per il calcolo finale della media di ogni singolo corso\n",
    "        if (\"avg\", course) not in averages:\n",
    "            averages[(\"avg\", course)] = {\"sum\":0, \"count\":0}\n",
    "        averages[(\"avg\", course)][\"sum\"] += grade\n",
    "        averages[(\"avg\", course)][\"count\"] += 1\n",
    "            \n",
    "        #creazione di 2 chiavi che si aggiornano alla lettura di L per l'individuazione dello studente con voto più alto\n",
    "        if (\"top\", course) not in top_students:\n",
    "            top_students[(\"top\", course)] = {\"maxgrade\":float(\"-inf\"), \"students\":[]}\n",
    "            \n",
    "        if grade > top_students[(\"top\", course)][\"maxgrade\"]:\n",
    "            top_students[(\"top\", course)][\"maxgrade\"] = grade\n",
    "            top_students[(\"top\", course)][\"students\"] = [student_id]\n",
    "        elif grade == top_students[(\"top\", course)][\"maxgrade\"]:\n",
    "            top_students[(\"top\", course)][\"students\"].append(student_id)\n",
    "                \n",
    "    #calcolo della media\n",
    "    for key in averages:\n",
    "        averages[key][\"avg\"] = averages[key][\"sum\"] / averages[key][\"count\"]\n",
    "        \n",
    "    #result\n",
    "    result = {}\n",
    "    for key in averages:\n",
    "        result[key] = averages[key][\"avg\"]\n",
    "        \n",
    "    for key in top_students:\n",
    "        result[key] = top_students[key][\"students\"]\n",
    "    \n",
    "    return result\n",
    "        \n",
    "    \n",
    "L = [(\"pds\", 1, 28), (\"pds\", 2, 25), (\"pds\", 3, 28), (\"dm\", 1, 22), (\"dm\", 3, 30)]\n",
    "print(summary(L))\n"
   ]
  },
  {
   "cell_type": "code",
   "execution_count": 27,
   "metadata": {},
   "outputs": [
    {
     "name": "stdout",
     "output_type": "stream",
     "text": [
      "{('avg', 'pds'): 27.0, ('avg', 'dm'): 26.0, ('top', 'pds'): [1, 3], ('top', 'dm'): [3]}\n"
     ]
    }
   ],
   "source": [
    "#DA SOLO!!!\n",
    "\n",
    "def summary(L):\n",
    "    averages = {}\n",
    "    topstudents = {}\n",
    "    \n",
    "    for course, student_id, grade in L:\n",
    "        if (\"avg\", course) not in averages:\n",
    "            averages[(\"avg\", course)] = {\"sum\":0, \"count\":0}\n",
    "        averages[(\"avg\", course)][\"sum\"] += grade\n",
    "        averages[(\"avg\", course)][\"count\"] += 1\n",
    "        \n",
    "        if (\"top\", course) not in topstudents:\n",
    "            topstudents[(\"top\", course)] = {\"maxgrade\":float(\"-inf\"), \"students\":[]}\n",
    "            \n",
    "        if grade > topstudents[(\"top\", course)][\"maxgrade\"]:\n",
    "            topstudents[(\"top\", course)][\"maxgrade\"] = grade\n",
    "            topstudents[(\"top\", course)][\"students\"] = [student_id]\n",
    "        elif grade == topstudents[(\"top\", course)][\"maxgrade\"]:\n",
    "            topstudents[(\"top\", course)][\"students\"].append(student_id)\n",
    "            \n",
    "    for course in averages:\n",
    "        averages[course][\"avg\"] = averages[course][\"sum\"] / averages[course][\"count\"]\n",
    "        \n",
    "    result = {}\n",
    "    \n",
    "    for course in averages:\n",
    "        result[course] = averages[course][\"avg\"]\n",
    "        \n",
    "    for course in topstudents:\n",
    "        result[course] = topstudents[course][\"students\"]\n",
    "        \n",
    "    return result\n",
    "\n",
    "L = [(\"pds\", 1, 28), (\"pds\", 2, 25), (\"pds\", 3, 28), (\"dm\", 1, 22), (\"dm\", 3, 30)]\n",
    "print(summary(L))"
   ]
  },
  {
   "cell_type": "code",
   "execution_count": 55,
   "metadata": {},
   "outputs": [
    {
     "name": "stdout",
     "output_type": "stream",
     "text": [
      "[1]\n",
      "[1, 1]\n",
      "[1, 2, 1]\n",
      "[1, 3, 3, 1]\n",
      "[1, 4, 6, 4, 1]\n",
      "[1, 5, 10, 10, 5, 1]\n",
      "[1, 6, 15, 20, 15, 6, 1]\n",
      "[1, 7, 21, 35, 35, 21, 7, 1]\n",
      "[1, 8, 28, 56, 70, 56, 28, 8, 1]\n",
      "[1, 9, 36, 84, 126, 126, 84, 36, 9, 1]\n"
     ]
    }
   ],
   "source": [
    "n = int(input(\"enter the number of rows for the pascal's triangle: \"))\n",
    "def PascalT(n:int):\n",
    "    res = [[1]]\n",
    "    \n",
    "    for i in range(n - 1):\n",
    "        temp = [0] + res[-1] + [0]\n",
    "        row=[]\n",
    "        for j in range(len(res [-1]) +1):\n",
    "            row.append(temp[j] + temp[j+1])\n",
    "        res.append(row)\n",
    "    return res \n",
    "\n",
    "for row in PascalT(n):\n",
    "    print(row)       "
   ]
  },
  {
   "cell_type": "markdown",
   "metadata": {},
   "source": [
    "**Exercise** Define a Python function orderAlt(l) that takes as input a list l1 of integers, and return as output a new list l2 such that: i) the first portion of l2 contains the even numbers of l1, in ascending order; ii) the second portion of l2 contains the odd numbers of l1, in descending order. Test your function on an input list.\n",
    "\n",
    "Bonus: the user inputs the list l1 from the terminal (use -1 as termination character of the endless insertion loop).\n",
    "\n",
    "Example l1: [2,5,7,8,3,4] → l2: [2,4,8,7,5,3]"
   ]
  },
  {
   "cell_type": "code",
   "execution_count": 69,
   "metadata": {},
   "outputs": [
    {
     "name": "stdout",
     "output_type": "stream",
     "text": [
      "[2, 4, 8, 7, 5, 3]\n"
     ]
    }
   ],
   "source": [
    "def OrderAlt(l1:list):\n",
    "    l3 = []\n",
    "    l4 = []\n",
    "    for i in range(len(l1)):\n",
    "        if l1[i]%2 == 0:\n",
    "            l3.append(l1[i])\n",
    "            l3.sort()\n",
    "        elif l1[i]%2 != 0:\n",
    "            l4.append(l1[i])\n",
    "            l4.sort(reverse=True)\n",
    "    l2 = l3 +l4\n",
    "    return l2\n",
    "\n",
    "l1 = [2,5,7,8,3,4]\n",
    "print (OrderAlt(l1))"
   ]
  },
  {
   "cell_type": "markdown",
   "metadata": {},
   "source": [
    "**Exercise** The built-in zip function \"zips\" two lists. Define a function named zap with your own implementation of this function.\n",
    "\n",
    "The function takes two lists as input, a and b, and returns a list of tuples. Each tuple should contain one item x from the a list and one item y from b, with x and y being in the same position in their list. You may assume a and b have equal lengths.\n",
    "\n",
    "Test your function on two input lists.\n",
    "\n",
    "Example: zap([0, 1, 2, 3], [5, 6, 7, 8] ) Should return: [(0, 5), (1, 6), (2, 7), (3, 8)]"
   ]
  },
  {
   "cell_type": "code",
   "execution_count": 80,
   "metadata": {},
   "outputs": [
    {
     "name": "stdout",
     "output_type": "stream",
     "text": [
      "[(0, 5), (1, 6), (2, 7), (3, 8)]\n"
     ]
    }
   ],
   "source": [
    "def zap(a, b):\n",
    "    lista=[]\n",
    "    for i in range(len(a)):\n",
    "        lista.append((a[i], b[i]))\n",
    "    return lista\n",
    "\n",
    "a=[0,1,2,3]\n",
    "b=[5,6,7,8]\n",
    "print(zap(a, b))\n",
    "\n",
    "\n",
    "\n",
    "\n",
    "\n",
    "\n",
    "\n",
    "\n",
    "\n",
    "\n"
   ]
  },
  {
   "cell_type": "markdown",
   "metadata": {},
   "source": [
    "**Exercise 1.** Consider a list L of triplets (e, s, v) where e is a string with the name of a university course, s is a student-id, and v is the grade of the student who passed the exam of the course. Write a Python function summary(L) that returns a dictionary mapping:\n",
    "\n",
    "● the pair (“avg”, e) to the average of grades for course e ● the pair (“top”, e) to the list of students that passed exam e with top score\n",
    "\n",
    "For example: summary([(‘pds’, 1, 28), (‘pds’, 2, 25), (‘pds’, 3, 28), (‘dm’, 1, 22), (‘dm’, 3, 30)]) = { (‘avg’, ‘pds’): 27, (‘avg’, ‘dm’):26, (‘top’,’pds’)=[1,3], (‘top’, ‘dm’)=[3]}"
   ]
  },
  {
   "cell_type": "code",
   "execution_count": 97,
   "metadata": {},
   "outputs": [
    {
     "name": "stdout",
     "output_type": "stream",
     "text": [
      "{('avg', 'pds'): 27.0, ('avg', 'dm'): 26.0, ('top', 'pds'): [1, 3], ('top', 'dm'): [3]}\n"
     ]
    }
   ],
   "source": [
    "def summary (L):\n",
    "    averages = {}\n",
    "    topstudents = {}\n",
    "\n",
    "    for course, student_id, grade in L:\n",
    "        if (\"avg\", course) not in averages:\n",
    "            averages[(\"avg\", course)] = {\"sum\":0, \"count\":0}\n",
    "        averages[(\"avg\", course)][\"sum\"] += grade\n",
    "        averages[(\"avg\", course)][\"count\"] += 1\n",
    "        \n",
    "        if (\"top\", course) not in topstudents:\n",
    "            topstudents[(\"top\", course)] = {\"topgrade\":float(\"-inf\"), \"students\": []}\n",
    "            \n",
    "        if grade > topstudents[(\"top\", course)][\"topgrade\"]:\n",
    "            topstudents[(\"top\", course)][\"topgrade\"] = grade\n",
    "            topstudents[(\"top\", course)][\"students\"] = [student_id]\n",
    "        elif grade == topstudents[(\"top\", course)][\"topgrade\"]:\n",
    "            topstudents[(\"top\", course)][\"students\"].append(student_id) \n",
    "                \n",
    "                \n",
    "    for course in averages:\n",
    "        averages[course][\"avg\"] = averages[course][\"sum\"] / averages[course][\"count\"]\n",
    "        \n",
    "    result = {}\n",
    "    for course in averages:\n",
    "        result[course] = averages[course][\"avg\"]\n",
    "    \n",
    "    for course in topstudents:\n",
    "        result[course] = topstudents[course][\"students\"]\n",
    "        \n",
    "    return result\n",
    "    \n",
    "L = [(\"pds\", 1, 28), (\"pds\", 2, 25), (\"pds\", 3, 28), (\"dm\", 1, 22), (\"dm\", 3, 30)]\n",
    "print(summary(L))\n",
    "                \n",
    "                \n",
    "                "
   ]
  },
  {
   "cell_type": "markdown",
   "metadata": {},
   "source": [
    "**Exercise 1.** Create a Python program that analyses the frequency of words in a text file and stores the results in a dictionary.\n",
    "\n",
    "The program should also allow the user to perform several operations such as displaying the frequency of a specific word, sorting the frequency of words in ascending or descending order, and finding the top N most frequent words.\n",
    "\n",
    "The path to the file should be taken from the command line argument\n",
    "Read the text file and split the text into lowercase words (clean the text by removing punctuation and converting it to lowercase)\n",
    "Create a dictionary to store the frequency of each word. The key is the word and the value is itsfrequency.\n",
    "Implement the following functions: ● frequency_of_word(word): displays the frequency of a specific word ● sort_frequency(order='ascending'): sorts the frequency of words in ascending or descending order ● top_N_frequent(N): displays the top N most frequent words\n",
    "Bonus: ● The program should also handle large text files efficiently. ● Remove Stop Words: Implement a function that removes common words such as \"the\", \"a\", \"an\", \"and\" from the frequency analysis. These words are known as stop words and do not add much value to the analysis."
   ]
  },
  {
   "cell_type": "code",
   "execution_count": null,
   "metadata": {},
   "outputs": [],
   "source": [
    "from collections import Counter\n"
   ]
  },
  {
   "cell_type": "markdown",
   "metadata": {},
   "source": [
    "**Exercise 2.** Define a Python program that calculates the average score of an arbitrary number of test scores, with each test score being a positive integer between 0 and 100.\n",
    "\n",
    "The program shall repeatedly ask the user to enter a score or a stop char\n",
    "The program shall then validate the input, making sure that each test score is between 0 and 100. If a test score is not valid, the program should print an error message and ignore that test score when calculating the average.\n",
    "Once the average score has been calculated, the program should assign a letter grade to the average based on the following scale: ● 90-100: A ● 80-89: B ● 70-79: C ● 60-69: D ● 0-59: F\n",
    "The program should then print the average score and the letter grade."
   ]
  },
  {
   "cell_type": "code",
   "execution_count": 110,
   "metadata": {},
   "outputs": [
    {
     "name": "stdout",
     "output_type": "stream",
     "text": [
      "95.0 A\n"
     ]
    }
   ],
   "source": [
    "list = []\n",
    "\n",
    "while True:\n",
    "    score = int(input(\"enter a score from 0 to 100:  - q to quit\"))\n",
    "    if score == 00:\n",
    "        break\n",
    "    if 0 <= score <= 100:\n",
    "        list.append(score)\n",
    "    else:\n",
    "        print(\"error\")\n",
    "\n",
    "count = 0\n",
    "sum = 0\n",
    "for i in range(len(list)):\n",
    "    count += 1\n",
    "    sum += list[i]\n",
    "    \n",
    "average = sum / count\n",
    "\n",
    "if 90 <= average <= 100:\n",
    "    print(average, \"A\")\n",
    "elif 80 <= average <= 89:\n",
    "    print(average, \"B\")\n",
    "elif 70 <= average <= 79:\n",
    "    print(average, \"C\")\n",
    "elif 60 <= average <= 69:\n",
    "    print(average, \"D\")\n",
    "elif 0 <= average <= 59:\n",
    "    print(average, \"F\")"
   ]
  },
  {
   "cell_type": "markdown",
   "metadata": {},
   "source": [
    "## DICTIONARIES"
   ]
  },
  {
   "cell_type": "code",
   "execution_count": 19,
   "metadata": {},
   "outputs": [
    {
     "name": "stdout",
     "output_type": "stream",
     "text": [
      "apple:3\n",
      "banana:5\n",
      "cherry:50\n"
     ]
    }
   ],
   "source": [
    "fruitbasket = { \"apple\":3, \"banana\":5, \"cherry\":50 }\n",
    "for key in fruitbasket:\n",
    "    print( \"{}:{}\".format( key, fruitbasket[key] ))\n"
   ]
  },
  {
   "cell_type": "code",
   "execution_count": 1,
   "metadata": {},
   "outputs": [
    {
     "name": "stdout",
     "output_type": "stream",
     "text": [
      "berlin\n"
     ]
    }
   ],
   "source": [
    "# Definition of countries and capital\n",
    "countries = ['spain', 'france', 'germany', 'norway']\n",
    "capitals = ['madrid', 'paris', 'berlin', 'oslo']\n",
    "\n",
    "# Get index of 'germany': ind_ger\n",
    "ind_ger= countries.index('germany')\n",
    "\n",
    "# Use ind_ger to print out capital of Germany\n",
    "print(capitals[ind_ger])"
   ]
  },
  {
   "cell_type": "code",
   "execution_count": 2,
   "metadata": {},
   "outputs": [
    {
     "name": "stdout",
     "output_type": "stream",
     "text": [
      "dict_keys(['spain', 'france', 'germany', 'norway'])\n",
      "oslo\n"
     ]
    }
   ],
   "source": [
    "# Definition of dictionary\n",
    "europe = {'spain':'madrid', 'france':'paris', 'germany':'berlin', 'norway':'oslo' }\n",
    "\n",
    "# Print out the keys in europe\n",
    "print(europe.keys())\n",
    "\n",
    "# Print out value that belongs to key 'norway'\n",
    "print(europe['norway'])"
   ]
  },
  {
   "cell_type": "code",
   "execution_count": 4,
   "metadata": {},
   "outputs": [
    {
     "name": "stdout",
     "output_type": "stream",
     "text": [
      "True\n",
      "{'spain': 'madrid', 'france': 'paris', 'germany': 'berlin', 'norway': 'oslo', 'italy': 'rome', 'poland': 'warsaw'}\n"
     ]
    }
   ],
   "source": [
    "# Definition of dictionary\n",
    "europe = {'spain':'madrid', 'france':'paris', 'germany':'berlin', 'norway':'oslo', 'australia':'vienna' }\n",
    "\n",
    "# Add italy to europe\n",
    "europe['italy']='rome'\n",
    "\n",
    "# Print out italy in europe\n",
    "print('italy' in europe)\n",
    "\n",
    "# Add poland to europe\n",
    "europe['poland']='warsaw'\n",
    "\n",
    "# Remove australia\n",
    "del(europe['australia'])\n",
    "\n",
    "# Print europe\n",
    "print(europe)"
   ]
  },
  {
   "cell_type": "code",
   "execution_count": 5,
   "metadata": {},
   "outputs": [
    {
     "name": "stdout",
     "output_type": "stream",
     "text": [
      "paris\n",
      "{'spain': {'capital': 'madrid', 'population': 46.77}, 'france': {'capital': 'paris', 'population': 66.03}, 'germany': {'capital': 'berlin', 'population': 80.62}, 'norway': {'capital': 'oslo', 'population': 5.084}, 'italy': {'capital': 'rome', 'population': 59.83}}\n"
     ]
    }
   ],
   "source": [
    "# Dictionary of dictionaries\n",
    "europe = { 'spain': { 'capital':'madrid', 'population':46.77 },\n",
    "           'france': { 'capital':'paris', 'population':66.03 },\n",
    "           'germany': { 'capital':'berlin', 'population':80.62 },\n",
    "           'norway': { 'capital':'oslo', 'population':5.084 } }\n",
    "\n",
    "\n",
    "# Print out the capital of France\n",
    "print(europe['france']['capital'])\n",
    "\n",
    "# Create sub-dictionary data\n",
    "data={'capital': 'rome', 'population': 59.83}\n",
    "\n",
    "# Add data to europe under key 'italy'\n",
    "europe['italy']=data\n",
    "\n",
    "# Print europe\n",
    "print(europe)"
   ]
  },
  {
   "cell_type": "markdown",
   "metadata": {},
   "source": [
    "## OBJECT ORIENTED PROGRAMMING"
   ]
  },
  {
   "cell_type": "markdown",
   "metadata": {},
   "source": [
    "**Exercise** Create a list of all the points with integer coordinates, with both their x and y coordinates ranging from 0 to 3."
   ]
  },
  {
   "cell_type": "code",
   "execution_count": 114,
   "metadata": {},
   "outputs": [
    {
     "name": "stdout",
     "output_type": "stream",
     "text": [
      "[(0, 0), (0, 1), (0, 2), (0, 3), (1, 0), (1, 1), (1, 2), (1, 3), (2, 0), (2, 1), (2, 2), (2, 3), (3, 0), (3, 1), (3, 2), (3, 3)]\n"
     ]
    }
   ],
   "source": [
    "points = [(x, y) for x in range(4) for y in range(4)]\n",
    "print(points)"
   ]
  },
  {
   "cell_type": "code",
   "execution_count": 115,
   "metadata": {},
   "outputs": [
    {
     "name": "stdout",
     "output_type": "stream",
     "text": [
      "<__main__.Point object at 0x7fe544b22a10>\n"
     ]
    }
   ],
   "source": [
    "class Point:\n",
    "    def __init__( self, x=0.0, y=0.0 ):\n",
    "        self.x = x \n",
    "        self.y = y\n",
    "p = Point( 3.5, 5.0 ) \n",
    "print( p )"
   ]
  },
  {
   "cell_type": "code",
   "execution_count": 118,
   "metadata": {},
   "outputs": [
    {
     "name": "stdout",
     "output_type": "stream",
     "text": [
      "(3.5, 5.0)\n"
     ]
    }
   ],
   "source": [
    "class Point:\n",
    "    def __init__( self, x=0.0, y=0.0 ):\n",
    "        self.x = x\n",
    "        self.y = y\n",
    "    def __repr__( self ):\n",
    "        return \"({}, {})\".format( self.x, self.y ) \n",
    "\n",
    "p = Point( 3.5, 5.0 )\n",
    "print( p )"
   ]
  },
  {
   "cell_type": "markdown",
   "metadata": {},
   "source": [
    "**Exercise 20.2** A student has a last name, a first name, a date of birth (either a year, month, and day, or a datetime object if you took the liberty of studying the datetime module already), and an administration number. A course has a name and a number. Students can enroll in courses. Create a class Student and a class Course. Create several students and several courses. Enroll each student in some of the courses. Display a list of students, showing their number, first name, last name, and age, and per student which courses he or she is enrolled in."
   ]
  },
  {
   "cell_type": "markdown",
   "metadata": {},
   "source": []
  },
  {
   "cell_type": "code",
   "execution_count": 183,
   "metadata": {},
   "outputs": [
    {
     "name": "stdout",
     "output_type": "stream",
     "text": [
      "099: uno a (11)\n",
      "No courses\n",
      "088: due b (10)\n",
      "No courses\n",
      "077: tre c (9)\n",
      "No courses\n"
     ]
    }
   ],
   "source": [
    "from random import random\n",
    "\n",
    "class Course():\n",
    "    def __init__(self, name, number):\n",
    "        self.name = name\n",
    "        self.number = number\n",
    "    def __repr__( self ):\n",
    "        return \"{}: {}\".format( self.number, self.name )\n",
    "\n",
    "class Student():\n",
    "    def __init__(self, last_name, first_name, date_of_birth, adm_number):\n",
    "        self.last_name = last_name\n",
    "        self.first_name = first_name\n",
    "        self.date_of_birth = date_of_birth\n",
    "        self.adm_number = adm_number\n",
    "        self.courses = []\n",
    "    def __repr__(self):\n",
    "        return(\"{}, {}, {}, {}\".format(self.last_name, self.first_name, self.date_of_birth, self.adm_number))    \n",
    "    def __enroll__(self, course):\n",
    "        if course not in courses:\n",
    "            self.courses.append(course)\n",
    "    \n",
    "students = [\n",
    "    Student(\"uno\", \"a\", 11, \"099\"),\n",
    "    Student(\"due\", \"b\", 10, \"088\"),\n",
    "    Student(\"tre\", \"c\", 9, \"077\")]\n",
    "\n",
    "courses= [\n",
    "    Course(\"storia\", \"5\"), \n",
    "    Course(\"latino\", \"10\")]\n",
    "\n",
    "for student in students: \n",
    "    for course in courses:\n",
    "        if random() > 0.3:\n",
    "            student.__enroll__(course)\n",
    "\n",
    "for student in students:\n",
    "    print(\"{}: {} {} ({})\".format(student.adm_number, student.last_name, student.first_name, student.date_of_birth))\n",
    "    if len(student.courses) == 0:\n",
    "        print(\"No courses\")\n",
    "    for course in student.courses:\n",
    "        print(\"{}\".format(course))    \n"
   ]
  }
 ],
 "metadata": {
  "colab": {
   "provenance": []
  },
  "kernelspec": {
   "display_name": "Python 3 (ipykernel)",
   "language": "python",
   "name": "python3"
  },
  "language_info": {
   "codemirror_mode": {
    "name": "ipython",
    "version": 3
   },
   "file_extension": ".py",
   "mimetype": "text/x-python",
   "name": "python",
   "nbconvert_exporter": "python",
   "pygments_lexer": "ipython3",
   "version": "3.1.undefined"
  }
 },
 "nbformat": 4,
 "nbformat_minor": 4
}
