{
 "cells": [
  {
   "cell_type": "code",
   "execution_count": 19,
   "id": "f06f74ab-9014-4261-9145-b853a9454571",
   "metadata": {},
   "outputs": [],
   "source": [
    "import math\n",
    "def mergesort(A, p, r):\n",
    "    if p < r:\n",
    "        q = (p+r)//2\n",
    "        mergesort(A, p, q)\n",
    "        mergesort(A, q+1, r)\n",
    "        merge(A, p, q, r)\n",
    "    return A\n",
    "\n",
    "def merge(A, p, q, r):\n",
    "    # definire i 2 limiti per next for loops\n",
    "    n1 = q-p+1\n",
    "    n2 = r-q\n",
    "    # inizializzare 2 arrays (L, R) contenenti gli elementi sorted\n",
    "    L = [0] * (n1+1)\n",
    "    R = [0] * (n2+1)\n",
    "    for  i in range(n1):\n",
    "        L[i] = A[p+i]\n",
    "    for j in range(n2):\n",
    "        R[j] = A[q+1+j]\n",
    "    # pongo sentinels per evitare alcuni if in prossimo loop\n",
    "    L[n1] = float('inf')\n",
    "    R[n2] = float('inf')\n",
    "    # modifichiamo array originale A\n",
    "    i = j = 0\n",
    "    for k in range(p, r+1):\n",
    "        if L[i] <= R[j]:\n",
    "            A[k] = L[i]\n",
    "            i += 1\n",
    "        else:\n",
    "            A[k] = R[j]\n",
    "            j +=1\n",
    "    return A"
   ]
  },
  {
   "cell_type": "code",
   "execution_count": 21,
   "id": "db7d9f19-86bd-4bdf-b8c7-695925be8822",
   "metadata": {},
   "outputs": [
    {
     "name": "stdout",
     "output_type": "stream",
     "text": [
      "[1, 4, 8, 9]\n"
     ]
    }
   ],
   "source": [
    "A = [9, 8, 4, 1]\n",
    "mergesort(A, 0, len(A)-1)\n",
    "print(A)"
   ]
  },
  {
   "cell_type": "markdown",
   "id": "109b28ec-f59e-48b5-84c1-16e8da058fb5",
   "metadata": {},
   "source": [
    "O(nlogn) \\\n",
    "in-place: no \\\n",
    "stability: yes "
   ]
  },
  {
   "cell_type": "code",
   "execution_count": null,
   "id": "9be10dd6-54d6-4377-b016-b2014c8324b9",
   "metadata": {},
   "outputs": [],
   "source": []
  }
 ],
 "metadata": {
  "kernelspec": {
   "display_name": "Python 3 (ipykernel)",
   "language": "python",
   "name": "python3"
  },
  "language_info": {
   "codemirror_mode": {
    "name": "ipython",
    "version": 3
   },
   "file_extension": ".py",
   "mimetype": "text/x-python",
   "name": "python",
   "nbconvert_exporter": "python",
   "pygments_lexer": "ipython3",
   "version": "3.12.1"
  }
 },
 "nbformat": 4,
 "nbformat_minor": 5
}
