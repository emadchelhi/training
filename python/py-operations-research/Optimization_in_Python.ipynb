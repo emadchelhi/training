{
  "cells": [
    {
      "cell_type": "markdown",
      "metadata": {
        "id": "J8RNxZRG71FM"
      },
      "source": [
        "## Introduction to mathematical optimization\n",
        "\n",
        "Mathematical optimization is a branch of applied and computational mathematics that aims to find the ideal inputs for a specific problem. In agriculture, mathematical optimization maximizes crop yields by analyzing variables such as soil conditions and weather to have the best crop quantity and quality.\n"
      ]
    },
    {
      "cell_type": "markdown",
      "metadata": {
        "id": "IYhFM6Ve8zEe"
      },
      "source": [
        "## Applying an objective function\n",
        "You work for a media company and are faced with the problem of minimizing the cost to print and distribute magazines. You want to find the optimal number of magazines to publish and print for the smallest cost.\n",
        "\n",
        "In your organization, the costs associated with a number of magazines printed is calculated using the following equation:\n",
        "$C = 50 + 5*(q-2)**2$\n",
        "\n",
        "The costs\n",
        " and quantity of magazines\n",
        " are in thousands, so the 50 represents $50,000, the fixed costs of your business, such as paying the rent on the building."
      ]
    },
    {
      "cell_type": "code",
      "execution_count": 1,
      "metadata": {
        "colab": {
          "base_uri": "https://localhost:8080/",
          "height": 449
        },
        "id": "f1UIX0vc9cc-",
        "outputId": "b677393b-1682-4288-d39c-57a68c888051"
      },
      "outputs": [
        {
          "data": {
            "image/png": "[encoded data removed]",
            "text/plain": [
              "<Figure size 640x480 with 1 Axes>"
            ]
          },
          "metadata": {},
          "output_type": "display_data"
        }
      ],
      "source": [
        "import numpy as np\n",
        "import matplotlib.pyplot as plt\n",
        "# Create an array of integers from 0 to 10\n",
        "quantity = np.arange(10)\n",
        "\n",
        "# Define the cost function\n",
        "def cost(q):\n",
        "  return 50 + 5*(q-2)**2\n",
        "\n",
        "# Plot cost versus quantity\n",
        "plt.plot(quantity, cost(quantity))\n",
        "plt.xlabel('Quantity (thousands)')\n",
        "plt.ylabel('Cost ($ K)')\n",
        "plt.show()"
      ]
    },
    {
      "cell_type": "markdown",
      "metadata": {
        "id": "f7k9uSfl8-xc"
      },
      "source": [
        "## Exhaustive search method\n",
        "You've applied the objective function and visualized the result; however, you could only eye-ball the optimal value by reviewing the plot. A more precise way of finding this value is with the exhaustive search method.\n",
        "\n",
        "You're again working for a media company that publishes and prints magazines, but this time, you'll discover how to maximize profit rather than minimize cost. Recall that the profit and quantity units are in the thousands, so a q of 1 is 1000 magazines and a profit of 5 is $5000.\n",
        "\n",
        "The same quantity array from the previous exercise has been provided for you, along with a profit() function to optimize."
      ]
    },
    {
      "cell_type": "code",
      "execution_count": 2,
      "metadata": {
        "colab": {
          "base_uri": "https://localhost:8080/"
        },
        "id": "Ru7X7a5N7mXt",
        "outputId": "553c9dab-ac22-45ab-b96f-e5a55ca1c511"
      },
      "outputs": [
        {
          "name": "stdout",
          "output_type": "stream",
          "text": [
            "You need to print 5000 magazines to make the maximum profit of $11000.\n"
          ]
        }
      ],
      "source": [
        "# Calculate the profit for every quantity\n",
        "def profit(q):\n",
        "  return (10 * q - 25 - q**2) + 11\n",
        "\n",
        "profits = profit(quantity)\n",
        "\n",
        "# Find the maximum profit\n",
        "max_profit = profits.max()\n",
        "\n",
        "# Find the optimal quantity\n",
        "max_profit_ind = np.argmax(profits)\n",
        "optimal_quantity = quantity[max_profit_ind]\n",
        "\n",
        "# Print the results\n",
        "print(f\"You need to print {optimal_quantity * 1000} magazines to make the maximum profit of ${max_profit * 1000}.\")"
      ]
    },
    {
      "cell_type": "markdown",
      "metadata": {
        "id": "EQOyGHkRCu6B"
      },
      "source": [
        "## Finding the derivative\n",
        "For some objective functions, the optimum can be found using calculus by finding the derivative of the function. sympy offers a solution to avoid manually calculating these derivatives. Suppose you work in a firm that produces toy bicycles. You have the following objective function to calculate your costs, C, which is dependent on the variable, q, the quantity of bicycles produced:\n",
        "$C=2000-q^2+120q$\n",
        "\n",
        "To find the optimum value of\n",
        ", you'll find the derivative of the cost with respect to the quantity, dC/dq, using sympy."
      ]
    },
    {
      "cell_type": "code",
      "execution_count": 3,
      "metadata": {
        "colab": {
          "base_uri": "https://localhost:8080/"
        },
        "id": "-goeuJ6y9w_W",
        "outputId": "d521ab37-e3c9-4524-f3e1-163863ca76a5"
      },
      "outputs": [
        {
          "name": "stdout",
          "output_type": "stream",
          "text": [
            "The derivative is 120 - 2*q.\n",
            "Optimum quantity: [60]\n"
          ]
        }
      ],
      "source": [
        "from sympy import symbols, diff, solve\n",
        "\n",
        "# Convert q into a symbol\n",
        "q = symbols('q')\n",
        "c = 2000 - q**2 + 120 * q\n",
        "\n",
        "# Find the derivative of the objective function\n",
        "dc_dq = diff(c, q)\n",
        "print(f\"The derivative is {dc_dq}.\")\n",
        "\n",
        "# Solve the derivative\n",
        "q_opt = solve(dc_dq)\n",
        "print(f\"Optimum quantity: {q_opt}\")"
      ]
    },
    {
      "cell_type": "code",
      "execution_count": 4,
      "metadata": {},
      "outputs": [
        {
          "name": "stdout",
          "output_type": "stream",
          "text": [
            "The second derivative is -2.\n"
          ]
        }
      ],
      "source": [
        "d2c_dq2 = diff(dc_dq, q)\n",
        "print(f\"The second derivative is {d2c_dq2}.\")   "
      ]
    },
    {
      "cell_type": "markdown",
      "metadata": {},
      "source": [
        "To summarize, first derivatives help find critical points in optimization problems. Second derivatives help identify if these points are minima or maxima (2nd deriv. > 0 : minima, < 0 : maxima)"
      ]
    },
    {
      "cell_type": "markdown",
      "metadata": {},
      "source": [
        "## Multivariate optimization"
      ]
    },
    {
      "cell_type": "markdown",
      "metadata": {},
      "source": [
        "Partial derivatives with SymPy\n",
        "\n",
        "You are an economist working for an automotive company. Your manager has modeled the production process as a function of the number of machines k\n",
        " and the number of workers L to produce $F=-3k^2+100k-1/2L^2+100L$ cars. \n",
        " \n",
        " This is your multivariate objective function. You'll need to use partial derivatives to optimize this function."
      ]
    },
    {
      "cell_type": "code",
      "execution_count": 5,
      "metadata": {
        "id": "bcI4HHEjE9T8"
      },
      "outputs": [
        {
          "name": "stdout",
          "output_type": "stream",
          "text": [
            "{K: 16.6666666666667, L: 100.000000000000}\n"
          ]
        }
      ],
      "source": [
        "# Define symbols K, L\n",
        "K, L = symbols('K L')\n",
        "\n",
        "F = -3*K**2 + 100* K - (1/2)*L**2 + 100*L\n",
        "\n",
        "# Derive the partial derivatives\n",
        "dF_dK = diff(F, K)\n",
        "dF_dL = diff(F, L)\n",
        "\t\n",
        "# Solve the equations\n",
        "crit_points = solve((dF_dK, dF_dL))\n",
        "\n",
        "print(crit_points)"
      ]
    },
    {
      "cell_type": "markdown",
      "metadata": {},
      "source": [
        "## Unconstrained optimization\n"
      ]
    },
    {
      "cell_type": "markdown",
      "metadata": {},
      "source": [
        "Finding the maxima\n",
        "\n",
        "Unconstrained optimization is finding the maxima or minima of a function that does not have any constraints or restrictions on the input variables.\n",
        "\n",
        "Suppose you are launching a new product in your delicious cookie company and you want to maximize the revenue. The revenue can be modeled with this objective function where R is the revenue generated at price x.\n",
        "\n",
        "$R = -(x^2) + 3x - 5$\n",
        "\n",
        "Solve this maximization problem using SciPys minimize_scalar() which has been loaded for you."
      ]
    },
    {
      "cell_type": "code",
      "execution_count": 6,
      "metadata": {},
      "outputs": [
        {
          "name": "stdout",
          "output_type": "stream",
          "text": [
            "The maximum is 1.50 in two decimals\n"
          ]
        }
      ],
      "source": [
        "from scipy.optimize import minimize_scalar, Bounds, LinearConstraint, NonlinearConstraint\n",
        "# Define the new objective function\n",
        "def negated_function(x):\n",
        "  return -1*(-(x**2)+3*x-5)\n",
        "\n",
        "# Maximize the negated function\n",
        "result = minimize_scalar(negated_function)\n",
        "\n",
        "# Print the result\n",
        "print(f\"The maximum is {result.x:.2f} in two decimals\")"
      ]
    },
    {
      "cell_type": "markdown",
      "metadata": {},
      "source": [
        "Great job maximizing that revenue! You now want to look at minimizing costs.\n",
        "\n",
        "You'll need to consider two variables for your new cookie product, the sugar ingredient (a[0]) and the flour ingredient (a[1]). This is a multivariate optimization problem where you want to find the best way to mix these ingredients so that your cookies are delicious but not too expensive!"
      ]
    },
    {
      "cell_type": "code",
      "execution_count": 7,
      "metadata": {},
      "outputs": [
        {
          "name": "stdout",
          "output_type": "stream",
          "text": [
            "minimum is (x, y) = (2.00, 3.00) in two decimals.\n"
          ]
        }
      ],
      "source": [
        "from scipy.optimize import minimize\n",
        "def objective_function(a):\n",
        "  return (a[0] - 2)**2 + (a[1] - 3)**2 + 3 \n",
        "\n",
        "# Save your initial guess\n",
        "x0 = [1, 2]\n",
        "\n",
        "# Calculate and print the minimum\n",
        "result = minimize(objective_function, x0)\n",
        "print(f\"minimum is (x, y) = ({result.x[0]:.2f}, {result.x[1]:.2f}) in two decimals.\")"
      ]
    },
    {
      "cell_type": "markdown",
      "metadata": {},
      "source": [
        "## Bound-constrained optimization\n"
      ]
    },
    {
      "cell_type": "markdown",
      "metadata": {},
      "source": [
        "Working with Bounds\n",
        "Bound-constrained problems have variables that are limited to a range of values.\n",
        "\n",
        "You're running a coffee shop and need to place an order for two varieties of coffee beans: b[0] and b[1]. You want to minimize costs. Your supplier only accepts minimum quantity orders of 2 units for each bean, and you can afford a maximum of 100 units per bean."
      ]
    },
    {
      "cell_type": "code",
      "execution_count": 8,
      "metadata": {},
      "outputs": [
        {
          "name": "stdout",
          "output_type": "stream",
          "text": [
            "[6.         7.99999999]\n"
          ]
        }
      ],
      "source": [
        "def objective_function(b):\n",
        "  return (b[0] - 6)**2 + (b[1] - 8)**2 + 3\n",
        "\n",
        "# Set the bounds of your problem\n",
        "bounds = [[2, 100], [2, 100]]\n",
        "\n",
        "x0 = [10, 5]\n",
        "\n",
        "# Find the minimum\n",
        "result = minimize(objective_function, x0, bounds=bounds)\n",
        "\n",
        "print(result.x)"
      ]
    },
    {
      "cell_type": "markdown",
      "metadata": {},
      "source": [
        "Handling hard inequalities\n",
        "\n",
        "Back in the coffee shop, you want to look at minimizing daily expenses. You have an objective function that calculates your production costs, and a constraint function that tells you the limits of how much coffee you can produce.\n",
        "\n",
        "Apply scipy to find the optimal allocation of resources to minimize costs."
      ]
    },
    {
      "cell_type": "code",
      "execution_count": 9,
      "metadata": {},
      "outputs": [
        {
          "name": "stdout",
          "output_type": "stream",
          "text": [
            " message: Inequality constraints incompatible\n",
            " success: False\n",
            "  status: 4\n",
            "     fun: -5596424370440672.0\n",
            "       x: [ 2.665e+05 -1.775e+05]\n",
            "     nit: 3\n",
            "     jac: [ 0.000e+00  9.456e+10]\n",
            "    nfev: 9\n",
            "    njev: 3\n"
          ]
        }
      ],
      "source": [
        "def objective_function(b):\n",
        "  return (b[0] - 5) ** 2 + (b[1] - 3) ** 3\n",
        "\n",
        "def constraint_function(x):\n",
        "    return 2*x[0] + 3*x[1] - 6\n",
        "\n",
        "# Set the constraint variable\n",
        "constraint = {'type':'ineq',\n",
        "              'fun': constraint_function}\n",
        "\n",
        "x0 = [20, 20]\n",
        "\n",
        "# Find the minimum\n",
        "result = minimize(objective_function, x0, constraints=[constraint])\n",
        "\n",
        "print(result)"
      ]
    },
    {
      "cell_type": "markdown",
      "metadata": {},
      "source": [
        "### Linear programming\n"
      ]
    },
    {
      "cell_type": "markdown",
      "metadata": {},
      "source": [
        "PuLP for linear optimization\n",
        "\n",
        "A farmer faces a diet problem for their cattle. The vet's recommendation is that each animal is fed at least 7 pounds of a mix of corn and soybean with at least 17% protein and 2% fat. Below are the relevant nutritional elements:\n",
        "\n",
        "Food type\tCost ($/lb)\tProtein (%)\tFat (%)\n",
        "\n",
        "corn\t     0.11\t         10\t           2.5\n",
        "\n",
        "soybean\t      0.28\t         40\t           1\n",
        "\n",
        "You will use this information to minimize costs subject to nutritional constraints."
      ]
    },
    {
      "cell_type": "code",
      "execution_count": 10,
      "metadata": {},
      "outputs": [
        {
          "name": "stdout",
          "output_type": "stream",
          "text": [
            "Welcome to the CBC MILP Solver \n",
            "Version: 2.10.3 \n",
            "Build Date: Dec 15 2019 \n",
            "\n",
            "command line - /Users/emadchelhi/miniconda3/envs/1.0/lib/python3.12/site-packages/pulp/solverdir/cbc/osx/64/cbc /var/folders/1x/nt297b5d1n771twhnkz_vs_80000gn/T/0a6676cb11e0422ca69093ea5b06916a-pulp.mps -timeMode elapsed -branch -printingOptions all -solution /var/folders/1x/nt297b5d1n771twhnkz_vs_80000gn/T/0a6676cb11e0422ca69093ea5b06916a-pulp.sol (default strategy 1)\n",
            "At line 2 NAME          MODEL\n",
            "At line 3 ROWS\n",
            "At line 8 COLUMNS\n",
            "At line 17 RHS\n",
            "At line 21 BOUNDS\n",
            "At line 22 ENDATA\n",
            "Problem MODEL has 3 rows, 2 columns and 6 elements\n",
            "Coin0008I MODEL read with 0 errors\n",
            "Option for timeMode changed from cpu to elapsed\n",
            "Presolve 3 (0) rows, 2 (0) columns and 6 (0) elements\n",
            "0  Obj 0 Primal inf 6.9999999 (1)\n",
            "2  Obj 1.0476667\n",
            "Optimal - objective value 1.0476667\n",
            "Optimal objective 1.047666667 - 2 iterations time 0.002\n",
            "Option for printingOptions changed from normal to all\n",
            "Total time (CPU seconds):       0.00   (Wallclock seconds):       0.03\n",
            "\n",
            "Cost = 1.05\n",
            "Pounds of soybean = 1.63, pounds of corn = 5.37\n"
          ]
        }
      ],
      "source": [
        "from pulp import *\n",
        "# Define the model\n",
        "model = LpProblem(\"MinCost\", LpMinimize) \n",
        "\n",
        "# Define the variables\n",
        "C = LpVariable(\"C\", lowBound=0)\n",
        "S = LpVariable(\"S\", lowBound=0) \n",
        "\n",
        "# Add the objective function and constraints\n",
        "model += 0.11*C + 0.28*S \n",
        "model += 40*S + 10*C >= 17*(C+S), \"M_protein\"\n",
        "model += S + 2.5*C >= 2*(C+S), \"M_fat\"\n",
        "model += C + S >= 7, \"M_weight\"\n",
        "\n",
        "# Solve the model\n",
        "status=model.solve()\n",
        "print(f\"Cost = {value(model.objective):.2f}\")\n",
        "print(f\"Pounds of soybean = {S.varValue:.2f}, pounds of corn = {C.varValue:.2f}\") "
      ]
    },
    {
      "cell_type": "markdown",
      "metadata": {},
      "source": [
        "#### Handling multiple variables and constraints"
      ]
    },
    {
      "cell_type": "code",
      "execution_count": 11,
      "metadata": {},
      "outputs": [
        {
          "name": "stdout",
          "output_type": "stream",
          "text": [
            "Welcome to the CBC MILP Solver \n",
            "Version: 2.10.3 \n",
            "Build Date: Dec 15 2019 \n",
            "\n",
            "command line - /Users/emadchelhi/miniconda3/envs/1.0/lib/python3.12/site-packages/pulp/solverdir/cbc/osx/64/cbc /var/folders/1x/nt297b5d1n771twhnkz_vs_80000gn/T/b4ae5201c2464998b7c9144f8ecdca81-pulp.mps -timeMode elapsed -branch -printingOptions all -solution /var/folders/1x/nt297b5d1n771twhnkz_vs_80000gn/T/b4ae5201c2464998b7c9144f8ecdca81-pulp.sol (default strategy 1)\n",
            "At line 2 NAME          MODEL\n",
            "At line 3 ROWS\n",
            "At line 8 COLUMNS\n",
            "At line 17 RHS\n",
            "At line 21 BOUNDS\n",
            "At line 22 ENDATA\n",
            "Problem MODEL has 3 rows, 2 columns and 6 elements\n",
            "Coin0008I MODEL read with 0 errors\n",
            "Option for timeMode changed from cpu to elapsed\n",
            "Presolve 3 (0) rows, 2 (0) columns and 6 (0) elements\n",
            "0  Obj 0 Primal inf 6.9999999 (1)\n",
            "2  Obj 1.0476667\n",
            "Optimal - objective value 1.0476667\n",
            "Optimal objective 1.047666667 - 2 iterations time 0.002\n",
            "Option for printingOptions changed from normal to all\n",
            "Total time (CPU seconds):       0.00   (Wallclock seconds):       0.00\n",
            "\n",
            "Cost = 1.05\n",
            "Pounds of soybean = 1.63, pounds of corn = 5.37\n"
          ]
        }
      ],
      "source": [
        "model = LpProblem(\"MinCost\", LpMinimize) \n",
        "\n",
        "# Adjust the variable definition\n",
        "variables = LpVariable.dicts('Food', ['C', 'S'], lowBound=0)\n",
        "\n",
        "# Adjust the objective function\n",
        "cost = {'C': 0.11, 'S': 0.28}\n",
        "model += lpSum([cost[i] * variables[i] for i in ['C', 'S']])\n",
        "\n",
        "model += 40*variables['S'] + 10*variables['C'] >= 17*(variables['C']+variables['S']), \"M_protein\"\n",
        "model += variables['S'] + 2.5*variables['C'] >= 2*(variables['C']+variables['S']), \"M_fat\"\n",
        "model += variables['C'] + variables['S'] >= 7, \"M_weight\"\n",
        "\n",
        "model.solve()\n",
        "print(f\"Cost = {value(model.objective):.2f}\")\n",
        "print(f\"Pounds of soybean = {variables['S'].varValue:.2f}, pounds of corn = {variables['C'].varValue:.2f}\") "
      ]
    },
    {
      "cell_type": "markdown",
      "metadata": {},
      "source": [
        "## Non-linear Constrained Optimization\n"
      ]
    },
    {
      "cell_type": "markdown",
      "metadata": {},
      "source": [
        "Visualize the indifference curve\n",
        "\n",
        "You have been provided the following utility function and constraint.\n",
        "\n",
        "$U(c,m)=c^{0.7}+m^{0.3}$\n",
        "\n",
        "$c+m=2$\n",
        "\n",
        "Use this to visualize the indifference curve."
      ]
    },
    {
      "cell_type": "code",
      "execution_count": 12,
      "metadata": {},
      "outputs": [
        {
          "data": {
            "image/png": "[encoded data removed]",
            "text/plain": [
              "<Figure size 800x600 with 1 Axes>"
            ]
          },
          "metadata": {},
          "output_type": "display_data"
        }
      ],
      "source": [
        "c = np.linspace(1, 2, 10)  \n",
        "# Define the constraint and generate combinations\n",
        "m = 2 - c \n",
        "C, M = np.meshgrid(c, m)\n",
        "# Define the utility function\n",
        "F = C**0.7 * M**0.3\n",
        "\n",
        "plt.figure(figsize=(8, 6))\n",
        "# Plot the controls and constraints\n",
        "contours = plt.contour(C, M, F, levels=[0.9, 1.00, 1.085, 1.2])\n",
        "plt.clabel(contours)\n",
        "plt.plot(c, m, color='red')\n",
        "plt.title('Indifference Curve with Constraint Line')\n",
        "plt.xlabel('c')\n",
        "plt.ylabel('m')\n",
        "plt.grid(True)\n",
        "plt.show()"
      ]
    },
    {
      "cell_type": "markdown",
      "metadata": {},
      "source": [
        "#### Solving with sciPy\n",
        "Bill is an aspiring piano student who allocates hours of study in classical \n",
        " and modern \n",
        " music. His preferences are represented by the same utility function you just plotted:\n",
        "\n",
        "$U(c,m)=c^{0.7}+m^{0.3}$\n",
        "\n",
        "Hours of study sum up to $2(c+m=2)$ daily. Help Bill find the optimal studying plan."
      ]
    },
    {
      "cell_type": "code",
      "execution_count": 13,
      "metadata": {},
      "outputs": [
        {
          "name": "stdout",
          "output_type": "stream",
          "text": [
            "Optimal study hours for classical music: 1.4\n",
            "Optimal study hours for modern music: 0.6\n"
          ]
        }
      ],
      "source": [
        "# Define the utility function\n",
        "def utility_function(vars):\n",
        "    c, m = vars\n",
        "    return -(c**.7 * m**.3)\n",
        "\n",
        "# Define the constraint function\n",
        "def constraint(vars):\n",
        "    return 2 - np.sum(vars)\n",
        "\n",
        "initial_guess = [12, 12]  \n",
        "\n",
        "# Set up the constraint\n",
        "constraint_definition = {'type': 'eq', 'fun': constraint}\n",
        "\n",
        "# Perform optimization\n",
        "result = minimize(utility_function, initial_guess, constraints=constraint_definition)\n",
        "c, m = result.x\n",
        "\n",
        "print(\"Optimal study hours for classical music:\", round(c, 2))\n",
        "print(\"Optimal study hours for modern music:\", round(m, 2))"
      ]
    },
    {
      "cell_type": "markdown",
      "metadata": {},
      "source": [
        "Linear constrained biscuits\n",
        "\n",
        "Congratulations! Your biscuit business has expanded. You now have two bakeries, A and B, to help you deliver your biscuits nationwide.\n",
        "\n",
        "Your bakeries can each make 100 biscuits a day and the cost of making a biscuit in bakery A is 1.5 the quantity q while in bakery B it is 1.75 q.\n",
        "\n",
        "Price is defined by 150-q.\n",
        "\n",
        "Your business is booming and you already have 140 biscuit pre-orders for the day. You want to maximize your profit for the day. How many biscuits should you make in each bakery?\n",
        "\n",
        "minimize, Bounds, and LinearConstraint have been loaded for you and the revenue function R is already defined."
      ]
    },
    {
      "cell_type": "code",
      "execution_count": 14,
      "metadata": {},
      "outputs": [
        {
          "name": "stdout",
          "output_type": "stream",
          "text": [
            "Optimization terminated successfully\n",
            "The optimal number of biscuits to bake in bakery A is: 100.00\n",
            "The optimal number of biscuits to bake in bakery A is: 40.00\n",
            "The bakery company made: $1180.00\n"
          ]
        }
      ],
      "source": [
        "def R(q):\n",
        "    return (150 - q[0] - q[1]) * (q[0] + q[1])\n",
        "\n",
        "# Define the cost function\n",
        "def C(q): \n",
        "  return 1.5*q[0]+1.75*q[1]\n",
        "\n",
        "# Define the profit function\n",
        "def profit(q): \n",
        "  return R(q) - C(q)\n",
        "\n",
        "# Define the bounds and constraints\n",
        "bounds = Bounds([0,0], [100,100]) \n",
        "constraints = LinearConstraint([1, 1], lb=140) \n",
        "\n",
        "# Perform optimization\n",
        "result = minimize(lambda q: -profit(q),                 \n",
        "                  [50, 50],              \n",
        "                  bounds=bounds,\n",
        "                  constraints=constraints)\n",
        "\n",
        "print(result.message)\n",
        "print(f'The optimal number of biscuits to bake in bakery A is: {result.x[0]:.2f}')\n",
        "print(f'The optimal number of biscuits to bake in bakery A is: {result.x[1]:.2f}')\n",
        "print(f'The bakery company made: ${-result.fun:.2f}')"
      ]
    },
    {
      "cell_type": "markdown",
      "metadata": {},
      "source": [
        "#### Non-linear Constraints in sciPy\n",
        "\n",
        "Recall the constraint for the bakeries is they need to fulfill a minimum of 140 pre-orders and each factory can make 100 biscuits daily."
      ]
    },
    {
      "cell_type": "code",
      "execution_count": 15,
      "metadata": {},
      "outputs": [
        {
          "ename": "ModuleNotFoundError",
          "evalue": "No module named 'sciPy'",
          "output_type": "error",
          "traceback": [
            "\u001b[0;31m---------------------------------------------------------------------------\u001b[0m",
            "\u001b[0;31mModuleNotFoundError\u001b[0m                       Traceback (most recent call last)",
            "Cell \u001b[0;32mIn[15], line 1\u001b[0m\n\u001b[0;32m----> 1\u001b[0m \u001b[38;5;28;01mfrom\u001b[39;00m \u001b[38;5;21;01msciPy\u001b[39;00m\u001b[38;5;21;01m.\u001b[39;00m\u001b[38;5;21;01moptimize\u001b[39;00m \u001b[38;5;28;01mimport\u001b[39;00m NonlinearConstraint\n\u001b[1;32m      2\u001b[0m \u001b[38;5;66;03m# Redefine the problem with NonlinearConstraint\u001b[39;00m\n\u001b[1;32m      3\u001b[0m constraints \u001b[38;5;241m=\u001b[39m NonlinearConstraint(\u001b[38;5;28;01mlambda\u001b[39;00m q: q[\u001b[38;5;241m0\u001b[39m] \u001b[38;5;241m+\u001b[39m q[\u001b[38;5;241m1\u001b[39m], lb\u001b[38;5;241m=\u001b[39m\u001b[38;5;241m140\u001b[39m, ub\u001b[38;5;241m=\u001b[39mnp\u001b[38;5;241m.\u001b[39minf)\n",
            "\u001b[0;31mModuleNotFoundError\u001b[0m: No module named 'sciPy'"
          ]
        }
      ],
      "source": [
        "from sciPy.optimize import NonlinearConstraint\n",
        "# Redefine the problem with NonlinearConstraint\n",
        "constraints = NonlinearConstraint(lambda q: q[0] + q[1], lb=140, ub=np.inf)\n",
        "\n",
        "# Perform optimization\n",
        "result = minimize(lambda q: -profit(q), \n",
        "                  [50, 50], \n",
        "                  bounds=Bounds([0,0],[100,100]),\n",
        "                  constraints=constraints)\n",
        "\n",
        "print(result.message)\n",
        "print(f'The optimal number of biscuits to bake in bakery A is: {result.x[0]:.2f}')\n",
        "print(f'The optimal number of biscuits to bake in bakery A is: {result.x[1]:.2f}')\n",
        "print(f'The bakery company made: ${-result.fun:.2f}')"
      ]
    },
    {
      "cell_type": "markdown",
      "metadata": {},
      "source": [
        "## Mixed integer linear programming\n",
        "The gown and tuxedo firm have adjusted some aspects of their business and need you to optimize for profit based on the new structure.\n",
        "\n",
        "The profit formula was $545g+330t$, where g are the gowns, and t are the tuxedos. The constraints are the same: \n",
        "\n",
        "$6g+4t<=40$, $3g+t<=20$\n",
        "\n",
        "The firm wants to increase their tuxedo profit by 10%, and Mr. S can only work 30 hours per week."
      ]
    },
    {
      "cell_type": "code",
      "execution_count": null,
      "metadata": {},
      "outputs": [
        {
          "name": "stdout",
          "output_type": "stream",
          "text": [
            "Optimization terminated successfully. (HiGHS Status 7: Optimal)\n",
            "The optimal number of gowns produced is: 5.00\n",
            "The optimal number of tuxedos produced is: -0.00\n",
            "The firm made: $2725.00\n"
          ]
        }
      ],
      "source": [
        "from scipy.optimize import milp\n",
        "\n",
        "result = milp([-545, -363],\n",
        "              integrality=[1, 1],\n",
        "              bounds=Bounds([0, 0], [20, 12]), \n",
        "              constraints=LinearConstraint([[6, 4], [3, 1]], ub=[30, 20]))\n",
        "\n",
        "print(result.message)\n",
        "print(f'The optimal number of gowns produced is: {result.x[0]:.2f}')\n",
        "print(f'The optimal number of tuxedos produced is: {result.x[1]:.2f}')\n",
        "print(f'The firm made: ${-result.fun:.2f}')"
      ]
    },
    {
      "cell_type": "markdown",
      "metadata": {},
      "source": [
        "## Transforming non-linear problems\n"
      ]
    },
    {
      "cell_type": "markdown",
      "metadata": {},
      "source": [
        "Your manager designs the firm's strategy and considers projects A, B, C and A is the prerequisite for B. Profits are respectively V=[250,200,300], the required investment is I = [2000, 1900, 2500] and only $4600 is available. o is a binary variable of whether a project is selected.\n",
        "\n",
        "Your manager gave you the problem:\n",
        "\n",
        "max $o_aV_a+o_{ab}Vb+o_cV_c$\n",
        "\n",
        "s.t. $o_aI_a+o_{ab}I_b+o_cI_c<=4600$\n",
        " \n",
        "\n",
        "Your task is to linearize and solve the profit problem.\n",
        "\n"
      ]
    },
    {
      "cell_type": "code",
      "execution_count": null,
      "metadata": {},
      "outputs": [
        {
          "name": "stdout",
          "output_type": "stream",
          "text": [
            "Welcome to the CBC MILP Solver \n",
            "Version: 2.10.3 \n",
            "Build Date: Dec 15 2019 \n",
            "\n",
            "command line - /Users/emadchelhi/miniconda3/envs/1.0/lib/python3.12/site-packages/pulp/solverdir/cbc/osx/64/cbc /var/folders/1x/nt297b5d1n771twhnkz_vs_80000gn/T/c9b9ea01752349e482af9919115356fc-pulp.mps -max -timeMode elapsed -branch -printingOptions all -solution /var/folders/1x/nt297b5d1n771twhnkz_vs_80000gn/T/c9b9ea01752349e482af9919115356fc-pulp.sol (default strategy 1)\n",
            "At line 2 NAME          MODEL\n",
            "At line 3 ROWS\n",
            "At line 9 COLUMNS\n",
            "At line 31 RHS\n",
            "At line 36 BOUNDS\n",
            "At line 41 ENDATA\n",
            "Problem MODEL has 4 rows, 4 columns and 10 elements\n",
            "Coin0008I MODEL read with 0 errors\n",
            "Option for timeMode changed from cpu to elapsed\n",
            "Continuous objective value is 560.526 - 0.00 seconds\n",
            "Cgl0003I 0 fixed, 0 tightened bounds, 1 strengthened rows, 0 substitutions\n",
            "Cgl0003I 0 fixed, 0 tightened bounds, 1 strengthened rows, 0 substitutions\n",
            "Cgl0004I processed model has 4 rows, 4 columns (4 integer (4 of which binary)) and 10 elements\n",
            "Cutoff increment increased from 1e-05 to 49.9999\n",
            "Cbc0038I Initial state - 0 integers unsatisfied sum - 0\n",
            "Cbc0038I Solution found of -550\n",
            "Cbc0038I Before mini branch and bound, 4 integers at bound fixed and 0 continuous\n",
            "Cbc0038I Mini branch and bound did not improve solution (0.02 seconds)\n",
            "Cbc0038I After 0.02 seconds - Feasibility pump exiting with objective of -550 - took 0.00 seconds\n",
            "Cbc0012I Integer solution of -550 found by feasibility pump after 0 iterations and 0 nodes (0.02 seconds)\n",
            "Cbc0001I Search completed - best objective -550, took 0 iterations and 0 nodes (0.03 seconds)\n",
            "Cbc0035I Maximum depth 0, 0 variables fixed on reduced cost\n",
            "Cuts at root node changed objective from -550 to -550\n",
            "Probing was tried 0 times and created 0 cuts of which 0 were active after adding rounds of cuts (0.000 seconds)\n",
            "Gomory was tried 0 times and created 0 cuts of which 0 were active after adding rounds of cuts (0.000 seconds)\n",
            "Knapsack was tried 0 times and created 0 cuts of which 0 were active after adding rounds of cuts (0.000 seconds)\n",
            "Clique was tried 0 times and created 0 cuts of which 0 were active after adding rounds of cuts (0.000 seconds)\n",
            "MixedIntegerRounding2 was tried 0 times and created 0 cuts of which 0 were active after adding rounds of cuts (0.000 seconds)\n",
            "FlowCover was tried 0 times and created 0 cuts of which 0 were active after adding rounds of cuts (0.000 seconds)\n",
            "TwoMirCuts was tried 0 times and created 0 cuts of which 0 were active after adding rounds of cuts (0.000 seconds)\n",
            "ZeroHalf was tried 0 times and created 0 cuts of which 0 were active after adding rounds of cuts (0.000 seconds)\n",
            "\n",
            "Result - Optimal solution found\n",
            "\n",
            "Objective value:                550.00000000\n",
            "Enumerated nodes:               0\n",
            "Total iterations:               0\n",
            "Time (CPU seconds):             0.01\n",
            "Time (Wallclock seconds):       0.03\n",
            "\n",
            "Option for printingOptions changed from normal to all\n",
            "Total time (CPU seconds):       0.01   (Wallclock seconds):       0.04\n",
            "\n",
            "Optimal found\n",
            "A: accepted\n",
            "B: rejected\n",
            "C: accepted\n",
            "AB: rejected\n",
            "Total profit = $550.0\n"
          ]
        }
      ],
      "source": [
        "from pulp import LpMaximize, LpProblem, LpVariable, lpSum, value\n",
        "\n",
        "# Initialize the optimization problem\n",
        "model = LpProblem(name=\"Optimization_in_Python\", sense=LpMaximize)\n",
        "\n",
        "# Decision variables\n",
        "o = {i: LpVariable(name=f'o_{i}', cat='Binary') for i in range(4)}\n",
        "\n",
        "# Constants\n",
        "names = ['A', 'B', 'C', 'AB']\n",
        "V = [250, 200, 300]  # Values\n",
        "I = [2000, 1900, 2500]  # Investments\n",
        "\n",
        "# Objective function\n",
        "model += (o[0]*V[0] + o[3]*V[1] + o[2]*V[2], \"TotalProfit\")\n",
        "\n",
        "# Constraints\n",
        "model += (o[0]*I[0] + o[3]*I[1] + o[2]*I[2] <= 4600, \"BudgetConstraint\")\n",
        "model += (o[3] <= o[0], \"Constraint1\")\n",
        "model += (o[3] <= o[1], \"Constraint2\")\n",
        "model += (o[3] >= o[0] + o[1] - 1, \"Constraint3\")\n",
        "\n",
        "# Solve the model\n",
        "status = model.solve()\n",
        "\n",
        "# Output\n",
        "print(f\"{'Optimal found' if status == 1 else 'Ignore solution'}\")\n",
        "\n",
        "for i, name in enumerate(names):\n",
        "    print(f\"{name}: {'accepted' if o[i].varValue == 1 else 'rejected'}\")\n",
        "print(f'Total profit = ${value(model.objective)}')"
      ]
    },
    {
      "cell_type": "markdown",
      "metadata": {},
      "source": [
        "A manager allocates 120 tasks to a senior (S), a junior (J) and an intern (I) software engineer and wants to minimize costs.\n",
        "\n",
        "The intern requires training that costs $500 prior to working on the tasks. The cost to resolve each task is c = [30, 40, 5] respectively.\n",
        "\n",
        " x holds the number of assigned tasks and o the binary for whether the intern receives training. The total cost is\n",
        "\n",
        " $TC=30x_s+40x_j+5(x_I+500)o$\n",
        "\n",
        "\n",
        "Use the BigM method to linearize this problem using the new variable z:\n",
        "\n",
        "$z=(5x_I+500)o$\n",
        "\n",
        "$-oM=<z>=oM$\n",
        "\n",
        "$-(1-o)M=<z-(5x_I+500)o>=(1-o)M$"
      ]
    },
    {
      "cell_type": "code",
      "execution_count": 21,
      "metadata": {},
      "outputs": [
        {
          "name": "stdout",
          "output_type": "stream",
          "text": [
            "Welcome to the CBC MILP Solver \n",
            "Version: 2.10.3 \n",
            "Build Date: Dec 15 2019 \n",
            "\n",
            "command line - /Users/emadchelhi/miniconda3/envs/1.0/lib/python3.12/site-packages/pulp/solverdir/cbc/osx/64/cbc /var/folders/1x/nt297b5d1n771twhnkz_vs_80000gn/T/f958f7a0f9a54617a05e8ecd323ce064-pulp.mps -timeMode elapsed -branch -printingOptions all -solution /var/folders/1x/nt297b5d1n771twhnkz_vs_80000gn/T/f958f7a0f9a54617a05e8ecd323ce064-pulp.sol (default strategy 1)\n",
            "At line 2 NAME          MODEL\n",
            "At line 3 ROWS\n",
            "At line 23 COLUMNS\n",
            "Duplicate row C0000003 at line 45 <     X0000004  C0000003  -1.000000000000e+03 >\n",
            "Duplicate row C0000004 at line 46 <     X0000004  C0000004  -1.000000000000e+03 >\n",
            "Duplicate row C0000005 at line 47 <     X0000004  C0000005   1.000000000000e+03 >\n",
            "Duplicate row C0000006 at line 48 <     X0000004  C0000006   1.000000000000e+03 >\n",
            "Duplicate row C0000008 at line 49 <     X0000004  C0000008  -1.000000000000e+03 >\n",
            "Duplicate row C0000009 at line 50 <     X0000004  C0000009  -1.000000000000e+03 >\n",
            "Duplicate row C0000010 at line 51 <     X0000004  C0000010   1.000000000000e+03 >\n",
            "Duplicate row C0000011 at line 52 <     X0000004  C0000011   1.000000000000e+03 >\n",
            "Duplicate row C0000013 at line 53 <     X0000004  C0000013  -1.000000000000e+03 >\n",
            "Duplicate row C0000014 at line 54 <     X0000004  C0000014  -1.000000000000e+03 >\n",
            "Duplicate row C0000015 at line 55 <     X0000004  C0000015   1.000000000000e+03 >\n",
            "Duplicate row C0000016 at line 56 <     X0000004  C0000016   1.000000000000e+03 >\n",
            "Duplicate row C0000003 at line 59 <     X0000004  C0000003  -1.000000000000e+03 >\n",
            "Duplicate row C0000004 at line 60 <     X0000004  C0000004  -1.000000000000e+03 >\n",
            "Duplicate row C0000005 at line 61 <     X0000004  C0000005   1.000000000000e+03 >\n",
            "Duplicate row C0000006 at line 62 <     X0000004  C0000006   1.000000000000e+03 >\n",
            "Duplicate row C0000008 at line 63 <     X0000004  C0000008  -1.000000000000e+03 >\n",
            "Duplicate row C0000009 at line 64 <     X0000004  C0000009  -1.000000000000e+03 >\n",
            "Duplicate row C0000010 at line 65 <     X0000004  C0000010   1.000000000000e+03 >\n",
            "Duplicate row C0000011 at line 66 <     X0000004  C0000011   1.000000000000e+03 >\n",
            "Duplicate row C0000013 at line 67 <     X0000004  C0000013  -1.000000000000e+03 >\n",
            "Duplicate row C0000014 at line 68 <     X0000004  C0000014  -1.000000000000e+03 >\n",
            "Duplicate row C0000015 at line 69 <     X0000004  C0000015   1.000000000000e+03 >\n",
            "Duplicate row C0000016 at line 70 <     X0000004  C0000016   1.000000000000e+03 >\n",
            "Duplicate row C0000007 at line 77 <     X0000007  C0000007   1.000000000000e+00 >\n",
            "Duplicate row C0000012 at line 78 <     X0000007  C0000012   1.000000000000e+00 >\n",
            "Duplicate row C0000017 at line 79 <     X0000007  C0000017   1.000000000000e+00 >\n",
            "Duplicate row C0000007 at line 80 <     X0000007  C0000007   1.000000000000e+00 >\n",
            "Duplicate row C0000012 at line 81 <     X0000007  C0000012   1.000000000000e+00 >\n",
            "Duplicate row C0000017 at line 82 <     X0000007  C0000017   1.000000000000e+00 >\n",
            "Duplicate row C0000007 at line 89 <     X0000010  C0000007   1.000000000000e+00 >\n",
            "Duplicate row C0000012 at line 90 <     X0000010  C0000012   1.000000000000e+00 >\n",
            "Duplicate row C0000017 at line 91 <     X0000010  C0000017   1.000000000000e+00 >\n",
            "Duplicate row C0000007 at line 92 <     X0000010  C0000007   1.000000000000e+00 >\n",
            "Duplicate row C0000012 at line 93 <     X0000010  C0000012   1.000000000000e+00 >\n",
            "Duplicate row C0000017 at line 94 <     X0000010  C0000017   1.000000000000e+00 >\n",
            "Duplicate row C0000005 at line 107 <     X0000013  C0000005   5.000000000000e+00 >\n",
            "Duplicate row C0000006 at line 108 <     X0000013  C0000006  -5.000000000000e+00 >\n",
            "Duplicate row C0000007 at line 109 <     X0000013  C0000007   1.000000000000e+00 >\n",
            "Duplicate row C0000010 at line 110 <     X0000013  C0000010   5.000000000000e+00 >\n",
            "Duplicate row C0000011 at line 111 <     X0000013  C0000011  -5.000000000000e+00 >\n",
            "Duplicate row C0000012 at line 112 <     X0000013  C0000012   1.000000000000e+00 >\n",
            "Duplicate row C0000015 at line 113 <     X0000013  C0000015   5.000000000000e+00 >\n",
            "Duplicate row C0000016 at line 114 <     X0000013  C0000016  -5.000000000000e+00 >\n",
            "Duplicate row C0000017 at line 115 <     X0000013  C0000017   1.000000000000e+00 >\n",
            "Duplicate row C0000005 at line 116 <     X0000013  C0000005   5.000000000000e+00 >\n",
            "Duplicate row C0000006 at line 117 <     X0000013  C0000006  -5.000000000000e+00 >\n",
            "Duplicate row C0000007 at line 118 <     X0000013  C0000007   1.000000000000e+00 >\n",
            "Duplicate row C0000010 at line 119 <     X0000013  C0000010   5.000000000000e+00 >\n",
            "Duplicate row C0000011 at line 120 <     X0000013  C0000011  -5.000000000000e+00 >\n",
            "Duplicate row C0000012 at line 121 <     X0000013  C0000012   1.000000000000e+00 >\n",
            "Duplicate row C0000015 at line 122 <     X0000013  C0000015   5.000000000000e+00 >\n",
            "Duplicate row C0000016 at line 123 <     X0000013  C0000016  -5.000000000000e+00 >\n",
            "Duplicate row C0000017 at line 124 <     X0000013  C0000017   1.000000000000e+00 >\n",
            "Duplicate row C0000003 at line 137 <     X0000016  C0000003  -1.000000000000e+00 >\n",
            "Duplicate row C0000004 at line 138 <     X0000016  C0000004   1.000000000000e+00 >\n",
            "Duplicate row C0000005 at line 139 <     X0000016  C0000005  -1.000000000000e+00 >\n",
            "Duplicate row C0000006 at line 140 <     X0000016  C0000006   1.000000000000e+00 >\n",
            "Duplicate row C0000008 at line 141 <     X0000016  C0000008  -1.000000000000e+00 >\n",
            "Duplicate row C0000009 at line 142 <     X0000016  C0000009   1.000000000000e+00 >\n",
            "Duplicate row C0000010 at line 143 <     X0000016  C0000010  -1.000000000000e+00 >\n",
            "Duplicate row C0000011 at line 144 <     X0000016  C0000011   1.000000000000e+00 >\n",
            "Duplicate row C0000013 at line 145 <     X0000016  C0000013  -1.000000000000e+00 >\n",
            "Duplicate row C0000014 at line 146 <     X0000016  C0000014   1.000000000000e+00 >\n",
            "Duplicate row C0000015 at line 147 <     X0000016  C0000015  -1.000000000000e+00 >\n",
            "Duplicate row C0000016 at line 148 <     X0000016  C0000016   1.000000000000e+00 >\n",
            "Duplicate row C0000003 at line 149 <     X0000016  C0000003  -1.000000000000e+00 >\n",
            "Duplicate row C0000004 at line 150 <     X0000016  C0000004   1.000000000000e+00 >\n",
            "Duplicate row C0000005 at line 151 <     X0000016  C0000005  -1.000000000000e+00 >\n",
            "Duplicate row C0000006 at line 152 <     X0000016  C0000006   1.000000000000e+00 >\n",
            "Duplicate row C0000008 at line 153 <     X0000016  C0000008  -1.000000000000e+00 >\n",
            "Duplicate row C0000009 at line 154 <     X0000016  C0000009   1.000000000000e+00 >\n",
            "Duplicate row C0000010 at line 155 <     X0000016  C0000010  -1.000000000000e+00 >\n",
            "Duplicate row C0000011 at line 156 <     X0000016  C0000011   1.000000000000e+00 >\n",
            "Duplicate row C0000013 at line 157 <     X0000016  C0000013  -1.000000000000e+00 >\n",
            "Duplicate row C0000014 at line 158 <     X0000016  C0000014   1.000000000000e+00 >\n",
            "Duplicate row C0000015 at line 159 <     X0000016  C0000015  -1.000000000000e+00 >\n",
            "Duplicate row C0000016 at line 160 <     X0000016  C0000016   1.000000000000e+00 >\n",
            "At line 162 RHS\n",
            "At line 181 BOUNDS\n",
            "Bad image at line 183 <  BV BND       X0000004 >\n",
            "Bad image at line 184 <  BV BND       X0000004 >\n",
            "At line 188 ENDATA\n",
            "Problem MODEL has 18 rows, 7 columns and 45 elements\n",
            "Coin0008I MODEL read with 80 errors\n",
            "There were 80 errors on input\n",
            "Option for timeMode changed from cpu to elapsed\n",
            "** Current model not valid\n",
            "Option for printingOptions changed from normal to all\n",
            "** Current model not valid\n",
            "No match for /var/folders/1x/nt297b5d1n771twhnkz_vs_80000gn/T/f958f7a0f9a54617a05e8ecd323ce064-pulp.sol - ? for list of commands\n",
            "Total time (CPU seconds):       0.00   (Wallclock seconds):       0.00\n",
            "\n"
          ]
        },
        {
          "ename": "PulpSolverError",
          "evalue": "Pulp: Error while executing /Users/emadchelhi/miniconda3/envs/1.0/lib/python3.12/site-packages/pulp/solverdir/cbc/osx/64/cbc",
          "output_type": "error",
          "traceback": [
            "\u001b[0;31m---------------------------------------------------------------------------\u001b[0m",
            "\u001b[0;31mPulpSolverError\u001b[0m                           Traceback (most recent call last)",
            "Cell \u001b[0;32mIn[21], line 19\u001b[0m\n\u001b[1;32m     16\u001b[0m model \u001b[38;5;241m+\u001b[39m\u001b[38;5;241m=\u001b[39m z \u001b[38;5;241m-\u001b[39m (c[\u001b[38;5;241m2\u001b[39m]\u001b[38;5;241m*\u001b[39mx[\u001b[38;5;241m2\u001b[39m] \u001b[38;5;241m+\u001b[39m \u001b[38;5;241m500\u001b[39m) \u001b[38;5;241m<\u001b[39m\u001b[38;5;241m=\u001b[39m (\u001b[38;5;241m1\u001b[39m\u001b[38;5;241m-\u001b[39mo) \u001b[38;5;241m*\u001b[39m M\n\u001b[1;32m     17\u001b[0m model \u001b[38;5;241m+\u001b[39m\u001b[38;5;241m=\u001b[39m lpSum(x) \u001b[38;5;241m>\u001b[39m\u001b[38;5;241m=\u001b[39m \u001b[38;5;241m120\u001b[39m\n\u001b[0;32m---> 19\u001b[0m status \u001b[38;5;241m=\u001b[39m model\u001b[38;5;241m.\u001b[39msolve()\n\u001b[1;32m     20\u001b[0m \u001b[38;5;28mprint\u001b[39m(\u001b[38;5;124mf\u001b[39m\u001b[38;5;124m\"\u001b[39m\u001b[38;5;132;01m{\u001b[39;00m\u001b[38;5;124m'\u001b[39m\u001b[38;5;124mOptimal found\u001b[39m\u001b[38;5;124m'\u001b[39m\u001b[38;5;250m \u001b[39m\u001b[38;5;28;01mif\u001b[39;00m\u001b[38;5;250m \u001b[39mstatus\u001b[38;5;250m \u001b[39m\u001b[38;5;241m==\u001b[39m\u001b[38;5;250m \u001b[39m\u001b[38;5;241m1\u001b[39m\u001b[38;5;250m \u001b[39m\u001b[38;5;28;01melse\u001b[39;00m\u001b[38;5;250m \u001b[39m\u001b[38;5;124m'\u001b[39m\u001b[38;5;124mIgnore solution\u001b[39m\u001b[38;5;124m'\u001b[39m\u001b[38;5;132;01m}\u001b[39;00m\u001b[38;5;124m\"\u001b[39m)\n\u001b[1;32m     21\u001b[0m \u001b[38;5;28;01mfor\u001b[39;00m i \u001b[38;5;129;01min\u001b[39;00m \u001b[38;5;28mrange\u001b[39m(\u001b[38;5;28mlen\u001b[39m(c)):\n",
            "File \u001b[0;32m~/miniconda3/envs/1.0/lib/python3.12/site-packages/pulp/pulp.py:1867\u001b[0m, in \u001b[0;36mLpProblem.solve\u001b[0;34m(self, solver, **kwargs)\u001b[0m\n\u001b[1;32m   1865\u001b[0m \u001b[38;5;66;03m# time it\u001b[39;00m\n\u001b[1;32m   1866\u001b[0m \u001b[38;5;28mself\u001b[39m\u001b[38;5;241m.\u001b[39mstartClock()\n\u001b[0;32m-> 1867\u001b[0m status \u001b[38;5;241m=\u001b[39m solver\u001b[38;5;241m.\u001b[39mactualSolve(\u001b[38;5;28mself\u001b[39m, \u001b[38;5;241m*\u001b[39m\u001b[38;5;241m*\u001b[39mkwargs)\n\u001b[1;32m   1868\u001b[0m \u001b[38;5;28mself\u001b[39m\u001b[38;5;241m.\u001b[39mstopClock()\n\u001b[1;32m   1869\u001b[0m \u001b[38;5;28mself\u001b[39m\u001b[38;5;241m.\u001b[39mrestoreObjective(wasNone, dummyVar)\n",
            "File \u001b[0;32m~/miniconda3/envs/1.0/lib/python3.12/site-packages/pulp/apis/coin_api.py:112\u001b[0m, in \u001b[0;36mCOIN_CMD.actualSolve\u001b[0;34m(self, lp, **kwargs)\u001b[0m\n\u001b[1;32m    110\u001b[0m \u001b[38;5;28;01mdef\u001b[39;00m \u001b[38;5;21mactualSolve\u001b[39m(\u001b[38;5;28mself\u001b[39m, lp, \u001b[38;5;241m*\u001b[39m\u001b[38;5;241m*\u001b[39mkwargs):\n\u001b[1;32m    111\u001b[0m \u001b[38;5;250m    \u001b[39m\u001b[38;5;124;03m\"\"\"Solve a well formulated lp problem\"\"\"\u001b[39;00m\n\u001b[0;32m--> 112\u001b[0m     \u001b[38;5;28;01mreturn\u001b[39;00m \u001b[38;5;28mself\u001b[39m\u001b[38;5;241m.\u001b[39msolve_CBC(lp, \u001b[38;5;241m*\u001b[39m\u001b[38;5;241m*\u001b[39mkwargs)\n",
            "File \u001b[0;32m~/miniconda3/envs/1.0/lib/python3.12/site-packages/pulp/apis/coin_api.py:190\u001b[0m, in \u001b[0;36mCOIN_CMD.solve_CBC\u001b[0;34m(self, lp, use_mps)\u001b[0m\n\u001b[1;32m    188\u001b[0m     \u001b[38;5;28;01mpass\u001b[39;00m\n\u001b[1;32m    189\u001b[0m \u001b[38;5;28;01mif\u001b[39;00m \u001b[38;5;129;01mnot\u001b[39;00m os\u001b[38;5;241m.\u001b[39mpath\u001b[38;5;241m.\u001b[39mexists(tmpSol):\n\u001b[0;32m--> 190\u001b[0m     \u001b[38;5;28;01mraise\u001b[39;00m PulpSolverError(\u001b[38;5;124m\"\u001b[39m\u001b[38;5;124mPulp: Error while executing \u001b[39m\u001b[38;5;124m\"\u001b[39m \u001b[38;5;241m+\u001b[39m \u001b[38;5;28mself\u001b[39m\u001b[38;5;241m.\u001b[39mpath)\n\u001b[1;32m    191\u001b[0m (\n\u001b[1;32m    192\u001b[0m     status,\n\u001b[1;32m    193\u001b[0m     values,\n\u001b[0;32m   (...)\u001b[0m\n\u001b[1;32m    197\u001b[0m     sol_status,\n\u001b[1;32m    198\u001b[0m ) \u001b[38;5;241m=\u001b[39m \u001b[38;5;28mself\u001b[39m\u001b[38;5;241m.\u001b[39mreadsol_MPS(tmpSol, lp, vs, variablesNames, constraintsNames)\n\u001b[1;32m    199\u001b[0m lp\u001b[38;5;241m.\u001b[39massignVarsVals(values)\n",
            "\u001b[0;31mPulpSolverError\u001b[0m: Pulp: Error while executing /Users/emadchelhi/miniconda3/envs/1.0/lib/python3.12/site-packages/pulp/solverdir/cbc/osx/64/cbc"
          ]
        }
      ],
      "source": [
        "c=[30, 40, 5] \n",
        "M=1000 \n",
        "names=['S', 'J', 'I'] \n",
        "x = {i: LpVariable(name=f'x_{i}', lowBound=0) for i in range(3)}\n",
        "# Define additional variables\n",
        "z = LpVariable(\"z\", lowBound=0)  \n",
        "o = LpVariable(\"o\", cat='Binary')  \n",
        "\n",
        "# Define the objective\n",
        "model += c[0]*x[0] + c[1]*x[1] + z\n",
        "\n",
        "# Define the constraints\n",
        "model += -o * M <= z\n",
        "model += z <= o * M\n",
        "model += -(1-o) * M <= z - (c[2]*x[2] + 500)\n",
        "model += z - (c[2]*x[2] + 500) <= (1-o) * M\n",
        "model += lpSum(x) >= 120\n",
        "\n",
        "status = model.solve()\n",
        "print(f\"{'Optimal found' if status == 1 else 'Ignore solution'}\")\n",
        "for i in range(len(c)):\n",
        "    print(f\"{names[i]} was assigned {x[i].varValue:.0f}\")"
      ]
    },
    {
      "cell_type": "code",
      "execution_count": 24,
      "metadata": {},
      "outputs": [
        {
          "name": "stdout",
          "output_type": "stream",
          "text": [
            "Welcome to the CBC MILP Solver \n",
            "Version: 2.10.3 \n",
            "Build Date: Dec 15 2019 \n",
            "\n",
            "command line - /Users/emadchelhi/miniconda3/envs/1.0/lib/python3.12/site-packages/pulp/solverdir/cbc/osx/64/cbc /var/folders/1x/nt297b5d1n771twhnkz_vs_80000gn/T/19090ffa36f845f2889b2d7624456211-pulp.mps -max -timeMode elapsed -branch -printingOptions all -solution /var/folders/1x/nt297b5d1n771twhnkz_vs_80000gn/T/19090ffa36f845f2889b2d7624456211-pulp.sol (default strategy 1)\n",
            "At line 2 NAME          MODEL\n",
            "At line 3 ROWS\n",
            "At line 10 COLUMNS\n",
            "At line 35 RHS\n",
            "At line 41 BOUNDS\n",
            "At line 46 ENDATA\n",
            "Problem MODEL has 5 rows, 5 columns and 13 elements\n",
            "Coin0008I MODEL read with 0 errors\n",
            "Option for timeMode changed from cpu to elapsed\n",
            "Problem is unbounded - 0.00 seconds\n",
            "Option for printingOptions changed from normal to all\n",
            "Total time (CPU seconds):       0.00   (Wallclock seconds):       0.06\n",
            "\n",
            "Ignore solution\n",
            "S was assigned 0\n",
            "J was assigned 0\n",
            "I was assigned 0\n"
          ]
        }
      ],
      "source": [
        "from pulp import LpProblem, LpVariable, LpMaximize, lpSum\n",
        "\n",
        "# Initial variable definitions\n",
        "c = [30, 40, 5]\n",
        "M = 1000\n",
        "names = ['S', 'J', 'I']\n",
        "\n",
        "x = {i: LpVariable(name=f'x_{i}', lowBound=0, cat='Integer') for i in range(3)}\n",
        "\n",
        "# Define the model\n",
        "model = LpProblem(\"Optimization_Model\", LpMaximize)\n",
        "\n",
        "# Define additional variables\n",
        "z = LpVariable(\"z\", lowBound=0)  # Assuming z is continuous and non-negative\n",
        "o = LpVariable(\"o\", cat='Binary')  # Assuming o is a binary variable\n",
        "\n",
        "# Define the objective\n",
        "model += c[0]*x[0] + c[1]*x[1] + z  # Adjust as needed if x[2] should be included\n",
        "\n",
        "# Define the constraints\n",
        "model += -o * M <= z\n",
        "model += z <= o * M\n",
        "model += -(1-o) * M <= z - (c[2]*x[2] + 500)\n",
        "model += z - (c[2]*x[2] + 500) <= (1-o) * M\n",
        "# Assuming the intention was to ensure at least one of the binary variables is selected\n",
        "model += lpSum(x.values()) >= 1  # Adjusted constraint\n",
        "\n",
        "# Solve the model\n",
        "status = model.solve()\n",
        "\n",
        "# Output\n",
        "print(f\"{'Optimal found' if status == 1 else 'Ignore solution'}\")\n",
        "for i in range(len(c)):\n",
        "    print(f\"{names[i]} was assigned {x[i].varValue:.0f}\")"
      ]
    },
    {
      "cell_type": "markdown",
      "metadata": {},
      "source": [
        "## Global optimization in SciPy\n",
        "In case of multiple minima, basin hopping (that minimizes) helps in finding the global one, the best outcome."
      ]
    },
    {
      "cell_type": "markdown",
      "metadata": {},
      "source": [
        "You've been provided with the following profit maximization problem and are tasked with finding the global maximum.\n",
        "\n",
        " $\\pi=-1/4q^4+11q^3-16'q^2+900q$\n",
        "\n",
        " is a natural lower bound for quantity and you observed that at \n",
        " profit is negative, so \n",
        " is a good candidate for upper bound.\n",
        "\n",
        "Find the global optimum for this problem."
      ]
    },
    {
      "cell_type": "code",
      "execution_count": 26,
      "metadata": {},
      "outputs": [
        {
          "name": "stdout",
          "output_type": "stream",
          "text": [
            "['requested number of basinhopping iterations completed successfully']\n",
            "The maximum according to basinhopping(x0=0) is at 18.00\n",
            "\n"
          ]
        }
      ],
      "source": [
        "from scipy.optimize import basinhopping\n",
        "def profit(q): \n",
        "\treturn -q**4 / 4 + 11 * q**3 - 160 * q**2 + 900 * q\n",
        "  \n",
        "x0 = 0\n",
        "\n",
        "# Define the keyword arguments for bounds\n",
        "kwargs = {\"bounds\": [(0, 30)]} \n",
        "\n",
        "# Run basinhopping to find the optimal quantity\n",
        "result = basinhopping(lambda q: -profit(q), x0, minimizer_kwargs=kwargs)\n",
        "\n",
        "print(f\"{result.message}\")\n",
        "print(f\"The maximum according to basinhopping(x0={x0}) is at {result.x[0]:.2f}\\n\")"
      ]
    },
    {
      "cell_type": "markdown",
      "metadata": {},
      "source": [
        "You want to find the two highest maxima of a profit function and you have decided to use callback to collect the optima found and then select the top two values.\n",
        "\n",
        "First, you will complete the callback function. You will check if the value of the objective currently examined by basinhopping is accepted as optimum, and if so, you will append it to a list opt_values. Afterwards you will run basinhopping with the callback function you just defined.\n",
        "Way to collect all the optimal values and check if found the best one previously."
      ]
    },
    {
      "cell_type": "code",
      "execution_count": 28,
      "metadata": {},
      "outputs": [
        {
          "name": "stdout",
          "output_type": "stream",
          "text": [
            "['requested number of basinhopping iterations completed successfully']\n",
            "The highest two values are [2268.0]\n"
          ]
        }
      ],
      "source": [
        "opt_values = []\n",
        "\n",
        "def callback(x, f, accept):\n",
        "# Check if the candidate is an optimum  \n",
        "    if accept:\n",
        "# Append the value of the minimized objective to list opt_values      \n",
        "        opt_values.append(f)\n",
        "\n",
        "# Run basinhopping to find top two maxima  \n",
        "result = basinhopping(lambda q: -profit(q), x0, callback=callback, minimizer_kwargs=kwargs, niter=5, seed=3) \n",
        "top2 = sorted(list(set([round(f, 2) for f in opt_values])), reverse=True)[:2]\n",
        "top2 = [-f for f in top2]\n",
        "\n",
        "print(f\"{result.message}\\nThe highest two values are {top2}\")"
      ]
    },
    {
      "cell_type": "markdown",
      "metadata": {},
      "source": [
        "## Sentiment analysis"
      ]
    },
    {
      "cell_type": "markdown",
      "metadata": {},
      "source": [
        "A firm is employing two machines M1 and M2 to put grapefruit juice (g) and orange juice (o) in bottles. Its goal is to maximize profit subject to the constraints\n",
        "\n",
        "M1: $6g+5.5o<=40$ \n",
        "\n",
        "and M2: $3g+2.5o<=20$\n",
        "\n",
        "The constraints reflect the productivity and availability of machines. For example, M1 is available for 40 hours per week and needs 6 hours to bottle 1 ton of grapefruit juice and 5.5 hours for a ton of orange juice.\n",
        "\n",
        "There is an additional supply constraint where the firm only receives a maximum of 6 tons of grapefruit a week, and 12 tons of oranges. These are the upper bounds."
      ]
    },
    {
      "cell_type": "code",
      "execution_count": null,
      "metadata": {},
      "outputs": [],
      "source": []
    }
  ],
  "metadata": {
    "colab": {
      "provenance": []
    },
    "kernelspec": {
      "display_name": "Python 3",
      "name": "python3"
    },
    "language_info": {
      "codemirror_mode": {
        "name": "ipython",
        "version": 3
      },
      "file_extension": ".py",
      "mimetype": "text/x-python",
      "name": "python",
      "nbconvert_exporter": "python",
      "pygments_lexer": "ipython3",
      "version": "3.12.2"
    }
  },
  "nbformat": 4,
  "nbformat_minor": 0
}
