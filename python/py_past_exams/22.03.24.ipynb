{
 "cells": [
  {
   "cell_type": "markdown",
   "metadata": {},
   "source": [
    "### Functions"
   ]
  },
  {
   "cell_type": "code",
   "execution_count": 7,
   "metadata": {},
   "outputs": [],
   "source": [
    "def Cover(item: set, itemset: dict):\n",
    "    cover = []\n",
    "    for value in itemset.values():\n",
    "        if item.issubset(set(value)):\n",
    "            cover.append(value)\n",
    "    return cover"
   ]
  },
  {
   "cell_type": "code",
   "execution_count": 23,
   "metadata": {},
   "outputs": [],
   "source": [
    "def theta_equivalence(X:set, Y:set, itemset:dict):\n",
    "    return Cover(X, itemset) == Cover(Y, itemset)"
   ]
  },
  {
   "cell_type": "code",
   "execution_count": 40,
   "metadata": {},
   "outputs": [],
   "source": [
    "def Longest(X:set, itemset:dict) -> list:\n",
    "    longest = []\n",
    "    cover_set = Cover(X, itemset)\n",
    "\n",
    "    max_length = 0\n",
    "    for cover in cover_set:\n",
    "        if len(cover) > max_length:\n",
    "            longest = [cover]\n",
    "            max_length = len(cover)\n",
    "        elif len(cover) == max_length:\n",
    "            longest.append(cover)\n",
    "    return list(longest)"
   ]
  },
  {
   "cell_type": "markdown",
   "metadata": {},
   "source": [
    "### Testing\n"
   ]
  },
  {
   "cell_type": "code",
   "execution_count": 17,
   "metadata": {},
   "outputs": [
    {
     "name": "stdout",
     "output_type": "stream",
     "text": [
      "1st case (typical case) ['ABCE', 'ABCDE']\n",
      "Expected: ['ABCE', 'ABCDE'] \n",
      "\n",
      "2nd case (empty itemset) []\n",
      "Expected: [] \n",
      "\n",
      "3rd case (empty item) []\n",
      "Expected: [] \n",
      "\n"
     ]
    }
   ],
   "source": [
    "itemset = {1: \"ABDE\", 2: \"BCE\", 3: \"ABDE\", 4: \"ABCE\", 5: \"ABCDE\", 6: \"BCD\"}\n",
    "X = {\"A\", \"C\"}\n",
    "expected_output = [\"ABCE\", \"ABCDE\"]\n",
    "print(\"1st case (typical case)\", Cover(X, itemset))\n",
    "print(\"Expected:\", expected_output, \"\\n\")\n",
    "\n",
    "itemset = {}\n",
    "X = {\"A\", \"C\"}\n",
    "expected_output = []\n",
    "print(\"2nd case (empty itemset)\", Cover(X, itemset))\n",
    "print(\"Expected:\", expected_output, \"\\n\")\n",
    "\n",
    "itemset = {1: \"ABDE\", 2: \"BCE\", 3: \"ABDE\", 4: \"ABCE\", 5: \"ABCDE\", 6: \"BCD\"}\n",
    "X = {\"\"}\n",
    "expected_output = []\n",
    "print(\"3rd case (empty item)\", Cover(X, itemset))\n",
    "print(\"Expected:\", expected_output, \"\\n\")"
   ]
  },
  {
   "cell_type": "code",
   "execution_count": 26,
   "metadata": {},
   "outputs": [
    {
     "name": "stdout",
     "output_type": "stream",
     "text": [
      "True\n",
      "Expected: True \n",
      "\n",
      "False\n",
      "Expected: False \n",
      "\n"
     ]
    }
   ],
   "source": [
    "itemset = {1: \"ABDE\", 2: \"BCE\", 3: \"ABDE\", 4: \"ABCE\", 5: \"ABCDE\", 6: \"BCD\"}\n",
    "X = {\"A\", \"C\"}\n",
    "Y = {\"A\", \"C\", \"E\"}\n",
    "print(theta_equivalence(X, Y, itemset))\n",
    "print(\"Expected:\", True, \"\\n\")\n",
    "\n",
    "X = {\"A\", \"C\"}\n",
    "Y = {\"B\", \"E\"}\n",
    "print(theta_equivalence(X, Y, itemset))\n",
    "print(\"Expected:\", False, \"\\n\")"
   ]
  },
  {
   "cell_type": "code",
   "execution_count": 45,
   "metadata": {},
   "outputs": [
    {
     "name": "stdout",
     "output_type": "stream",
     "text": [
      "['ABCDE']\n",
      "Expected: ['ABCDE'] \n",
      "\n"
     ]
    }
   ],
   "source": [
    "itemset = {1: \"ABDE\", 2: \"BCE\", 3: \"ABDE\", 4: \"ABCE\", 5: \"ABCDE\", 6: \"BCD\"}\n",
    "X = {\"A\", \"C\"}\n",
    "print(Longest(X, itemset))\n",
    "print(\"Expected:\", [\"ABCDE\"], \"\\n\")"
   ]
  }
 ],
 "metadata": {
  "kernelspec": {
   "display_name": "training",
   "language": "python",
   "name": "python3"
  },
  "language_info": {
   "codemirror_mode": {
    "name": "ipython",
    "version": 3
   },
   "file_extension": ".py",
   "mimetype": "text/x-python",
   "name": "python",
   "nbconvert_exporter": "python",
   "pygments_lexer": "ipython3",
   "version": "3.12.0"
  }
 },
 "nbformat": 4,
 "nbformat_minor": 2
}
