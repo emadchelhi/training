{
 "cells": [
  {
   "cell_type": "code",
   "execution_count": 23,
   "metadata": {},
   "outputs": [],
   "source": [
    "class CustomSet:\n",
    "    def __init__(self, elements):\n",
    "        self.elements = list(set(elements))\n",
    "\n",
    "    def __repr__(self):\n",
    "        return f\"CustomSet({self.elements})\"\n",
    "\n",
    "    def add_element(self, x):\n",
    "        if x in self.elements:\n",
    "            pass\n",
    "        else:\n",
    "            self.elements.append(x)\n",
    "        return self.elements\n",
    "    \n",
    "    def remove_element(self, x):\n",
    "        if x in self.elements:\n",
    "            self.elements.remove(x)\n",
    "        else:\n",
    "            pass\n",
    "        return self.elements\n",
    "\n",
    "    def contains(self, x):\n",
    "        if x in self.elements:\n",
    "            return True\n",
    "        else:\n",
    "            return False\n",
    "\n",
    "    def intersection(self, other):\n",
    "        common_elements = [x for x in self.elements if x in other.elements]\n",
    "        return CustomSet(common_elements)\n"
   ]
  },
  {
   "cell_type": "code",
   "execution_count": 26,
   "metadata": {},
   "outputs": [
    {
     "name": "stdout",
     "output_type": "stream",
     "text": [
      "CustomSet([1, 2, 3, 4, 5, 7])\n"
     ]
    }
   ],
   "source": [
    "set1 = CustomSet([1, 2, 3, 4, 5])\n",
    "set1.add_element(7)\n",
    "print(set1)"
   ]
  },
  {
   "cell_type": "code",
   "execution_count": null,
   "metadata": {},
   "outputs": [],
   "source": []
  }
 ],
 "metadata": {
  "kernelspec": {
   "display_name": "base",
   "language": "python",
   "name": "python3"
  },
  "language_info": {
   "codemirror_mode": {
    "name": "ipython",
    "version": 3
   },
   "file_extension": ".py",
   "mimetype": "text/x-python",
   "name": "python",
   "nbconvert_exporter": "python",
   "pygments_lexer": "ipython3",
   "version": "3.12.1"
  }
 },
 "nbformat": 4,
 "nbformat_minor": 2
}
