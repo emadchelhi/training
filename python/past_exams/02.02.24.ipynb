{
 "cells": [
  {
   "cell_type": "code",
   "execution_count": 22,
   "metadata": {},
   "outputs": [],
   "source": [
    "def Kmer(s, k):\n",
    "    kmer = {}\n",
    "    for i in range(len(s)-k+1):\n",
    "        km = s[i:i+k]\n",
    "        if km in kmer:\n",
    "            kmer[km][0]+=1\n",
    "            kmer[km][1].append(i)\n",
    "        else:\n",
    "            kmer[km]=[1,[i]]\n",
    "    return kmer"
   ]
  },
  {
   "cell_type": "code",
   "execution_count": 24,
   "metadata": {},
   "outputs": [
    {
     "data": {
      "text/plain": [
       "{'ATG': [2, [0, 4]], 'TGC': [1, [1]], 'GCA': [1, [2]], 'CAT': [1, [3]]}"
      ]
     },
     "execution_count": 24,
     "metadata": {},
     "output_type": "execute_result"
    }
   ],
   "source": [
    "s = \"ATGCATG\"\n",
    "k = 3\n",
    "Kmer(s,k)"
   ]
  }
 ],
 "metadata": {
  "kernelspec": {
   "display_name": "base",
   "language": "python",
   "name": "python3"
  },
  "language_info": {
   "codemirror_mode": {
    "name": "ipython",
    "version": 3
   },
   "file_extension": ".py",
   "mimetype": "text/x-python",
   "name": "python",
   "nbconvert_exporter": "python",
   "pygments_lexer": "ipython3",
   "version": "3.12.1"
  }
 },
 "nbformat": 4,
 "nbformat_minor": 2
}
