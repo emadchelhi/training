{
 "cells": [
  {
   "cell_type": "markdown",
   "id": "3767073a-98dd-4f4d-a8df-cd9a5efb8733",
   "metadata": {},
   "source": [
    "## PYTHON PROGRAMMING REVIEW"
   ]
  },
  {
   "cell_type": "code",
   "execution_count": 10,
   "id": "5211d461-cfaf-4944-975b-4bc9f31f1fbb",
   "metadata": {},
   "outputs": [],
   "source": [
    "import random\n",
    "import sys\n",
    "import os"
   ]
  },
  {
   "cell_type": "code",
   "execution_count": 11,
   "id": "d1a671df-8df8-4c86-86fe-e02c70d495f2",
   "metadata": {},
   "outputs": [
    {
     "name": "stdout",
     "output_type": "stream",
     "text": [
      "Hello world\n"
     ]
    }
   ],
   "source": [
    "print(\"Hello world\")"
   ]
  },
  {
   "cell_type": "markdown",
   "id": "dc17ac37-1a73-4841-b043-b9d76df9300f",
   "metadata": {},
   "source": [
    "#### VARIABLES\n",
    "\n"
   ]
  },
  {
   "cell_type": "markdown",
   "id": "d06b1c36-8ad5-4235-8e09-caf9e55deb3e",
   "metadata": {},
   "source": [
    "Has to start with a letter and can contain strings (series of whatever in between single or double quotes), numbers and underscores."
   ]
  },
  {
   "cell_type": "markdown",
   "id": "8e39a592-f1a3-461a-90c5-a4b456789dc2",
   "metadata": {},
   "source": [
    "7 different algorithmic operations:  +  -  *  /  %  **  //\n",
    "\n",
    "%: returns remainder of a division\n",
    "\n",
    "//: division with default approximation\n",
    "\n",
    "Order matters like it normally does in math (braces and between operations).\n"
   ]
  },
  {
   "cell_type": "markdown",
   "id": "8715331f-8134-4b41-9895-e8e2471a199c",
   "metadata": {},
   "source": [
    "### DATATYPES\n",
    "\n",
    "5 many datatypes in Python: numbers, strings, lists, tuples and dictionaries.\n",
    "\n",
    "#### STRINGS\n",
    "declared through single or double quotes. Can contain any character.\n",
    "\n",
    "Strings are immutable.\n",
    "\n",
    "Strings can be concatenated\n",
    "\n",
    "do you want to verify:\n",
    "all numbers? .isalnum()\n",
    "all letters?.isalpha()\n",
    "white spaces? .strip\n",
    "\n",
    "trasforming it into a list? .split(\" \")\n",
    "\n",
    ".find(\"string\") --> sensitive!\n",
    "\n",
    ".capitalize() --> first letter becomes upper case\n",
    "\n",
    ".replace(\"all string \", \" new string\")"
   ]
  },
  {
   "cell_type": "code",
   "execution_count": 12,
   "id": "e7836191-ad01-4f48-a431-704abd69e431",
   "metadata": {},
   "outputs": [
    {
     "name": "stdout",
     "output_type": "stream",
     "text": [
      "\n",
      "\n",
      "\n",
      "\n",
      "\n",
      " hi\n",
      "I don't like chocolate\n"
     ]
    }
   ],
   "source": [
    "# newlines\n",
    "print('\\n'*5, \"hi\")\n",
    "print(\"I don't like \", end=\"\")\n",
    "print(\"chocolate\")"
   ]
  },
  {
   "cell_type": "code",
   "execution_count": 30,
   "id": "bdb9699d-027d-4af1-99d4-e386eaf8c297",
   "metadata": {},
   "outputs": [
    {
     "name": "stdout",
     "output_type": "stream",
     "text": [
      "my cat is swimmin\n",
      "ing\n",
      "False\n",
      "False\n",
      "my cat is swimming\n",
      "['my', 'cat', 'is', 'swimming']\n",
      "My cat is swimming\n",
      "3\n"
     ]
    }
   ],
   "source": [
    "lstring = \"my cat is swimming\"\n",
    "print(lstring[:-1])\n",
    "print(lstring[-3:])\n",
    "print(lstring.isalpha())\n",
    "print(lstring.isalnum())\n",
    "print(lstring.strip())\n",
    "print(lstring.split(\" \"))\n",
    "print(lstring.capitalize())\n",
    "print(lstring.find(\"cat\"))\n",
    "\n"
   ]
  },
  {
   "cell_type": "markdown",
   "id": "3f6b6e95-b306-48eb-847d-ad9d4617d1ee",
   "metadata": {},
   "source": [
    "#### LISTS (built-in data types)\n",
    " declared through square brackets. Can contain any data type (other list too).\n",
    "\n",
    " Changeable\n",
    "\n",
    " indexing to retrieve, append() and remove() elements --> no need of index\n",
    "\n",
    " insert() and del need index specification before any data type, separated by a comma\n",
    "\n",
    " can be sorted and reversed (only with same datatypes)\n",
    " \n",
    " len, max, min to explore range and size of the list"
   ]
  },
  {
   "cell_type": "code",
   "execution_count": 13,
   "id": "7da743cc-d45b-495e-a553-186187f4cd7f",
   "metadata": {},
   "outputs": [
    {
     "name": "stdout",
     "output_type": "stream",
     "text": [
      "[['banana', 'apple'], ['study', 'training']]\n",
      "[['banana', 'apple'], ['study', 'calistenichs']]\n",
      "apple\n",
      "[['banana', 'apple'], ['study', 'calistenichs'], 'sleep']\n",
      "[['banana', 'apple'], ['study', 'calistenichs']]\n",
      "['sleep', ['banana', 'apple'], ['study', 'calistenichs']]\n",
      "[['banana', 'apple'], ['study', 'calistenichs']]\n",
      "[['study', 'calistenichs'], ['banana', 'apple']]\n",
      "[['study', 'calistenichs'], ['apple']]\n",
      "2\n",
      "['study', 'calistenichs']\n",
      "['apple']\n"
     ]
    }
   ],
   "source": [
    "groceries=[\"banana\", \"apple\"]\n",
    "activities=[\"study\", \"training\"]\n",
    "todolist=[groceries, activities]\n",
    "print(todolist)\n",
    "todolist[1][1]= \"calistenichs\"\n",
    "print (todolist)\n",
    "print (todolist[0][1])\n",
    "todolist.append(\"sleep\")\n",
    "print(todolist)\n",
    "todolist.remove(\"sleep\")\n",
    "print(todolist)\n",
    "todolist.insert([0][0], \"sleep\")\n",
    "print(todolist)\n",
    "todolist.remove(\"sleep\")\n",
    "print(todolist)\n",
    "todolist.sort()\n",
    "todolist.reverse()\n",
    "print(todolist)\n",
    "del todolist[1][0]\n",
    "print(todolist)\n",
    "print(len(todolist))\n",
    "print(max(todolist))\n",
    "print(min(todolist))"
   ]
  },
  {
   "cell_type": "markdown",
   "id": "dcbb3981-7d78-47bb-9c3d-363cef31ea2b",
   "metadata": {},
   "source": [
    "#### TUPLES (built-in data type)\n",
    "\n",
    "declared by (), behave like lists\n",
    "\n",
    "not changeable (you can, changing it in a list and then coming back)\n",
    "\n",
    "len() min() max() works as before\n",
    "\n",
    "list(): convert strings, sets and tuples to list"
   ]
  },
  {
   "cell_type": "code",
   "execution_count": 14,
   "id": "bd2e2868-66e6-4e4d-a4d0-6ea7a132c41b",
   "metadata": {},
   "outputs": [
    {
     "name": "stdout",
     "output_type": "stream",
     "text": [
      "[1, 2]\n",
      "(1, 2)\n"
     ]
    }
   ],
   "source": [
    "pi_tuple=(1,2)\n",
    "new_tuple = list(pi_tuple)\n",
    "print(new_tuple)\n",
    "tuple_1=tuple(new_tuple)\n",
    "print(tuple_1)"
   ]
  },
  {
   "cell_type": "markdown",
   "id": "7e9ed496-ce0b-4c46-8ce8-7500b9bcfb40",
   "metadata": {},
   "source": [
    "#### DICTIONARIES (or maps) (built-in data type)\n",
    "\n",
    " Behave list list with the difference that cannot be concatenated\n",
    " \n",
    " declared with {} --> {\"key\": \"value, etc..\"} \n",
    " \n",
    " del dict[\"key\"]\n",
    " \n",
    " len(dict)\n",
    " \n",
    " to retrieve a key we can use .get() --> dict.get(\"key\")"
   ]
  },
  {
   "cell_type": "code",
   "execution_count": 15,
   "id": "e7f1298d-a4fa-4268-9aae-00c29821bf91",
   "metadata": {},
   "outputs": [
    {
     "name": "stdout",
     "output_type": "stream",
     "text": [
      "{'me': '123', 'him': '987'}\n",
      "{'me': '123'}\n",
      "1\n"
     ]
    }
   ],
   "source": [
    "phones={\"me\":\"123\",\n",
    "        \"him\":\"987\"}\n",
    "print(phones)\n",
    "phones.get(\"me\")\n",
    "del phones[\"him\"]\n",
    "print(phones)\n",
    "print(len(phones))"
   ]
  },
  {
   "cell_type": "markdown",
   "id": "f6c0c0ff-4856-436e-b53b-2620c7ebe788",
   "metadata": {},
   "source": [
    "#### SETS (bulit-in data type)\n",
    "\n",
    "used to store multiple elements in a single variable\n",
    "\n",
    "unordered, unindexed, unchangeable (can't change elements but possible to add and remove)\n",
    "\n",
    "declared with {} "
   ]
  },
  {
   "cell_type": "code",
   "execution_count": 16,
   "id": "7ff4f40b-3633-4946-9136-0ae8f1c57981",
   "metadata": {},
   "outputs": [
    {
     "name": "stdout",
     "output_type": "stream",
     "text": [
      "{'apple', 'banana'}\n"
     ]
    }
   ],
   "source": [
    "groceries={\"apple\", \"banana\"}\n",
    "print(groceries)"
   ]
  },
  {
   "cell_type": "markdown",
   "id": "78fbbe55-9913-4e4f-839c-828388248622",
   "metadata": {},
   "source": [
    "### CONDITIONALS \n",
    "\n",
    "If, else, elif  ==  !=  >=  <=  >  <\n",
    "\n",
    "and   or   not (logical operators)\n",
    "\n",
    "once a condition is met, no other conditions are checked, it just stops."
   ]
  },
  {
   "cell_type": "code",
   "execution_count": 17,
   "id": "79a9b247-75ab-42a9-8adb-47627bce81cc",
   "metadata": {},
   "outputs": [
    {
     "name": "stdout",
     "output_type": "stream",
     "text": [
      "you cannot drive\n"
     ]
    }
   ],
   "source": [
    "age=10\n",
    "\n",
    "if age>=18:\n",
    "    print(\"you can drive\")\n",
    "elif not(age==10): #if this condition is verified, the not output the opposite message so the else one\n",
    "    print (\"you can drive\")\n",
    "else:\n",
    "    print (\"you cannot drive\")"
   ]
  },
  {
   "cell_type": "markdown",
   "id": "414425cc-7a53-46f5-ba49-ffbe59b79ef7",
   "metadata": {},
   "source": [
    "### LOOPING\n",
    "\n",
    "for loops\n",
    "\n",
    "while looping when you don't know your range of looping"
   ]
  },
  {
   "cell_type": "code",
   "execution_count": 18,
   "id": "84841110-8218-43eb-98cf-73919cfbecd7",
   "metadata": {},
   "outputs": [
    {
     "name": "stdout",
     "output_type": "stream",
     "text": [
      "\n",
      "\n",
      "apple\n",
      "banana\n",
      "cherry\n",
      "water\n"
     ]
    }
   ],
   "source": [
    "print(\"\\n\")\n",
    "groceries=[[\"apple\", \"banana\"], [\"cherry\", \"water\"]]\n",
    "for x in range(0,2):\n",
    "    for y in range(0,2):\n",
    "        print(groceries[x][y])"
   ]
  },
  {
   "cell_type": "code",
   "execution_count": 19,
   "id": "f2f1c115-8254-49bc-b2f7-0918482bf4cb",
   "metadata": {},
   "outputs": [
    {
     "name": "stdout",
     "output_type": "stream",
     "text": [
      "2\n",
      "4\n"
     ]
    }
   ],
   "source": [
    "i=2\n",
    "while( i <= 10):\n",
    "    if(i%2 == 0):\n",
    "        print (i)\n",
    "    elif(i == 5):\n",
    "        break\n",
    "    else:\n",
    "        i += 1\n",
    "        continue\n",
    "    i += 1"
   ]
  },
  {
   "cell_type": "markdown",
   "id": "21fc0bad-caa4-42c6-bf36-c85a8b2a7f06",
   "metadata": {},
   "source": [
    "### FUNCTIONS\n",
    "\n",
    "internal functions not callable outside\n",
    "\n",
    "must be defined before using them"
   ]
  },
  {
   "cell_type": "code",
   "execution_count": 24,
   "id": "0a82c7be-1f92-4c6e-8c84-73d0ef7ae357",
   "metadata": {},
   "outputs": [
    {
     "name": "stdout",
     "output_type": "stream",
     "text": [
      "6\n"
     ]
    }
   ],
   "source": [
    "def Addnumber(num1, num2):\n",
    "    sum = num1 + num2\n",
    "    print(sum)\n",
    "\n",
    "Addnumber(2,4)"
   ]
  },
  {
   "cell_type": "markdown",
   "id": "aef753f4-0b28-47ea-b776-464d705e0bbd",
   "metadata": {},
   "source": [
    "### FILE I/0\n",
    "\n",
    "open(\"name of the file\", \"wb\" or \"ab+\")\n",
    "\n",
    "wb: write\n",
    "\n",
    "ab+: read and append\n",
    "\n",
    "r+: read and writing\n",
    "\n",
    ".write(bytes(\"blabla\", 'UTF-8')\n",
    "\n",
    ".close\n",
    "\n",
    "os.remove(\"name of the file\")"
   ]
  },
  {
   "cell_type": "code",
   "execution_count": 39,
   "id": "f993b864-76e0-4736-b38e-3482b73c5906",
   "metadata": {},
   "outputs": [
    {
     "name": "stdout",
     "output_type": "stream",
     "text": [
      "blabla\n"
     ]
    }
   ],
   "source": [
    "file = open(\"doc.txt\", \"wb\")\n",
    "file.write(bytes(\"blabla\", 'UTF-8'))\n",
    "file.close()\n",
    "file = open(\"doc.txt\", \"r+\")\n",
    "print(file.read())\n",
    "os.remove(\"doc.txt\")"
   ]
  },
  {
   "cell_type": "markdown",
   "id": "7a2e844d-265c-4638-bc45-919c9bd87dca",
   "metadata": {},
   "source": [
    "### OBJECT ORIENTED PROGRAMMING\n",
    "\n",
    "The object orientation paradigm allows us to model the world in classes where the abilities are functions and the attributes: simple variables. \n",
    "\n",
    "The constructor is there to initialize an object of the class --> def __init__(self, ...):\n",
    "\n"
   ]
  },
  {
   "cell_type": "code",
   "execution_count": 2,
   "id": "b51e4736-bc09-4cb0-92f7-5e518d904602",
   "metadata": {},
   "outputs": [
    {
     "name": "stdout",
     "output_type": "stream",
     "text": [
      "black is tall 40 cm.\n"
     ]
    }
   ],
   "source": [
    "class animal:\n",
    "    __name = None\n",
    "    __height = 0\n",
    "\n",
    "    def __init__(self, name, height):\n",
    "        self.__name = name\n",
    "        self.__height = height\n",
    "\n",
    "    def setname(self, name):\n",
    "        self.__name = name\n",
    "\n",
    "    def setheight(self, height):\n",
    "        self.__height = height\n",
    "\n",
    "    def tostring(self):\n",
    "        return \"{} is tall {} cm.\".format(self.__name,\n",
    "                                         self.__height)\n",
    "\n",
    "cat = animal(\"black\", 40)\n",
    "\n",
    "print(cat.tostring())\n"
   ]
  },
  {
   "cell_type": "code",
   "execution_count": null,
   "id": "5ab1311b-9e85-499b-b031-93bf937eeb95",
   "metadata": {},
   "outputs": [],
   "source": []
  }
 ],
 "metadata": {
  "kernelspec": {
   "display_name": "Python 3 (ipykernel)",
   "language": "python",
   "name": "python3"
  },
  "language_info": {
   "codemirror_mode": {
    "name": "ipython",
    "version": 3
   },
   "file_extension": ".py",
   "mimetype": "text/x-python",
   "name": "python",
   "nbconvert_exporter": "python",
   "pygments_lexer": "ipython3",
   "version": "3.12.1"
  }
 },
 "nbformat": 4,
 "nbformat_minor": 5
}
