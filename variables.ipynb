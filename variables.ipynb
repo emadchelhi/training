{
 "cells": [
  {
   "cell_type": "code",
   "execution_count": 6,
   "id": "a441e313-faa1-4233-8684-3d198c5f1211",
   "metadata": {},
   "outputs": [
    {
     "name": "stdout",
     "output_type": "stream",
     "text": [
      "604800\n"
     ]
    }
   ],
   "source": [
    "# 1. Write a program that displays the number of seconds in a week\n",
    "weeklyseconds= 60*60*24*7\n",
    "print(weeklyseconds)"
   ]
  },
  {
   "cell_type": "markdown",
   "id": "ed065378-049b-46a6-8c7f-b1fe46e7c11e",
   "metadata": {},
   "source": [
    "2. The cover price of a book is €24.95, but bookstores get a 40 percent discount. Shipping costs €3 for the first copy and 75 cents for each additional copy. Calculate the total wholesale costs for 60 copies"
   ]
  },
  {
   "cell_type": "code",
   "execution_count": 15,
   "id": "25e58526-6d45-4b4b-b120-e12481c4d5b9",
   "metadata": {},
   "outputs": [
    {
     "name": "stdout",
     "output_type": "stream",
     "text": [
      "945.4499999999999\n"
     ]
    }
   ],
   "source": [
    "price = 24.95\n",
    "discount = 40/100\n",
    "ship_cost_1st = 3\n",
    "ship_cost_others = 0.75\n",
    "num_copies = 60\n",
    "\n",
    "tot_cost = (((price-(price*(discount)))*60)+3+(0.75*(num_copies-1))) \n",
    "print(tot_cost)"
   ]
  },
  {
   "cell_type": "code",
   "execution_count": 7,
   "id": "f514b1fb-57f7-4bd1-aefe-5f1ec1644655",
   "metadata": {},
   "outputs": [
    {
     "ename": "ZeroDivisionError",
     "evalue": "division by zero",
     "output_type": "error",
     "traceback": [
      "\u001b[0;31m---------------------------------------------------------------------------\u001b[0m",
      "\u001b[0;31mZeroDivisionError\u001b[0m                         Traceback (most recent call last)",
      "Cell \u001b[0;32mIn[7], line 4\u001b[0m\n\u001b[1;32m      2\u001b[0m z\u001b[38;5;241m=\u001b[39m\u001b[38;5;241m2\u001b[39m\n\u001b[1;32m      3\u001b[0m d\u001b[38;5;241m=\u001b[39m\u001b[38;5;241m0\u001b[39m\n\u001b[0;32m----> 4\u001b[0m c\u001b[38;5;241m=\u001b[39mz\u001b[38;5;241m/\u001b[39md\n",
      "\u001b[0;31mZeroDivisionError\u001b[0m: division by zero"
     ]
    }
   ],
   "source": [
    "# 3. Write a program that generates the ZeroDivisionError\n",
    "z=2\n",
    "d=0\n",
    "c=z/d"
   ]
  },
  {
   "cell_type": "code",
   "execution_count": 3,
   "id": "7d025f41-7596-4f91-9e0c-2f0f33871b16",
   "metadata": {},
   "outputs": [
    {
     "data": {
      "text/plain": [
       "8"
      ]
     },
     "execution_count": 3,
     "metadata": {},
     "output_type": "execute_result"
    }
   ],
   "source": [
    "round(7.5)   # funzione round() arrotonta i numeri pari per difetto mentre i dispari per eccesso"
   ]
  },
  {
   "cell_type": "markdown",
   "id": "246767a3-0d57-4fec-a54e-1488cc7e48d0",
   "metadata": {},
   "source": [
    "4. You look at the clock and see that it is currently 14.00h.\n",
    "You set an alarm to go off 535 hours later. At what time will the alarm go off? Write a program that prints the answer. Hint: for the best solution, you will need the modulo operator"
   ]
  },
  {
   "cell_type": "code",
   "execution_count": 4,
   "id": "ff83cf0e-4294-4bd3-a6bd-a2b8a8ab0bd6",
   "metadata": {},
   "outputs": [
    {
     "name": "stdin",
     "output_type": "stream",
     "text": [
      "select the n° of hours for the sound of the clock:  2\n"
     ]
    },
    {
     "name": "stdout",
     "output_type": "stream",
     "text": [
      "16\n"
     ]
    }
   ],
   "source": [
    "a=int(input(\"select the n° of hours for the sound of the clock: \"))  # int(): type casting\n",
    "\n",
    "b = (14+a)%24\n",
    "print(b)"
   ]
  },
  {
   "cell_type": "code",
   "execution_count": 5,
   "id": "6c8b876f-4817-46b7-aae7-7158e18c5427",
   "metadata": {},
   "outputs": [
    {
     "data": {
      "text/plain": [
       "str"
      ]
     },
     "execution_count": 5,
     "metadata": {},
     "output_type": "execute_result"
    }
   ],
   "source": [
    "type(\"1.6\")  # python is soft typing so useful to see which type \n"
   ]
  },
  {
   "cell_type": "markdown",
   "id": "34c0b358-900e-4151-afd9-dfe7def3750d",
   "metadata": {},
   "source": [
    "Exercise 4.2 Write code that can compute the surface of circle,\n",
    "using the variables radius and pi = 3.14159. The formula,\n",
    "in case you do not know, is radius times radius times pi.\n",
    "Print the outcome of your program as follows: “The surface area of a circle with radius ... is ...\""
   ]
  },
  {
   "cell_type": "code",
   "execution_count": 16,
   "id": "3398363e-416c-4180-80f9-7189f8fc9aae",
   "metadata": {},
   "outputs": [
    {
     "name": "stdout",
     "output_type": "stream",
     "text": [
      "The surface area of a circle with radius 5  is  78.53975\n"
     ]
    }
   ],
   "source": [
    "radius = 5\n",
    "pi = 3.14159\n",
    "surface_circle = radius * radius * pi\n",
    "print(\"The surface area of a circle with radius\", radius,\" is \",surface_circle)"
   ]
  },
  {
   "cell_type": "markdown",
   "id": "2e6b7954-39ed-426b-b856-f6974d46e48b",
   "metadata": {},
   "source": [
    "Exercise 4.3 Write code that classifies a given amount of money (which you store in a variable named amount), specified in cents, as greater monetary units. Your code lists the monetary equivalent in dollars (100 ct), quarters (25 ct), dimes (10 ct), nickels (5 ct), and pennies (1 ct). Your program should report the maximum number of dollars that fit in the amount, then the maximum number of quarters that fit in the remainder after you subtract the dollars, then the maximum number of dimes that fit in the remainder after you subtract the dollars and quarters, and so on for nickels and pennies. The result is that you express the amount as the minimum number of coins needed."
   ]
  },
  {
   "cell_type": "code",
   "execution_count": 18,
   "id": "455cf02c-13a9-43c1-ac1f-9e9b92152187",
   "metadata": {},
   "outputs": [
    {
     "name": "stdout",
     "output_type": "stream",
     "text": [
      "dollars:  2 quarters:  1 dimes:  2 nickels:  0 pennies:  0\n"
     ]
    }
   ],
   "source": [
    "money_in_cents = 245\n",
    "dollars = money_in_cents//100\n",
    "rest_dollars = money_in_cents%100\n",
    "quarters = rest_dollars//25\n",
    "rest_quarters = rest_dollars%25\n",
    "dimes = rest_quarters//10\n",
    "rest_dimes = rest_quarters%10\n",
    "nickels = rest_dimes//5\n",
    "rest_nickels = rest_dimes%5\n",
    "pennies = rest_nickels\n",
    "\n",
    "print('dollars: ',dollars,'quarters: ',quarters,'dimes: ',dimes,'nickels: ',nickels,'pennies: ',pennies)"
   ]
  },
  {
   "cell_type": "markdown",
   "id": "09cfec93-7c13-44af-a432-0f914ab31d1f",
   "metadata": {},
   "source": [
    "Exercise 4.4 Can you think of a way to swap the values of two variables that does not need a third variable as a temporary storage? In the code block below, try to implement the swapping of the values of a and b without using a third variable. To help you out, the first step to do this is already given. You just need to add two more lines of code."
   ]
  },
  {
   "cell_type": "code",
   "execution_count": 19,
   "id": "03aca448-e7cb-4257-8128-05d6b8949150",
   "metadata": {},
   "outputs": [
    {
     "name": "stdout",
     "output_type": "stream",
     "text": [
      "a = 17 and b = 23\n"
     ]
    }
   ],
   "source": [
    "a = 17\n",
    "b = 23\n",
    "print( \"a =\", a, \"and b =\", b )\n",
    "a += b\n",
    "# add two more lines of code here to cause swapping of a and b print( \"a =\", a, \"and b =\", b )"
   ]
  },
  {
   "cell_type": "code",
   "execution_count": null,
   "id": "1e57110b-a1c2-4634-92fa-dd56141aa62a",
   "metadata": {},
   "outputs": [],
   "source": [
    "a = 17\n",
    "b = 23\n",
    "print( \"a =\", a, \"and b =\", b )\n",
    "a += b\n",
    "# add two more lines of code here to cause swapping of a and b print( \"a =\", a, \"and b =\", b )"
   ]
  }
 ],
 "metadata": {
  "kernelspec": {
   "display_name": "Python 3 (ipykernel)",
   "language": "python",
   "name": "python3"
  },
  "language_info": {
   "codemirror_mode": {
    "name": "ipython",
    "version": 3
   },
   "file_extension": ".py",
   "mimetype": "text/x-python",
   "name": "python",
   "nbconvert_exporter": "python",
   "pygments_lexer": "ipython3",
   "version": "3.12.1"
  }
 },
 "nbformat": 4,
 "nbformat_minor": 5
}
